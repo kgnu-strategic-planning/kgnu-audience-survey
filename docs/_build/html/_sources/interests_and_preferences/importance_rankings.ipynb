{
 "cells": [
  {
   "cell_type": "markdown",
   "id": "465111f4-5818-4744-b6a1-492b545094b1",
   "metadata": {
    "tags": []
   },
   "source": [
    "# Programming Preferences Rankings\n",
    "\n",
    "In this section programming preferences are ranked in order of how important they were rated"
   ]
  },
  {
   "cell_type": "code",
   "execution_count": null,
   "id": "0507b3e5-b554-482f-9449-8600212bf9d3",
   "metadata": {
    "tags": [
     "remove-input"
    ]
   },
   "outputs": [],
   "source": [
    "import pandas as pd\n",
    "import numpy as npb\n",
    "import matplotlib.pyplot as plt\n",
    "from pylab import MaxNLocator\n",
    "from IPython.display import display, Markdown\n",
    "from functions import *"
   ]
  },
  {
   "cell_type": "code",
   "execution_count": null,
   "id": "b1d5ec47-4ce8-4faf-bfbc-558befec5e2f",
   "metadata": {
    "tags": [
     "remove-input"
    ]
   },
   "outputs": [],
   "source": [
    "df = pd.read_excel('KGNU-Member-Data-07.15.22.xlsx', sheet_name='English') "
   ]
  },
  {
   "cell_type": "markdown",
   "id": "9883ce13-3e10-4181-b7c1-b472e0bb2687",
   "metadata": {},
   "source": [
    "## All Respondents"
   ]
  },
  {
   "cell_type": "code",
   "execution_count": null,
   "id": "fc0bcd65-8ab9-416a-b82b-610a74cb239d",
   "metadata": {
    "tags": [
     "remove-input"
    ]
   },
   "outputs": [],
   "source": [
    "create_ranked_table_of_importances(df, 'all_respondents', '', 'Filter: None')"
   ]
  },
  {
   "cell_type": "markdown",
   "id": "540832e6-1513-4860-930c-024f5d963375",
   "metadata": {},
   "source": [
    "## By Age"
   ]
  },
  {
   "cell_type": "markdown",
   "id": "3b632be5-5a22-4221-995a-130f81109717",
   "metadata": {
    "tags": []
   },
   "source": [
    "### Ages 0 - 18"
   ]
  },
  {
   "cell_type": "code",
   "execution_count": null,
   "id": "22b42e35-48fe-4062-8915-618175989c1d",
   "metadata": {
    "tags": [
     "remove-input"
    ]
   },
   "outputs": [],
   "source": [
    "create_ranked_table_of_importances(df, 'Age', 1, 'Filter: Ages 0 - 18')"
   ]
  },
  {
   "cell_type": "markdown",
   "id": "65c73779-eec0-49a7-a8a5-38a23b4785c2",
   "metadata": {
    "tags": []
   },
   "source": [
    "### Ages 19 - 30"
   ]
  },
  {
   "cell_type": "code",
   "execution_count": null,
   "id": "c722c0a6-2f5e-4c13-86aa-626ffd17a4e7",
   "metadata": {
    "tags": [
     "remove-input"
    ]
   },
   "outputs": [],
   "source": [
    "create_ranked_table_of_importances(df, 'Age', 2, 'Filter: Ages 19 - 30')"
   ]
  },
  {
   "cell_type": "markdown",
   "id": "e930ff99-259b-403f-aa92-e277d7b49ae5",
   "metadata": {
    "tags": []
   },
   "source": [
    "### Ages 31 - 45"
   ]
  },
  {
   "cell_type": "code",
   "execution_count": null,
   "id": "7723d119-532c-4933-9bb6-9d99b4325179",
   "metadata": {
    "tags": [
     "remove-input"
    ]
   },
   "outputs": [],
   "source": [
    "create_ranked_table_of_importances(df, 'Age', 3, 'Filter: Ages 31 - 45')"
   ]
  },
  {
   "cell_type": "markdown",
   "id": "b62fad1c-1a7c-4319-a3e8-d963a57ba734",
   "metadata": {
    "tags": []
   },
   "source": [
    "### Ages 46 - 65"
   ]
  },
  {
   "cell_type": "code",
   "execution_count": null,
   "id": "ba131d4e-3a98-4ebe-a41a-5343ff9cc431",
   "metadata": {
    "tags": [
     "remove-input"
    ]
   },
   "outputs": [],
   "source": [
    "create_ranked_table_of_importances(df, 'Age', 4, 'Filter: Ages 46 - 65')"
   ]
  },
  {
   "cell_type": "markdown",
   "id": "5c517030-8577-4524-9cff-82548d4bcf8e",
   "metadata": {
    "tags": []
   },
   "source": [
    "### Ages 66+"
   ]
  },
  {
   "cell_type": "code",
   "execution_count": null,
   "id": "cc5907ea-d0cc-4a05-a41a-5a207aeca277",
   "metadata": {
    "tags": [
     "remove-input"
    ]
   },
   "outputs": [],
   "source": [
    "create_ranked_table_of_importances(df, 'Age', 5, 'Filter: Ages 65+')"
   ]
  },
  {
   "cell_type": "markdown",
   "id": "382c2009-1e4e-486b-91ce-dfb48a9b7e3e",
   "metadata": {
    "tags": []
   },
   "source": [
    "## By County"
   ]
  },
  {
   "cell_type": "markdown",
   "id": "9f56a511-51b3-49e5-9998-89ffe7f6d273",
   "metadata": {
    "tags": []
   },
   "source": [
    "### Boulder County"
   ]
  },
  {
   "cell_type": "code",
   "execution_count": null,
   "id": "4dca8d45-71dd-4fa2-8b13-fd661587b646",
   "metadata": {
    "tags": [
     "remove-input"
    ]
   },
   "outputs": [],
   "source": [
    "create_ranked_table_of_importances(df, 'County', 'Boulder', 'Filter: Boulder County')"
   ]
  },
  {
   "cell_type": "markdown",
   "id": "857a9142-259b-47d2-a898-98c3477a6ec2",
   "metadata": {
    "tags": []
   },
   "source": [
    "### Denver County"
   ]
  },
  {
   "cell_type": "code",
   "execution_count": null,
   "id": "1d4c5e7a-223d-44b4-a23e-f81b2ed063e2",
   "metadata": {
    "tags": [
     "remove-input"
    ]
   },
   "outputs": [],
   "source": [
    "create_ranked_table_of_importances(df, 'County', 'Denver', 'Filter: Denver County')"
   ]
  },
  {
   "cell_type": "markdown",
   "id": "626d3940-6396-41e7-97da-3aa975f55a76",
   "metadata": {
    "tags": []
   },
   "source": [
    "### Jefferson County"
   ]
  },
  {
   "cell_type": "code",
   "execution_count": null,
   "id": "d5fe2e95-33c2-4e08-a236-dc29a114ba62",
   "metadata": {
    "tags": [
     "remove-input"
    ]
   },
   "outputs": [],
   "source": [
    "create_ranked_table_of_importances(df, 'County', 'Jefferson', 'Filter: Jefferson County')"
   ]
  },
  {
   "cell_type": "markdown",
   "id": "093800d4-0b36-49c3-a17e-7d4ce6660959",
   "metadata": {
    "tags": []
   },
   "source": [
    "### Arapahoe County"
   ]
  },
  {
   "cell_type": "code",
   "execution_count": null,
   "id": "46f71cbb-d5f5-4fd3-87d5-929fecc7a6ed",
   "metadata": {
    "tags": [
     "remove-input"
    ]
   },
   "outputs": [],
   "source": [
    "create_ranked_table_of_importances(df, 'County', 'Arapahoe', 'Filter: Arapahoe County')"
   ]
  },
  {
   "cell_type": "markdown",
   "id": "879e64cb-a3da-4e58-a8dc-7f92ca51b0a5",
   "metadata": {
    "tags": []
   },
   "source": [
    "### Adams County"
   ]
  },
  {
   "cell_type": "code",
   "execution_count": null,
   "id": "0832da6f-a9cf-44db-8caf-ec46f62bb5eb",
   "metadata": {
    "tags": [
     "remove-input"
    ]
   },
   "outputs": [],
   "source": [
    "create_ranked_table_of_importances(df, 'County', 'Adams', 'Filter: Adams County')"
   ]
  },
  {
   "cell_type": "markdown",
   "id": "0854ac11-107d-4713-a05d-aa2fb9f9faf9",
   "metadata": {
    "tags": []
   },
   "source": [
    "### Larimer County"
   ]
  },
  {
   "cell_type": "code",
   "execution_count": null,
   "id": "48f8486a-12ff-4fa6-b428-f8e21a8f423d",
   "metadata": {
    "tags": [
     "remove-input"
    ]
   },
   "outputs": [],
   "source": [
    "create_ranked_table_of_importances(df, 'County', 'Larimer', 'Filter: Larimer County')"
   ]
  },
  {
   "cell_type": "markdown",
   "id": "9ce0e586-8ba5-41ce-b2b0-b0b546f6ae31",
   "metadata": {
    "tags": []
   },
   "source": [
    "### Weld County"
   ]
  },
  {
   "cell_type": "code",
   "execution_count": null,
   "id": "77c3d1bd-3ed5-47fb-abfc-a122625d5b47",
   "metadata": {
    "tags": [
     "remove-input"
    ]
   },
   "outputs": [],
   "source": [
    "create_ranked_table_of_importances(df, 'County', 'Weld', 'Filter: Weld County')"
   ]
  },
  {
   "cell_type": "markdown",
   "id": "4befb4d0-89e4-4d3b-8236-f2dea98a9000",
   "metadata": {
    "tags": []
   },
   "source": [
    "### Douglas County"
   ]
  },
  {
   "cell_type": "code",
   "execution_count": null,
   "id": "f91c2c84-8308-4ccb-ad5c-71b065435480",
   "metadata": {
    "tags": [
     "remove-input"
    ]
   },
   "outputs": [],
   "source": [
    "create_ranked_table_of_importances(df, 'County', 'Douglas', 'Filter: Douglas County')"
   ]
  },
  {
   "cell_type": "markdown",
   "id": "cbe6aa38-963f-490e-96fb-d9553c77f1ed",
   "metadata": {
    "tags": []
   },
   "source": [
    "### Broomfield County"
   ]
  },
  {
   "cell_type": "code",
   "execution_count": null,
   "id": "4ee33bde-5e37-4ddd-93a4-9e10120e1a46",
   "metadata": {
    "tags": [
     "remove-input"
    ]
   },
   "outputs": [],
   "source": [
    "create_ranked_table_of_importances(df, 'County', 'Broomfield', 'Filter: Broomfield County')"
   ]
  },
  {
   "cell_type": "markdown",
   "id": "edc45429-11f7-4faa-acc4-c60d0b7e6ff4",
   "metadata": {
    "tags": []
   },
   "source": [
    "### All Other Counties"
   ]
  },
  {
   "cell_type": "code",
   "execution_count": null,
   "id": "bdd58c64-936e-496f-88b1-c6cc6821737e",
   "metadata": {
    "tags": [
     "remove-input"
    ]
   },
   "outputs": [],
   "source": [
    "create_ranked_table_of_importances(df, 'other_counties', '', 'Filter: All Other Counties')"
   ]
  },
  {
   "cell_type": "markdown",
   "id": "6ea9226d-d21e-441d-b6a1-1d3876486706",
   "metadata": {},
   "source": [
    "## By Race"
   ]
  },
  {
   "cell_type": "markdown",
   "id": "7bf27cb4-cdc4-4b4f-b757-80ab925d16c6",
   "metadata": {
    "tags": []
   },
   "source": [
    "### Black or African American"
   ]
  },
  {
   "cell_type": "code",
   "execution_count": null,
   "id": "7b04b2a5-c276-473e-a851-9ba9b02916a8",
   "metadata": {
    "tags": [
     "remove-input"
    ]
   },
   "outputs": [],
   "source": [
    "create_ranked_table_of_importances(df, 'You_Are', 'Black or African American', 'Filter: Black or African American')"
   ]
  },
  {
   "cell_type": "markdown",
   "id": "538ad1b1-edb6-4385-bbb6-6b5cfc6ca1c4",
   "metadata": {
    "tags": []
   },
   "source": [
    "### Hispanic, Latino, Chicano"
   ]
  },
  {
   "cell_type": "code",
   "execution_count": null,
   "id": "1c435729-028f-4b1a-9661-41c635bf4af0",
   "metadata": {
    "tags": [
     "remove-input"
    ]
   },
   "outputs": [],
   "source": [
    "create_ranked_table_of_importances(df, 'You_Are', 'Hispanic, Latino/a/x, Chicano/a/x', 'Filter: Hispanic, Latino, Chicano')"
   ]
  },
  {
   "cell_type": "markdown",
   "id": "aed31b38-ec7f-426c-bc7b-4e05f95fe718",
   "metadata": {
    "tags": []
   },
   "source": [
    "### Middle Eastern or Arab"
   ]
  },
  {
   "cell_type": "code",
   "execution_count": null,
   "id": "8812d41f-83de-4018-9c9e-550d676f869b",
   "metadata": {
    "tags": [
     "remove-input"
    ]
   },
   "outputs": [],
   "source": [
    "create_ranked_table_of_importances(df, 'You_Are', 'Middle Eastern or Arab', 'Filter: Middle Eastern or Arab')"
   ]
  },
  {
   "cell_type": "markdown",
   "id": "6aff8abb-0d82-4048-852c-242d558937a3",
   "metadata": {
    "tags": []
   },
   "source": [
    "### Native American or Native Alaskan"
   ]
  },
  {
   "cell_type": "code",
   "execution_count": null,
   "id": "a32ad7e7-0d76-4336-b993-f5f359ee56db",
   "metadata": {
    "tags": [
     "remove-input"
    ]
   },
   "outputs": [],
   "source": [
    "create_ranked_table_of_importances(df, 'You_Are', 'Native American or Native Alaskan', 'Filter: Native American or Native Alaskan')"
   ]
  },
  {
   "cell_type": "markdown",
   "id": "c63d37af-885e-4871-833d-55b945b1f1b3",
   "metadata": {
    "tags": []
   },
   "source": [
    "### Native Hawaiian or Pacific Islander"
   ]
  },
  {
   "cell_type": "code",
   "execution_count": null,
   "id": "7d5b81c6-729b-47a7-b447-3df261a4f181",
   "metadata": {
    "tags": [
     "remove-input"
    ]
   },
   "outputs": [],
   "source": [
    "create_ranked_table_of_importances(df, 'You_Are', 'Native Hawaiian or Pacific Islander', 'Filter: Native Hawaiian or Pacific Islander')"
   ]
  },
  {
   "cell_type": "markdown",
   "id": "a23094d2-d057-46e8-bcfb-b3a362dcae6a",
   "metadata": {
    "tags": []
   },
   "source": [
    "### Prefer not to say"
   ]
  },
  {
   "cell_type": "code",
   "execution_count": null,
   "id": "7d677cb5-812c-4c03-95c6-6fdc8727a789",
   "metadata": {
    "tags": [
     "remove-input"
    ]
   },
   "outputs": [],
   "source": [
    "create_ranked_table_of_importances(df, 'You_Are', 'Prefer not to say', 'Filter: Prefer not to say')"
   ]
  },
  {
   "cell_type": "markdown",
   "id": "3306244e-4dc8-4b30-9d99-d6295e32f549",
   "metadata": {
    "tags": []
   },
   "source": [
    "### Prefer to self identify"
   ]
  },
  {
   "cell_type": "code",
   "execution_count": null,
   "id": "1e33e3e3-3374-4cda-85b7-dae48d05db84",
   "metadata": {
    "tags": [
     "remove-input"
    ]
   },
   "outputs": [],
   "source": [
    "create_ranked_table_of_importances(df, 'You_Are', 'Prefer to self identify:', 'Filter: Prefer to self identify')"
   ]
  },
  {
   "cell_type": "markdown",
   "id": "90ad8fef-9dc5-4c1e-bab5-5797cd4cce0f",
   "metadata": {
    "tags": []
   },
   "source": [
    "### White"
   ]
  },
  {
   "cell_type": "code",
   "execution_count": null,
   "id": "8834a875-6098-4db3-bbd9-d2b76af3bd75",
   "metadata": {
    "tags": [
     "remove-input"
    ]
   },
   "outputs": [],
   "source": [
    "create_ranked_table_of_importances(df, 'You_Are', 'White', 'Filter: White')"
   ]
  },
  {
   "cell_type": "code",
   "execution_count": null,
   "id": "f50ee0d3-8f0a-44da-a5ce-619461efdb8d",
   "metadata": {},
   "outputs": [],
   "source": []
  }
 ],
 "metadata": {
  "kernelspec": {
   "display_name": "Python 3 (ipykernel)",
   "language": "python",
   "name": "python3"
  },
  "language_info": {
   "codemirror_mode": {
    "name": "ipython",
    "version": 3
   },
   "file_extension": ".py",
   "mimetype": "text/x-python",
   "name": "python",
   "nbconvert_exporter": "python",
   "pygments_lexer": "ipython3",
   "version": "3.9.12"
  }
 },
 "nbformat": 4,
 "nbformat_minor": 5
}
