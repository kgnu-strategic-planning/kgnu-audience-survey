{
 "cells": [
  {
   "cell_type": "markdown",
   "id": "1294f99c-9e44-40be-877a-e2043a0c0d4b",
   "metadata": {
    "tags": []
   },
   "source": [
    "# Importance Preferences\n",
    "\n",
    "In this section we look for correlations between what respondents consider 'Important' categories of programming and examine which\n",
    "Media Outlets they use on a regular basis to obtain such programming."
   ]
  },
  {
   "cell_type": "code",
   "execution_count": null,
   "id": "8d0931a2-b154-479f-af41-ee905e3f3184",
   "metadata": {
    "tags": [
     "remove-input"
    ]
   },
   "outputs": [],
   "source": [
    "import pandas as pd\n",
    "import numpy as np\n",
    "import matplotlib.pyplot as plt\n",
    "from pylab import MaxNLocator\n",
    "from IPython.display import display, Markdown\n",
    "from functions import *"
   ]
  },
  {
   "cell_type": "code",
   "execution_count": null,
   "id": "bb79204a-c894-4b66-bad7-36ca7eec5d25",
   "metadata": {
    "tags": [
     "remove-input"
    ]
   },
   "outputs": [],
   "source": [
    "df = pd.read_excel('KGNU-Member-Data-06.14.22.xlsx', sheet_name='English') "
   ]
  },
  {
   "cell_type": "markdown",
   "id": "022c4300-f62d-4d27-90b5-724a8648c81c",
   "metadata": {
    "tags": []
   },
   "source": [
    "## Local News"
   ]
  },
  {
   "cell_type": "code",
   "execution_count": null,
   "id": "30384fb3-8cc6-4132-a421-732a3f400fbd",
   "metadata": {
    "tags": [
     "remove-input"
    ]
   },
   "outputs": [],
   "source": [
    " create_regular_outlet_users_by_importance_preference(df, 'Local_News_Importance', 'Local News')"
   ]
  },
  {
   "cell_type": "markdown",
   "id": "336c4469-90f7-4de9-a1ba-53331070ab2b",
   "metadata": {},
   "source": [
    "## Weather Reports"
   ]
  },
  {
   "cell_type": "code",
   "execution_count": null,
   "id": "6ca0b2aa-3811-4fe6-bdbc-6d71038ee2bd",
   "metadata": {
    "tags": [
     "remove-input"
    ]
   },
   "outputs": [],
   "source": [
    " create_regular_outlet_users_by_importance_preference(df, 'Weather_Importance', 'Weather Reports')"
   ]
  },
  {
   "cell_type": "markdown",
   "id": "a4e9272a-668b-44c4-b327-8f7dfb96317f",
   "metadata": {},
   "source": [
    "## Traffic Reports"
   ]
  },
  {
   "cell_type": "code",
   "execution_count": null,
   "id": "1eb0aa2f-9c28-402e-a530-53ee3f593554",
   "metadata": {
    "tags": [
     "remove-input"
    ]
   },
   "outputs": [],
   "source": [
    " create_regular_outlet_users_by_importance_preference(df, 'Traffic_Reports_Importance', 'Traffic Reports')"
   ]
  },
  {
   "cell_type": "markdown",
   "id": "b2823329-b797-4ec0-83ba-0da18386ac9e",
   "metadata": {},
   "source": [
    "## Music Programming"
   ]
  },
  {
   "cell_type": "code",
   "execution_count": null,
   "id": "7acddd0e-10e7-408e-8dcc-b8bcaaf7f7f4",
   "metadata": {
    "tags": [
     "remove-input"
    ]
   },
   "outputs": [],
   "source": [
    " create_regular_outlet_users_by_importance_preference(df, 'Music_Programming_Importance', 'Music Programming')"
   ]
  },
  {
   "cell_type": "markdown",
   "id": "2b6727b8-7e25-432a-9aaf-3ff5e35e795b",
   "metadata": {},
   "source": [
    "## National News"
   ]
  },
  {
   "cell_type": "code",
   "execution_count": null,
   "id": "ff3df42e-570b-4c99-9eee-1420cbfb01c8",
   "metadata": {
    "tags": [
     "remove-input"
    ]
   },
   "outputs": [],
   "source": [
    " create_regular_outlet_users_by_importance_preference(df, 'National_news_Importance', 'National News')"
   ]
  },
  {
   "cell_type": "markdown",
   "id": "68e2f5f8-874d-402c-b234-62ddce89375c",
   "metadata": {},
   "source": [
    "## International News"
   ]
  },
  {
   "cell_type": "code",
   "execution_count": null,
   "id": "b3c46f54-f4d7-4c7c-bb36-ba4cb35d3efe",
   "metadata": {
    "tags": [
     "remove-input"
    ]
   },
   "outputs": [],
   "source": [
    " create_regular_outlet_users_by_importance_preference(df, 'International_news_Importance', 'International News')"
   ]
  },
  {
   "cell_type": "markdown",
   "id": "4c3af012-55bb-49d6-a082-d59098f56bc3",
   "metadata": {},
   "source": [
    "## Breaking News Bulletins"
   ]
  },
  {
   "cell_type": "code",
   "execution_count": null,
   "id": "df496508-9a6b-434e-a152-3dea4e88c960",
   "metadata": {
    "tags": [
     "remove-input"
    ]
   },
   "outputs": [],
   "source": [
    " create_regular_outlet_users_by_importance_preference(df, 'Breaking_news_bulletins_Importance', 'Breaking News Bulletins')"
   ]
  },
  {
   "cell_type": "markdown",
   "id": "288bdba9-1e9e-4798-b9a9-66f452fee8aa",
   "metadata": {},
   "source": [
    "## Community Events"
   ]
  },
  {
   "cell_type": "code",
   "execution_count": null,
   "id": "8d71c918-149a-4cb6-b628-46bdd5dd2efe",
   "metadata": {
    "tags": [
     "remove-input"
    ]
   },
   "outputs": [],
   "source": [
    " create_regular_outlet_users_by_importance_preference(df, 'Community_Events_Importance', 'Community Events')"
   ]
  },
  {
   "cell_type": "markdown",
   "id": "ef9f57a5-e98a-41fc-8dbd-85f50730e62e",
   "metadata": {},
   "source": [
    "## Local Government Coverage"
   ]
  },
  {
   "cell_type": "code",
   "execution_count": null,
   "id": "15cc4f6c-7d04-4947-bec0-1ba4d612f212",
   "metadata": {
    "tags": [
     "remove-input"
    ]
   },
   "outputs": [],
   "source": [
    " create_regular_outlet_users_by_importance_preference(df, 'Local_Government_Coverage_Importance', 'Local Government Coverage')"
   ]
  },
  {
   "cell_type": "markdown",
   "id": "2a762f92-46f5-4a32-92fc-d879fa67b85b",
   "metadata": {
    "tags": []
   },
   "source": [
    "## Political Analysis"
   ]
  },
  {
   "cell_type": "code",
   "execution_count": null,
   "id": "ecf0ee57-6f2f-483c-abfb-8ff9bacb22e9",
   "metadata": {
    "tags": [
     "remove-input"
    ]
   },
   "outputs": [],
   "source": [
    " create_regular_outlet_users_by_importance_preference(df, 'Political_Analysis_Importance', 'Political Analysis')"
   ]
  },
  {
   "cell_type": "markdown",
   "id": "fcc81482-75f1-41d8-bf7f-e8db02a972a7",
   "metadata": {},
   "source": [
    "## Local Public Affairs"
   ]
  },
  {
   "cell_type": "code",
   "execution_count": null,
   "id": "255c8171-dea9-4c7f-adcf-21222a77842e",
   "metadata": {
    "tags": [
     "remove-input"
    ]
   },
   "outputs": [],
   "source": [
    " create_regular_outlet_users_by_importance_preference(df, 'Local_Public_Affairs_Importance', 'Local Public Affairs')"
   ]
  }
 ],
 "metadata": {
  "kernelspec": {
   "display_name": "Python 3 (ipykernel)",
   "language": "python",
   "name": "python3"
  },
  "language_info": {
   "codemirror_mode": {
    "name": "ipython",
    "version": 3
   },
   "file_extension": ".py",
   "mimetype": "text/x-python",
   "name": "python",
   "nbconvert_exporter": "python",
   "pygments_lexer": "ipython3",
   "version": "3.9.12"
  }
 },
 "nbformat": 4,
 "nbformat_minor": 5
}
