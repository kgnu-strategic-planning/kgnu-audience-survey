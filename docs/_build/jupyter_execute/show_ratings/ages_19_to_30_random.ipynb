{
 "cells": [
  {
   "cell_type": "markdown",
   "id": "dfaf65cf-d28a-4318-ae1d-8ca4b3a872dc",
   "metadata": {
    "tags": []
   },
   "source": [
    "# Ages 19 - 30 - Random"
   ]
  },
  {
   "cell_type": "code",
   "execution_count": 1,
   "id": "ab93d92e-91be-462b-94f1-a3c7204ed4ba",
   "metadata": {
    "tags": [
     "remove-input"
    ]
   },
   "outputs": [],
   "source": [
    "import pandas as pd\n",
    "import numpy as np\n",
    "import matplotlib.pyplot as plt\n",
    "from pylab import MaxNLocator\n",
    "from IPython.display import display, Markdown\n",
    "from functions import *"
   ]
  },
  {
   "cell_type": "code",
   "execution_count": 2,
   "id": "57cc2418-e61f-4236-aead-8fa085b90246",
   "metadata": {
    "tags": [
     "remove-input"
    ]
   },
   "outputs": [],
   "source": [
    "df = pd.read_excel('Client Data English-07.15.22.xlsx', sheet_name='English') "
   ]
  },
  {
   "cell_type": "code",
   "execution_count": 3,
   "id": "aafb7a4e-f0d3-4fb6-8195-bce2fa443309",
   "metadata": {
    "tags": [
     "remove-input"
    ]
   },
   "outputs": [],
   "source": [
    "show_ratings_cols = df.columns.tolist()[111:191]\n",
    "#show_ratings_cols"
   ]
  },
  {
   "cell_type": "code",
   "execution_count": 4,
   "id": "1255fd0e-613f-4b0c-a4f9-358e46f3aa58",
   "metadata": {
    "tags": [
     "remove-input"
    ]
   },
   "outputs": [],
   "source": [
    "filter_col = 'Age'\n",
    "filter_col_val = 2\n",
    "filter_col_val_display = 'Filter: Ages 19 - 30'"
   ]
  },
  {
   "cell_type": "markdown",
   "id": "8fb5f022-ed52-4652-a8bf-787f17e9c627",
   "metadata": {
    "tags": []
   },
   "source": [
    "## Show Rankings"
   ]
  },
  {
   "cell_type": "code",
   "execution_count": 5,
   "id": "e75d91c6-2b08-4efc-a7dc-3ab5ffe135ba",
   "metadata": {
    "tags": [
     "remove-input"
    ]
   },
   "outputs": [
    {
     "name": "stdout",
     "output_type": "stream",
     "text": [
      "Overall      Show               #Ratings/    Median/Mean  Score   Music   News\n",
      "Ranking                        #Respondents                       Show    Show\n",
      "                                                                 Ranking Ranking\n",
      "--------------------------------------------------------------------------------\n",
      " 1    Seolta Gael                     2/2        8/8.5      17      1\n",
      " 1    Roots and Branches              2/2        8/8.5      17      1\n",
      " 1    Restless Mornings               2/2        8/8.5      17      1\n",
      " 2    Indian Voices                   2/2        8/8.0      16              1\n",
      " 2    Roots of Jazz                   2/2        8/8.0      16      2\n",
      " 2    Dusty Grooves                   2/2        8/8.0      16      2\n",
      " 2    Electronic Air                  2/2        8/8.0      16      2\n",
      " 2    OGGG                            2/2        8/8.0      16      2\n",
      " 2    Musica Mundi                    2/2        8/8.0      16      2\n",
      " 2    Jazz Lives                      2/2        8/8.0      16      2\n",
      " 3    The Heavy Set                   2/2        7/7.5      15      3\n",
      " 3    Ragtime America                 2/2        7/7.5      15      3\n",
      " 3    Col Chinese Radio Network       2/2        7/7.5      15              2\n",
      " 4    Grateful Dead                   2/2        7/7.0      14      4\n",
      " 4    E Town                          2/2        7/7.0      14      4\n",
      " 4    Blues Legacy                    2/2        7/7.0      14      4\n",
      " 5    Soundlab                        2/2        6/6.5      13      5\n",
      " 6    Swing Shift                     2/2        6/6.0      12      6\n",
      " 6    Ralph Nader                     2/2        6/6.0      12              3\n",
      " 6    A Classic Monday                2/2        6/6.0      12      6\n",
      " 7    Alternative Radio               2/2        5/5.5      11              4\n",
      " 7    The Opera Box                   2/2        5/5.5      11      7\n",
      " 8    New Dimensions                  2/2        5/5.0      10              5\n",
      " 9    Black Talk                      1/2        9/9.0       9              6\n",
      " 9    Its The Economy                 2/2        4/4.5       9              6\n",
      " 9    StoryTellers of Color           1/2        9/9.0       9              6\n",
      " 9    TRENDS                          1/2        9/9.0       9              6\n",
      " 9    Weed between                    1/2        9/9.0       9              6\n",
      " 9    Gospel Chime                    2/2        4/4.5       9      8\n",
      "10    Corriente                       1/2        8/8.0       8      9\n",
      "10    The World                       1/2        8/8.0       8              7\n",
      "10    Reggae Transfusions             1/2        8/8.0       8      9\n",
      "10    Pasa La Voz                     1/2        8/8.0       8              7\n",
      "10    Democracy Now                   1/2        8/8.0       8              7\n",
      "10    Local PM Headlines Spanish      1/2        8/8.0       8              7\n",
      "10    Naturally                       1/2        8/8.0       8              7\n",
      "10    A Public Affair                 1/2        8/8.0       8              7\n",
      "10    Dub Palace                      1/2        8/8.0       8      9\n",
      "10    MSA                             1/2        8/8.0       8      9\n",
      "10    Laura Flanders                  1/2        8/8.0       8              7\n",
      "10    Tributaries                     1/2        8/8.0       8              7\n",
      "11    Smash It Back                   1/2        7/7.0       7     10\n",
      "11    Rising Up with Sonali           1/2        7/7.0       7              8\n",
      "11    La Lucha Sigue                  1/2        7/7.0       7              8\n",
      "11    Project Censored                1/2        7/7.0       7              8\n",
      "11    Living Dialogues                1/2        7/7.0       7              8\n",
      "11    Peace Talks                     1/2        7/7.0       7              8\n",
      "11    Sleepless Nights                1/2        7/7.0       7     10\n",
      "11    Shortwave Report                1/2        7/7.0       7              8\n",
      "11    Connections                     1/2        7/7.0       7              8\n",
      "11    HTH                             1/2        7/7.0       7     10\n",
      "11    ASA                             1/2        7/7.0       7     10\n",
      "11    BBC The Newsroom                1/2        7/7.0       7              8\n",
      "11    BBC News Hour                   1/2        7/7.0       7              8\n",
      "11    Alan Watts                      1/2        7/7.0       7              8\n",
      "11    TUC Radio                       1/2        7/7.0       7              8\n",
      "11    Reggae Bloodlines               1/2        7/7.0       7     10\n",
      "11    Terrasonic                      1/2        7/7.0       7     10\n",
      "11    Eclipse                         1/2        7/7.0       7     10\n",
      "12    Sprouts                         1/2        6/6.0       6              9\n",
      "12    WINGS                           1/2        6/6.0       6              9\n",
      "12    Outsources                      1/2        6/6.0       6              9\n",
      "12    Labor Exchange                  1/2        6/6.0       6              9\n",
      "12    Between the Lines               1/2        6/6.0       6              9\n",
      "12    Counterspin                     1/2        6/6.0       6              9\n",
      "12    Present Edge                    1/2        6/6.0       6     11\n",
      "12    Making Contact                  1/2        6/6.0       6              9\n",
      "12    Linea Abierta                   1/2        6/6.0       6              9\n",
      "12    African Roots                   1/2        6/6.0       6     11\n",
      "12    How on Earth                    1/2        6/6.0       6              9\n",
      "12    Bioneers                        1/2        6/6.0       6              9\n",
      "12    Kaberet                         1/2        6/6.0       6     11\n",
      "13    Under the Floorboards           1/2        5/5.0       5     12\n",
      "13    Hemispheres                     1/2        5/5.0       5             10\n",
      "13    Economic Update                 1/2        5/5.0       5             10\n",
      "13    HWY 322                         1/2        5/5.0       5     12\n",
      "13    Jim Hightower                   1/2        5/5.0       5             10\n",
      "13    Metro                           1/2        5/5.0       5             10\n",
      "14    Metro Arts                      1/2        4/4.0       4             11\n",
      "15    Morning Magazine                0/2        0/0.0       0             12\n"
     ]
    }
   ],
   "source": [
    "create_ranked_table_of_shows(df, True, filter_col, filter_col_val, filter_col_val_display)"
   ]
  },
  {
   "cell_type": "markdown",
   "id": "bcd697e9-07bd-4ab0-bd4c-ac767690ac1b",
   "metadata": {},
   "source": [
    "## Music Shows"
   ]
  },
  {
   "cell_type": "markdown",
   "id": "6fc0218a-5f61-4673-8db7-60984765302c",
   "metadata": {
    "tags": []
   },
   "source": [
    "### A Classic Monday"
   ]
  },
  {
   "cell_type": "code",
   "execution_count": 6,
   "id": "fa50ea29-4638-473a-9cde-0f084dcbd468",
   "metadata": {
    "tags": [
     "remove-input"
    ]
   },
   "outputs": [
    {
     "data": {
      "image/png": "[encoded data removed]",
      "text/plain": [
       "<Figure size 432x288 with 1 Axes>"
      ]
     },
     "metadata": {
      "filenames": {
       "image/png": "/Users/sanfordbaran/Desktop/KGNU/KGNU-Survey-Project/kgnu-audience-survey-staging/docs/_build/jupyter_execute/show_ratings/ages_19_to_30_random_9_0.png"
      },
      "needs_background": "light"
     },
     "output_type": "display_data"
    },
    {
     "name": "stdout",
     "output_type": "stream",
     "text": [
      "Filter: Ages 19 - 30\n",
      "Total Respondents: 2\n",
      "Respondents Familiar with Show: 2\n",
      "Percent Familiar with Show: 100.0%\n",
      "Median: 6\n",
      "Mean: 6.00\n",
      "Overall Ranking: 6\n",
      "Music-Show Ranking: 6\n"
     ]
    }
   ],
   "source": [
    "create_hist_and_stats(df, filter_col, filter_col_val, filter_col_val_display, 'A_Classic_Monday_Ratings')"
   ]
  },
  {
   "cell_type": "markdown",
   "id": "2582847b-6077-496a-87ad-63d128952e93",
   "metadata": {},
   "source": [
    "### African Roots"
   ]
  },
  {
   "cell_type": "code",
   "execution_count": 7,
   "id": "ea4c060e-e0e1-443b-bf1c-cacbe51ddab0",
   "metadata": {
    "tags": [
     "remove-input"
    ]
   },
   "outputs": [
    {
     "data": {
      "image/png": "[encoded data removed]",
      "text/plain": [
       "<Figure size 432x288 with 1 Axes>"
      ]
     },
     "metadata": {
      "filenames": {
       "image/png": "/Users/sanfordbaran/Desktop/KGNU/KGNU-Survey-Project/kgnu-audience-survey-staging/docs/_build/jupyter_execute/show_ratings/ages_19_to_30_random_11_0.png"
      },
      "needs_background": "light"
     },
     "output_type": "display_data"
    },
    {
     "name": "stdout",
     "output_type": "stream",
     "text": [
      "Filter: Ages 19 - 30\n",
      "Total Respondents: 2\n",
      "Respondents Familiar with Show: 1\n",
      "Percent Familiar with Show: 50.0%\n",
      "Median: 6\n",
      "Mean: 6.00\n",
      "Overall Ranking: 12\n",
      "Music-Show Ranking: 11\n"
     ]
    }
   ],
   "source": [
    "create_hist_and_stats(df, filter_col, filter_col_val, filter_col_val_display, 'African_Roots_Ratings')"
   ]
  },
  {
   "cell_type": "markdown",
   "id": "135ad1fe-98d7-4308-8cc7-8ff8fa31359c",
   "metadata": {},
   "source": [
    "### Afternoon Sound Alternative"
   ]
  },
  {
   "cell_type": "code",
   "execution_count": 8,
   "id": "483ad56a-25ce-4105-b1ec-ea7f8d4921d5",
   "metadata": {
    "tags": [
     "remove-input"
    ]
   },
   "outputs": [
    {
     "data": {
      "image/png": "[encoded data removed]",
      "text/plain": [
       "<Figure size 432x288 with 1 Axes>"
      ]
     },
     "metadata": {
      "filenames": {
       "image/png": "/Users/sanfordbaran/Desktop/KGNU/KGNU-Survey-Project/kgnu-audience-survey-staging/docs/_build/jupyter_execute/show_ratings/ages_19_to_30_random_13_0.png"
      },
      "needs_background": "light"
     },
     "output_type": "display_data"
    },
    {
     "name": "stdout",
     "output_type": "stream",
     "text": [
      "Filter: Ages 19 - 30\n",
      "Total Respondents: 2\n",
      "Respondents Familiar with Show: 1\n",
      "Percent Familiar with Show: 50.0%\n",
      "Median: 7\n",
      "Mean: 7.00\n",
      "Overall Ranking: 11\n",
      "Music-Show Ranking: 10\n"
     ]
    }
   ],
   "source": [
    "create_hist_and_stats(df, filter_col, filter_col_val, filter_col_val_display, 'ASA_Ratings')"
   ]
  },
  {
   "cell_type": "markdown",
   "id": "7b8b25f5-1f41-40a9-835c-0a6f42c300e1",
   "metadata": {},
   "source": [
    "### Blues Legacy"
   ]
  },
  {
   "cell_type": "code",
   "execution_count": 9,
   "id": "0a45a7f0-660a-4738-a88b-f03b6e706aba",
   "metadata": {
    "tags": [
     "remove-input"
    ]
   },
   "outputs": [
    {
     "data": {
      "image/png": "[encoded data removed]",
      "text/plain": [
       "<Figure size 432x288 with 1 Axes>"
      ]
     },
     "metadata": {
      "filenames": {
       "image/png": "/Users/sanfordbaran/Desktop/KGNU/KGNU-Survey-Project/kgnu-audience-survey-staging/docs/_build/jupyter_execute/show_ratings/ages_19_to_30_random_15_0.png"
      },
      "needs_background": "light"
     },
     "output_type": "display_data"
    },
    {
     "name": "stdout",
     "output_type": "stream",
     "text": [
      "Filter: Ages 19 - 30\n",
      "Total Respondents: 2\n",
      "Respondents Familiar with Show: 2\n",
      "Percent Familiar with Show: 100.0%\n",
      "Median: 7\n",
      "Mean: 7.00\n",
      "Overall Ranking: 4\n",
      "Music-Show Ranking: 4\n"
     ]
    }
   ],
   "source": [
    "create_hist_and_stats(df, filter_col, filter_col_val, filter_col_val_display, 'Blues_Legacy_Ratings')"
   ]
  },
  {
   "cell_type": "markdown",
   "id": "879fdb78-0749-43e6-8702-921f1edebb60",
   "metadata": {
    "tags": []
   },
   "source": [
    "### Corriente"
   ]
  },
  {
   "cell_type": "code",
   "execution_count": 10,
   "id": "a86f3bde-61fd-46ba-af7c-aefb67c7e456",
   "metadata": {
    "tags": [
     "remove-input"
    ]
   },
   "outputs": [
    {
     "data": {
      "image/png": "[encoded data removed]",
      "text/plain": [
       "<Figure size 432x288 with 1 Axes>"
      ]
     },
     "metadata": {
      "filenames": {
       "image/png": "/Users/sanfordbaran/Desktop/KGNU/KGNU-Survey-Project/kgnu-audience-survey-staging/docs/_build/jupyter_execute/show_ratings/ages_19_to_30_random_17_0.png"
      },
      "needs_background": "light"
     },
     "output_type": "display_data"
    },
    {
     "name": "stdout",
     "output_type": "stream",
     "text": [
      "Filter: Ages 19 - 30\n",
      "Total Respondents: 2\n",
      "Respondents Familiar with Show: 1\n",
      "Percent Familiar with Show: 50.0%\n",
      "Median: 8\n",
      "Mean: 8.00\n",
      "Overall Ranking: 10\n",
      "Music-Show Ranking: 9\n"
     ]
    }
   ],
   "source": [
    "create_hist_and_stats(df, filter_col, filter_col_val, filter_col_val_display, 'Corriente_Ratings')"
   ]
  },
  {
   "cell_type": "markdown",
   "id": "943c1ec1-1cdd-4039-95d9-92af9509137c",
   "metadata": {},
   "source": [
    "### Dub Palace"
   ]
  },
  {
   "cell_type": "code",
   "execution_count": 11,
   "id": "4e2d7bd8-a3e6-4d10-8403-1bcd1fc1235a",
   "metadata": {
    "tags": [
     "remove-input"
    ]
   },
   "outputs": [
    {
     "data": {
      "image/png": "[encoded data removed]",
      "text/plain": [
       "<Figure size 432x288 with 1 Axes>"
      ]
     },
     "metadata": {
      "filenames": {
       "image/png": "/Users/sanfordbaran/Desktop/KGNU/KGNU-Survey-Project/kgnu-audience-survey-staging/docs/_build/jupyter_execute/show_ratings/ages_19_to_30_random_19_0.png"
      },
      "needs_background": "light"
     },
     "output_type": "display_data"
    },
    {
     "name": "stdout",
     "output_type": "stream",
     "text": [
      "Filter: Ages 19 - 30\n",
      "Total Respondents: 2\n",
      "Respondents Familiar with Show: 1\n",
      "Percent Familiar with Show: 50.0%\n",
      "Median: 8\n",
      "Mean: 8.00\n",
      "Overall Ranking: 10\n",
      "Music-Show Ranking: 9\n"
     ]
    }
   ],
   "source": [
    "create_hist_and_stats(df, filter_col, filter_col_val, filter_col_val_display, 'Dub_Palace_Ratings')"
   ]
  },
  {
   "cell_type": "markdown",
   "id": "0cb0562e-01c5-4c2c-ab78-28bee3cecb19",
   "metadata": {},
   "source": [
    "### Dusty Grooves"
   ]
  },
  {
   "cell_type": "code",
   "execution_count": 12,
   "id": "6b86161a-d05f-4555-a778-13f9374eb943",
   "metadata": {
    "tags": [
     "remove-input"
    ]
   },
   "outputs": [
    {
     "data": {
      "image/png": "[encoded data removed]",
      "text/plain": [
       "<Figure size 432x288 with 1 Axes>"
      ]
     },
     "metadata": {
      "filenames": {
       "image/png": "/Users/sanfordbaran/Desktop/KGNU/KGNU-Survey-Project/kgnu-audience-survey-staging/docs/_build/jupyter_execute/show_ratings/ages_19_to_30_random_21_0.png"
      },
      "needs_background": "light"
     },
     "output_type": "display_data"
    },
    {
     "name": "stdout",
     "output_type": "stream",
     "text": [
      "Filter: Ages 19 - 30\n",
      "Total Respondents: 2\n",
      "Respondents Familiar with Show: 2\n",
      "Percent Familiar with Show: 100.0%\n",
      "Median: 8\n",
      "Mean: 8.00\n",
      "Overall Ranking: 2\n",
      "Music-Show Ranking: 2\n"
     ]
    }
   ],
   "source": [
    "create_hist_and_stats(df, filter_col, filter_col_val, filter_col_val_display, 'Dusty_Grooves_Ratings')"
   ]
  },
  {
   "cell_type": "markdown",
   "id": "9203272d-ad90-47d0-aaf7-9505a8c21a94",
   "metadata": {},
   "source": [
    "### Eclipse"
   ]
  },
  {
   "cell_type": "code",
   "execution_count": 13,
   "id": "1c3ca66e-a65d-4a93-8b33-40d915a8facf",
   "metadata": {
    "tags": [
     "remove-input"
    ]
   },
   "outputs": [
    {
     "data": {
      "image/png": "[encoded data removed]",
      "text/plain": [
       "<Figure size 432x288 with 1 Axes>"
      ]
     },
     "metadata": {
      "filenames": {
       "image/png": "/Users/sanfordbaran/Desktop/KGNU/KGNU-Survey-Project/kgnu-audience-survey-staging/docs/_build/jupyter_execute/show_ratings/ages_19_to_30_random_23_0.png"
      },
      "needs_background": "light"
     },
     "output_type": "display_data"
    },
    {
     "name": "stdout",
     "output_type": "stream",
     "text": [
      "Filter: Ages 19 - 30\n",
      "Total Respondents: 2\n",
      "Respondents Familiar with Show: 1\n",
      "Percent Familiar with Show: 50.0%\n",
      "Median: 7\n",
      "Mean: 7.00\n",
      "Overall Ranking: 11\n",
      "Music-Show Ranking: 10\n"
     ]
    }
   ],
   "source": [
    "create_hist_and_stats(df, filter_col, filter_col_val, filter_col_val_display, 'Eclipse_Ratings')"
   ]
  },
  {
   "cell_type": "markdown",
   "id": "0d89d9ed-3272-461a-9671-cd7f16d1f9fe",
   "metadata": {},
   "source": [
    "### Electronic Air"
   ]
  },
  {
   "cell_type": "code",
   "execution_count": 14,
   "id": "a5fce95d-7f7e-47ee-93f8-8de2d07e416e",
   "metadata": {
    "tags": [
     "remove-input"
    ]
   },
   "outputs": [
    {
     "data": {
      "image/png": "[encoded data removed]",
      "text/plain": [
       "<Figure size 432x288 with 1 Axes>"
      ]
     },
     "metadata": {
      "filenames": {
       "image/png": "/Users/sanfordbaran/Desktop/KGNU/KGNU-Survey-Project/kgnu-audience-survey-staging/docs/_build/jupyter_execute/show_ratings/ages_19_to_30_random_25_0.png"
      },
      "needs_background": "light"
     },
     "output_type": "display_data"
    },
    {
     "name": "stdout",
     "output_type": "stream",
     "text": [
      "Filter: Ages 19 - 30\n",
      "Total Respondents: 2\n",
      "Respondents Familiar with Show: 2\n",
      "Percent Familiar with Show: 100.0%\n",
      "Median: 8\n",
      "Mean: 8.00\n",
      "Overall Ranking: 2\n",
      "Music-Show Ranking: 2\n"
     ]
    }
   ],
   "source": [
    "create_hist_and_stats(df, filter_col, filter_col_val, filter_col_val_display, 'Electronic_Air_Ratings')"
   ]
  },
  {
   "cell_type": "markdown",
   "id": "7b16ab09-f98d-4d89-9671-8f823f04974a",
   "metadata": {},
   "source": [
    "### eTown"
   ]
  },
  {
   "cell_type": "code",
   "execution_count": 15,
   "id": "ea2b7784-9166-4ab9-92b6-ff046d770ca7",
   "metadata": {
    "tags": [
     "remove-input"
    ]
   },
   "outputs": [
    {
     "data": {
      "image/png": "[encoded data removed]",
      "text/plain": [
       "<Figure size 432x288 with 1 Axes>"
      ]
     },
     "metadata": {
      "filenames": {
       "image/png": "/Users/sanfordbaran/Desktop/KGNU/KGNU-Survey-Project/kgnu-audience-survey-staging/docs/_build/jupyter_execute/show_ratings/ages_19_to_30_random_27_0.png"
      },
      "needs_background": "light"
     },
     "output_type": "display_data"
    },
    {
     "name": "stdout",
     "output_type": "stream",
     "text": [
      "Filter: Ages 19 - 30\n",
      "Total Respondents: 2\n",
      "Respondents Familiar with Show: 2\n",
      "Percent Familiar with Show: 100.0%\n",
      "Median: 7\n",
      "Mean: 7.00\n",
      "Overall Ranking: 4\n",
      "Music-Show Ranking: 4\n"
     ]
    }
   ],
   "source": [
    "create_hist_and_stats(df, filter_col, filter_col_val, filter_col_val_display, 'E_Town_Ratings')"
   ]
  },
  {
   "cell_type": "markdown",
   "id": "ed782a9e-462a-426e-8aa9-37db22724410",
   "metadata": {},
   "source": [
    "### Gospel Chime"
   ]
  },
  {
   "cell_type": "code",
   "execution_count": 16,
   "id": "5f32f524-67f6-462d-acb6-dcef327b181a",
   "metadata": {
    "tags": [
     "remove-input"
    ]
   },
   "outputs": [
    {
     "data": {
      "image/png": "[encoded data removed]",
      "text/plain": [
       "<Figure size 432x288 with 1 Axes>"
      ]
     },
     "metadata": {
      "filenames": {
       "image/png": "/Users/sanfordbaran/Desktop/KGNU/KGNU-Survey-Project/kgnu-audience-survey-staging/docs/_build/jupyter_execute/show_ratings/ages_19_to_30_random_29_0.png"
      },
      "needs_background": "light"
     },
     "output_type": "display_data"
    },
    {
     "name": "stdout",
     "output_type": "stream",
     "text": [
      "Filter: Ages 19 - 30\n",
      "Total Respondents: 2\n",
      "Respondents Familiar with Show: 2\n",
      "Percent Familiar with Show: 100.0%\n",
      "Median: 4\n",
      "Mean: 4.50\n",
      "Overall Ranking: 9\n",
      "Music-Show Ranking: 8\n"
     ]
    }
   ],
   "source": [
    "create_hist_and_stats(df, filter_col, filter_col_val, filter_col_val_display, 'Gospel_Chime_Ratings')"
   ]
  },
  {
   "cell_type": "markdown",
   "id": "3140769f-f8ef-43fb-9b3d-d40138a08e14",
   "metadata": {},
   "source": [
    "### Grateful Dead"
   ]
  },
  {
   "cell_type": "code",
   "execution_count": 17,
   "id": "660bf69a-a08b-4159-8beb-4bcb5812cbda",
   "metadata": {
    "tags": [
     "remove-input"
    ]
   },
   "outputs": [
    {
     "data": {
      "image/png": "[encoded data removed]",
      "text/plain": [
       "<Figure size 432x288 with 1 Axes>"
      ]
     },
     "metadata": {
      "filenames": {
       "image/png": "/Users/sanfordbaran/Desktop/KGNU/KGNU-Survey-Project/kgnu-audience-survey-staging/docs/_build/jupyter_execute/show_ratings/ages_19_to_30_random_31_0.png"
      },
      "needs_background": "light"
     },
     "output_type": "display_data"
    },
    {
     "name": "stdout",
     "output_type": "stream",
     "text": [
      "Filter: Ages 19 - 30\n",
      "Total Respondents: 2\n",
      "Respondents Familiar with Show: 2\n",
      "Percent Familiar with Show: 100.0%\n",
      "Median: 7\n",
      "Mean: 7.00\n",
      "Overall Ranking: 4\n",
      "Music-Show Ranking: 4\n"
     ]
    }
   ],
   "source": [
    "create_hist_and_stats(df, filter_col, filter_col_val, filter_col_val_display, 'Grateful_Dead_Ratings')"
   ]
  },
  {
   "cell_type": "markdown",
   "id": "87ca8bcf-3fda-48db-95b1-03e7520e5e0d",
   "metadata": {},
   "source": [
    "### Hwy 322"
   ]
  },
  {
   "cell_type": "code",
   "execution_count": 18,
   "id": "c225331e-94bd-42f3-b81f-9cf7820fbaa8",
   "metadata": {
    "tags": [
     "remove-input"
    ]
   },
   "outputs": [
    {
     "data": {
      "image/png": "[encoded data removed]",
      "text/plain": [
       "<Figure size 432x288 with 1 Axes>"
      ]
     },
     "metadata": {
      "filenames": {
       "image/png": "/Users/sanfordbaran/Desktop/KGNU/KGNU-Survey-Project/kgnu-audience-survey-staging/docs/_build/jupyter_execute/show_ratings/ages_19_to_30_random_33_0.png"
      },
      "needs_background": "light"
     },
     "output_type": "display_data"
    },
    {
     "name": "stdout",
     "output_type": "stream",
     "text": [
      "Filter: Ages 19 - 30\n",
      "Total Respondents: 2\n",
      "Respondents Familiar with Show: 1\n",
      "Percent Familiar with Show: 50.0%\n",
      "Median: 5\n",
      "Mean: 5.00\n",
      "Overall Ranking: 13\n",
      "Music-Show Ranking: 12\n"
     ]
    }
   ],
   "source": [
    "create_hist_and_stats(df, filter_col, filter_col_val, filter_col_val_display, 'HWY_322_Ratings')"
   ]
  },
  {
   "cell_type": "markdown",
   "id": "1f8d72dc-2cf8-4c81-a4d4-71e359181849",
   "metadata": {},
   "source": [
    "### Honky Tonk Heroes"
   ]
  },
  {
   "cell_type": "code",
   "execution_count": 19,
   "id": "77b8c4f1-7fb6-42e8-964a-02b4ae5d0e32",
   "metadata": {
    "tags": [
     "remove-input"
    ]
   },
   "outputs": [
    {
     "data": {
      "image/png": "[encoded data removed]",
      "text/plain": [
       "<Figure size 432x288 with 1 Axes>"
      ]
     },
     "metadata": {
      "filenames": {
       "image/png": "/Users/sanfordbaran/Desktop/KGNU/KGNU-Survey-Project/kgnu-audience-survey-staging/docs/_build/jupyter_execute/show_ratings/ages_19_to_30_random_35_0.png"
      },
      "needs_background": "light"
     },
     "output_type": "display_data"
    },
    {
     "name": "stdout",
     "output_type": "stream",
     "text": [
      "Filter: Ages 19 - 30\n",
      "Total Respondents: 2\n",
      "Respondents Familiar with Show: 1\n",
      "Percent Familiar with Show: 50.0%\n",
      "Median: 7\n",
      "Mean: 7.00\n",
      "Overall Ranking: 11\n",
      "Music-Show Ranking: 10\n"
     ]
    }
   ],
   "source": [
    "create_hist_and_stats(df, filter_col, filter_col_val, filter_col_val_display, 'HTH_Ratings')"
   ]
  },
  {
   "cell_type": "markdown",
   "id": "eda75003-048a-4779-8988-8e14c81611b4",
   "metadata": {},
   "source": [
    "### Jazz Lives"
   ]
  },
  {
   "cell_type": "code",
   "execution_count": 20,
   "id": "6b724312-ecc6-4432-ab01-06c68b076186",
   "metadata": {
    "tags": [
     "remove-input"
    ]
   },
   "outputs": [
    {
     "data": {
      "image/png": "[encoded data removed]",
      "text/plain": [
       "<Figure size 432x288 with 1 Axes>"
      ]
     },
     "metadata": {
      "filenames": {
       "image/png": "/Users/sanfordbaran/Desktop/KGNU/KGNU-Survey-Project/kgnu-audience-survey-staging/docs/_build/jupyter_execute/show_ratings/ages_19_to_30_random_37_0.png"
      },
      "needs_background": "light"
     },
     "output_type": "display_data"
    },
    {
     "name": "stdout",
     "output_type": "stream",
     "text": [
      "Filter: Ages 19 - 30\n",
      "Total Respondents: 2\n",
      "Respondents Familiar with Show: 2\n",
      "Percent Familiar with Show: 100.0%\n",
      "Median: 8\n",
      "Mean: 8.00\n",
      "Overall Ranking: 2\n",
      "Music-Show Ranking: 2\n"
     ]
    }
   ],
   "source": [
    "create_hist_and_stats(df, filter_col, filter_col_val, filter_col_val_display, 'Jazz_Lives_Ratings')"
   ]
  },
  {
   "cell_type": "markdown",
   "id": "6871aab0-b5cd-47a5-bfdd-59f9d6ffb6f3",
   "metadata": {},
   "source": [
    "### Kaberet"
   ]
  },
  {
   "cell_type": "code",
   "execution_count": 21,
   "id": "04fe2276-9fe2-4102-8d6f-56dc0284637d",
   "metadata": {
    "tags": [
     "remove-input"
    ]
   },
   "outputs": [
    {
     "data": {
      "image/png": "[encoded data removed]",
      "text/plain": [
       "<Figure size 432x288 with 1 Axes>"
      ]
     },
     "metadata": {
      "filenames": {
       "image/png": "/Users/sanfordbaran/Desktop/KGNU/KGNU-Survey-Project/kgnu-audience-survey-staging/docs/_build/jupyter_execute/show_ratings/ages_19_to_30_random_39_0.png"
      },
      "needs_background": "light"
     },
     "output_type": "display_data"
    },
    {
     "name": "stdout",
     "output_type": "stream",
     "text": [
      "Filter: Ages 19 - 30\n",
      "Total Respondents: 2\n",
      "Respondents Familiar with Show: 1\n",
      "Percent Familiar with Show: 50.0%\n",
      "Median: 6\n",
      "Mean: 6.00\n",
      "Overall Ranking: 12\n",
      "Music-Show Ranking: 11\n"
     ]
    }
   ],
   "source": [
    "create_hist_and_stats(df, filter_col, filter_col_val, filter_col_val_display, 'Kaberet_Ratings')"
   ]
  },
  {
   "cell_type": "markdown",
   "id": "8052b0ea-e59d-41c1-8bf6-0df3ada4242c",
   "metadata": {},
   "source": [
    "### Morning Sound Alternative"
   ]
  },
  {
   "cell_type": "code",
   "execution_count": 22,
   "id": "d8ac4229-2c4a-4b2e-88db-a57b17d806a9",
   "metadata": {
    "tags": [
     "remove-input"
    ]
   },
   "outputs": [
    {
     "data": {
      "image/png": "[encoded data removed]",
      "text/plain": [
       "<Figure size 432x288 with 1 Axes>"
      ]
     },
     "metadata": {
      "filenames": {
       "image/png": "/Users/sanfordbaran/Desktop/KGNU/KGNU-Survey-Project/kgnu-audience-survey-staging/docs/_build/jupyter_execute/show_ratings/ages_19_to_30_random_41_0.png"
      },
      "needs_background": "light"
     },
     "output_type": "display_data"
    },
    {
     "name": "stdout",
     "output_type": "stream",
     "text": [
      "Filter: Ages 19 - 30\n",
      "Total Respondents: 2\n",
      "Respondents Familiar with Show: 1\n",
      "Percent Familiar with Show: 50.0%\n",
      "Median: 8\n",
      "Mean: 8.00\n",
      "Overall Ranking: 10\n",
      "Music-Show Ranking: 9\n"
     ]
    }
   ],
   "source": [
    "create_hist_and_stats(df, filter_col, filter_col_val, filter_col_val_display, 'MSA_Ratings')"
   ]
  },
  {
   "cell_type": "markdown",
   "id": "7bbec9f6-931f-4526-a42e-48eec6492249",
   "metadata": {},
   "source": [
    "### Musica Mundi"
   ]
  },
  {
   "cell_type": "code",
   "execution_count": 23,
   "id": "1a74ef7b-dfed-4d67-93a7-66d933362449",
   "metadata": {
    "tags": [
     "remove-input"
    ]
   },
   "outputs": [
    {
     "data": {
      "image/png": "[encoded data removed]",
      "text/plain": [
       "<Figure size 432x288 with 1 Axes>"
      ]
     },
     "metadata": {
      "filenames": {
       "image/png": "/Users/sanfordbaran/Desktop/KGNU/KGNU-Survey-Project/kgnu-audience-survey-staging/docs/_build/jupyter_execute/show_ratings/ages_19_to_30_random_43_0.png"
      },
      "needs_background": "light"
     },
     "output_type": "display_data"
    },
    {
     "name": "stdout",
     "output_type": "stream",
     "text": [
      "Filter: Ages 19 - 30\n",
      "Total Respondents: 2\n",
      "Respondents Familiar with Show: 2\n",
      "Percent Familiar with Show: 100.0%\n",
      "Median: 8\n",
      "Mean: 8.00\n",
      "Overall Ranking: 2\n",
      "Music-Show Ranking: 2\n"
     ]
    }
   ],
   "source": [
    "create_hist_and_stats(df, filter_col, filter_col_val, filter_col_val_display, 'Musica_Mundi_Ratings')"
   ]
  },
  {
   "cell_type": "markdown",
   "id": "364106ac-29f9-4c7b-af76-f1211699f1b6",
   "metadata": {},
   "source": [
    "### Old Grass Gnu Grass"
   ]
  },
  {
   "cell_type": "code",
   "execution_count": 24,
   "id": "439c144b-601f-4f72-a157-bcee46fba73b",
   "metadata": {
    "tags": [
     "remove-input"
    ]
   },
   "outputs": [
    {
     "data": {
      "image/png": "[encoded data removed]",
      "text/plain": [
       "<Figure size 432x288 with 1 Axes>"
      ]
     },
     "metadata": {
      "filenames": {
       "image/png": "/Users/sanfordbaran/Desktop/KGNU/KGNU-Survey-Project/kgnu-audience-survey-staging/docs/_build/jupyter_execute/show_ratings/ages_19_to_30_random_45_0.png"
      },
      "needs_background": "light"
     },
     "output_type": "display_data"
    },
    {
     "name": "stdout",
     "output_type": "stream",
     "text": [
      "Filter: Ages 19 - 30\n",
      "Total Respondents: 2\n",
      "Respondents Familiar with Show: 2\n",
      "Percent Familiar with Show: 100.0%\n",
      "Median: 8\n",
      "Mean: 8.00\n",
      "Overall Ranking: 2\n",
      "Music-Show Ranking: 2\n"
     ]
    }
   ],
   "source": [
    "create_hist_and_stats(df, filter_col, filter_col_val, filter_col_val_display, 'OGGG_Ratings')"
   ]
  },
  {
   "cell_type": "markdown",
   "id": "26023867-7924-465b-b7ff-468953905e54",
   "metadata": {},
   "source": [
    "### The Present Edge"
   ]
  },
  {
   "cell_type": "code",
   "execution_count": 25,
   "id": "e891f0d0-479d-4252-abc1-5a52a5e2a2e1",
   "metadata": {
    "tags": [
     "remove-input"
    ]
   },
   "outputs": [
    {
     "data": {
      "image/png": "[encoded data removed]",
      "text/plain": [
       "<Figure size 432x288 with 1 Axes>"
      ]
     },
     "metadata": {
      "filenames": {
       "image/png": "/Users/sanfordbaran/Desktop/KGNU/KGNU-Survey-Project/kgnu-audience-survey-staging/docs/_build/jupyter_execute/show_ratings/ages_19_to_30_random_47_0.png"
      },
      "needs_background": "light"
     },
     "output_type": "display_data"
    },
    {
     "name": "stdout",
     "output_type": "stream",
     "text": [
      "Filter: Ages 19 - 30\n",
      "Total Respondents: 2\n",
      "Respondents Familiar with Show: 1\n",
      "Percent Familiar with Show: 50.0%\n",
      "Median: 6\n",
      "Mean: 6.00\n",
      "Overall Ranking: 12\n",
      "Music-Show Ranking: 11\n"
     ]
    }
   ],
   "source": [
    "create_hist_and_stats(df, filter_col, filter_col_val, filter_col_val_display, 'Present_Edge_Ratings')"
   ]
  },
  {
   "cell_type": "markdown",
   "id": "b78d19da-2581-4e26-b7a9-8243660f2db2",
   "metadata": {},
   "source": [
    "### Ragtime America"
   ]
  },
  {
   "cell_type": "code",
   "execution_count": 26,
   "id": "11726889-e4f0-4f89-9182-17610d79d298",
   "metadata": {
    "tags": [
     "remove-input"
    ]
   },
   "outputs": [
    {
     "data": {
      "image/png": "[encoded data removed]",
      "text/plain": [
       "<Figure size 432x288 with 1 Axes>"
      ]
     },
     "metadata": {
      "filenames": {
       "image/png": "/Users/sanfordbaran/Desktop/KGNU/KGNU-Survey-Project/kgnu-audience-survey-staging/docs/_build/jupyter_execute/show_ratings/ages_19_to_30_random_49_0.png"
      },
      "needs_background": "light"
     },
     "output_type": "display_data"
    },
    {
     "name": "stdout",
     "output_type": "stream",
     "text": [
      "Filter: Ages 19 - 30\n",
      "Total Respondents: 2\n",
      "Respondents Familiar with Show: 2\n",
      "Percent Familiar with Show: 100.0%\n",
      "Median: 7\n",
      "Mean: 7.50\n",
      "Overall Ranking: 3\n",
      "Music-Show Ranking: 3\n"
     ]
    }
   ],
   "source": [
    "create_hist_and_stats(df, filter_col, filter_col_val, filter_col_val_display, 'Ragtime_America_Ratings')"
   ]
  },
  {
   "cell_type": "markdown",
   "id": "d770e06b-2614-491c-ac3b-5452a8381c98",
   "metadata": {},
   "source": [
    "### Reggae Bloodlines"
   ]
  },
  {
   "cell_type": "code",
   "execution_count": 27,
   "id": "ca27f3cc-ab8a-46cf-8302-1d14745e5015",
   "metadata": {
    "tags": [
     "remove-input"
    ]
   },
   "outputs": [
    {
     "data": {
      "image/png": "[encoded data removed]",
      "text/plain": [
       "<Figure size 432x288 with 1 Axes>"
      ]
     },
     "metadata": {
      "filenames": {
       "image/png": "/Users/sanfordbaran/Desktop/KGNU/KGNU-Survey-Project/kgnu-audience-survey-staging/docs/_build/jupyter_execute/show_ratings/ages_19_to_30_random_51_0.png"
      },
      "needs_background": "light"
     },
     "output_type": "display_data"
    },
    {
     "name": "stdout",
     "output_type": "stream",
     "text": [
      "Filter: Ages 19 - 30\n",
      "Total Respondents: 2\n",
      "Respondents Familiar with Show: 1\n",
      "Percent Familiar with Show: 50.0%\n",
      "Median: 7\n",
      "Mean: 7.00\n",
      "Overall Ranking: 11\n",
      "Music-Show Ranking: 10\n"
     ]
    }
   ],
   "source": [
    "create_hist_and_stats(df, filter_col, filter_col_val, filter_col_val_display, 'Reggae_Bloodlines_Ratings')"
   ]
  },
  {
   "cell_type": "markdown",
   "id": "2c4676c3-f9e4-440d-b97e-f76f0f8e88fc",
   "metadata": {},
   "source": [
    "### Reggae Transfusions"
   ]
  },
  {
   "cell_type": "code",
   "execution_count": 28,
   "id": "ba7a06a2-9c01-4dfd-bb6a-00ce65eb8e2e",
   "metadata": {
    "tags": [
     "remove-input"
    ]
   },
   "outputs": [
    {
     "data": {
      "image/png": "[encoded data removed]",
      "text/plain": [
       "<Figure size 432x288 with 1 Axes>"
      ]
     },
     "metadata": {
      "filenames": {
       "image/png": "/Users/sanfordbaran/Desktop/KGNU/KGNU-Survey-Project/kgnu-audience-survey-staging/docs/_build/jupyter_execute/show_ratings/ages_19_to_30_random_53_0.png"
      },
      "needs_background": "light"
     },
     "output_type": "display_data"
    },
    {
     "name": "stdout",
     "output_type": "stream",
     "text": [
      "Filter: Ages 19 - 30\n",
      "Total Respondents: 2\n",
      "Respondents Familiar with Show: 1\n",
      "Percent Familiar with Show: 50.0%\n",
      "Median: 8\n",
      "Mean: 8.00\n",
      "Overall Ranking: 10\n",
      "Music-Show Ranking: 9\n"
     ]
    }
   ],
   "source": [
    "create_hist_and_stats(df, filter_col, filter_col_val, filter_col_val_display, 'Reggae_Transfusions_Ratings')"
   ]
  },
  {
   "cell_type": "markdown",
   "id": "a3006535-5387-4a10-8914-ebbac86fe98e",
   "metadata": {},
   "source": [
    "### Restless Mornings"
   ]
  },
  {
   "cell_type": "code",
   "execution_count": 29,
   "id": "7ef4803f-3a31-46fe-8371-a310a752b40e",
   "metadata": {
    "tags": [
     "remove-input"
    ]
   },
   "outputs": [
    {
     "data": {
      "image/png": "[encoded data removed]",
      "text/plain": [
       "<Figure size 432x288 with 1 Axes>"
      ]
     },
     "metadata": {
      "filenames": {
       "image/png": "/Users/sanfordbaran/Desktop/KGNU/KGNU-Survey-Project/kgnu-audience-survey-staging/docs/_build/jupyter_execute/show_ratings/ages_19_to_30_random_55_0.png"
      },
      "needs_background": "light"
     },
     "output_type": "display_data"
    },
    {
     "name": "stdout",
     "output_type": "stream",
     "text": [
      "Filter: Ages 19 - 30\n",
      "Total Respondents: 2\n",
      "Respondents Familiar with Show: 2\n",
      "Percent Familiar with Show: 100.0%\n",
      "Median: 8\n",
      "Mean: 8.50\n",
      "Overall Ranking: 1\n",
      "Music-Show Ranking: 1\n"
     ]
    }
   ],
   "source": [
    "create_hist_and_stats(df, filter_col, filter_col_val, filter_col_val_display, 'Restless_Mornings_Ratings')"
   ]
  },
  {
   "cell_type": "markdown",
   "id": "cf36585c-4ee5-4612-968a-0c22d1bcb6c9",
   "metadata": {},
   "source": [
    "### Roots and Branches"
   ]
  },
  {
   "cell_type": "code",
   "execution_count": 30,
   "id": "84ee6bf4-7eec-40ef-9c06-b857f933f7be",
   "metadata": {
    "tags": [
     "remove-input"
    ]
   },
   "outputs": [
    {
     "data": {
      "image/png": "[encoded data removed]",
      "text/plain": [
       "<Figure size 432x288 with 1 Axes>"
      ]
     },
     "metadata": {
      "filenames": {
       "image/png": "/Users/sanfordbaran/Desktop/KGNU/KGNU-Survey-Project/kgnu-audience-survey-staging/docs/_build/jupyter_execute/show_ratings/ages_19_to_30_random_57_0.png"
      },
      "needs_background": "light"
     },
     "output_type": "display_data"
    },
    {
     "name": "stdout",
     "output_type": "stream",
     "text": [
      "Filter: Ages 19 - 30\n",
      "Total Respondents: 2\n",
      "Respondents Familiar with Show: 2\n",
      "Percent Familiar with Show: 100.0%\n",
      "Median: 8\n",
      "Mean: 8.50\n",
      "Overall Ranking: 1\n",
      "Music-Show Ranking: 1\n"
     ]
    }
   ],
   "source": [
    "create_hist_and_stats(df, filter_col, filter_col_val, filter_col_val_display, 'Roots_and_Branches_Ratings')"
   ]
  },
  {
   "cell_type": "markdown",
   "id": "00468e12-aa2d-4349-b965-34517bacf05a",
   "metadata": {},
   "source": [
    "### Roots of Jazz"
   ]
  },
  {
   "cell_type": "code",
   "execution_count": 31,
   "id": "82bad0a6-5e3c-4283-b064-51945ea1b006",
   "metadata": {
    "tags": [
     "remove-input"
    ]
   },
   "outputs": [
    {
     "data": {
      "image/png": "[encoded data removed]",
      "text/plain": [
       "<Figure size 432x288 with 1 Axes>"
      ]
     },
     "metadata": {
      "filenames": {
       "image/png": "/Users/sanfordbaran/Desktop/KGNU/KGNU-Survey-Project/kgnu-audience-survey-staging/docs/_build/jupyter_execute/show_ratings/ages_19_to_30_random_59_0.png"
      },
      "needs_background": "light"
     },
     "output_type": "display_data"
    },
    {
     "name": "stdout",
     "output_type": "stream",
     "text": [
      "Filter: Ages 19 - 30\n",
      "Total Respondents: 2\n",
      "Respondents Familiar with Show: 2\n",
      "Percent Familiar with Show: 100.0%\n",
      "Median: 8\n",
      "Mean: 8.00\n",
      "Overall Ranking: 2\n",
      "Music-Show Ranking: 2\n"
     ]
    }
   ],
   "source": [
    "create_hist_and_stats(df, filter_col, filter_col_val, filter_col_val_display, 'Roots_of_Jazz_Ratings')"
   ]
  },
  {
   "cell_type": "markdown",
   "id": "3a35dcd1-49ce-4b1e-bca6-012a90ae974f",
   "metadata": {},
   "source": [
    "### Seolta Gael"
   ]
  },
  {
   "cell_type": "code",
   "execution_count": 32,
   "id": "7e0824e2-62ad-4428-955f-0c48cc119d03",
   "metadata": {
    "tags": [
     "remove-input"
    ]
   },
   "outputs": [
    {
     "data": {
      "image/png": "[encoded data removed]",
      "text/plain": [
       "<Figure size 432x288 with 1 Axes>"
      ]
     },
     "metadata": {
      "filenames": {
       "image/png": "/Users/sanfordbaran/Desktop/KGNU/KGNU-Survey-Project/kgnu-audience-survey-staging/docs/_build/jupyter_execute/show_ratings/ages_19_to_30_random_61_0.png"
      },
      "needs_background": "light"
     },
     "output_type": "display_data"
    },
    {
     "name": "stdout",
     "output_type": "stream",
     "text": [
      "Filter: Ages 19 - 30\n",
      "Total Respondents: 2\n",
      "Respondents Familiar with Show: 2\n",
      "Percent Familiar with Show: 100.0%\n",
      "Median: 8\n",
      "Mean: 8.50\n",
      "Overall Ranking: 1\n",
      "Music-Show Ranking: 1\n"
     ]
    }
   ],
   "source": [
    "create_hist_and_stats(df, filter_col, filter_col_val, filter_col_val_display, 'Seolta_Gael_Ratings')"
   ]
  },
  {
   "cell_type": "markdown",
   "id": "71a4c499-fb5d-4968-b51a-6cba06b17032",
   "metadata": {},
   "source": [
    "### Sleepless Nights"
   ]
  },
  {
   "cell_type": "code",
   "execution_count": 33,
   "id": "41d73978-4c30-4c10-b2fb-64b41a807a62",
   "metadata": {
    "tags": [
     "remove-input"
    ]
   },
   "outputs": [
    {
     "data": {
      "image/png": "[encoded data removed]",
      "text/plain": [
       "<Figure size 432x288 with 1 Axes>"
      ]
     },
     "metadata": {
      "filenames": {
       "image/png": "/Users/sanfordbaran/Desktop/KGNU/KGNU-Survey-Project/kgnu-audience-survey-staging/docs/_build/jupyter_execute/show_ratings/ages_19_to_30_random_63_0.png"
      },
      "needs_background": "light"
     },
     "output_type": "display_data"
    },
    {
     "name": "stdout",
     "output_type": "stream",
     "text": [
      "Filter: Ages 19 - 30\n",
      "Total Respondents: 2\n",
      "Respondents Familiar with Show: 1\n",
      "Percent Familiar with Show: 50.0%\n",
      "Median: 7\n",
      "Mean: 7.00\n",
      "Overall Ranking: 11\n",
      "Music-Show Ranking: 10\n"
     ]
    }
   ],
   "source": [
    "create_hist_and_stats(df, filter_col, filter_col_val, filter_col_val_display, 'Sleepless_Nights_Ratings')"
   ]
  },
  {
   "cell_type": "markdown",
   "id": "74ab4640-3860-4acd-938a-6bb3bed7dcbe",
   "metadata": {},
   "source": [
    "### Smash It Back"
   ]
  },
  {
   "cell_type": "code",
   "execution_count": 34,
   "id": "bec152bb-b122-4c4e-aaf7-eddeaeafcbc1",
   "metadata": {
    "tags": [
     "remove-input"
    ]
   },
   "outputs": [
    {
     "data": {
      "image/png": "[encoded data removed]",
      "text/plain": [
       "<Figure size 432x288 with 1 Axes>"
      ]
     },
     "metadata": {
      "filenames": {
       "image/png": "/Users/sanfordbaran/Desktop/KGNU/KGNU-Survey-Project/kgnu-audience-survey-staging/docs/_build/jupyter_execute/show_ratings/ages_19_to_30_random_65_0.png"
      },
      "needs_background": "light"
     },
     "output_type": "display_data"
    },
    {
     "name": "stdout",
     "output_type": "stream",
     "text": [
      "Filter: Ages 19 - 30\n",
      "Total Respondents: 2\n",
      "Respondents Familiar with Show: 1\n",
      "Percent Familiar with Show: 50.0%\n",
      "Median: 7\n",
      "Mean: 7.00\n",
      "Overall Ranking: 11\n",
      "Music-Show Ranking: 10\n"
     ]
    }
   ],
   "source": [
    "create_hist_and_stats(df, filter_col, filter_col_val, filter_col_val_display, 'Smash_It_Back_Ratings')"
   ]
  },
  {
   "cell_type": "markdown",
   "id": "c1ea1459-7cfb-44f1-8f25-fbc3daed7669",
   "metadata": {},
   "source": [
    "### SoundLab"
   ]
  },
  {
   "cell_type": "code",
   "execution_count": 35,
   "id": "7dd49b20-5db8-4dec-97b5-01faf8925fcc",
   "metadata": {
    "tags": [
     "remove-input"
    ]
   },
   "outputs": [
    {
     "data": {
      "image/png": "[encoded data removed]",
      "text/plain": [
       "<Figure size 432x288 with 1 Axes>"
      ]
     },
     "metadata": {
      "filenames": {
       "image/png": "/Users/sanfordbaran/Desktop/KGNU/KGNU-Survey-Project/kgnu-audience-survey-staging/docs/_build/jupyter_execute/show_ratings/ages_19_to_30_random_67_0.png"
      },
      "needs_background": "light"
     },
     "output_type": "display_data"
    },
    {
     "name": "stdout",
     "output_type": "stream",
     "text": [
      "Filter: Ages 19 - 30\n",
      "Total Respondents: 2\n",
      "Respondents Familiar with Show: 2\n",
      "Percent Familiar with Show: 100.0%\n",
      "Median: 6\n",
      "Mean: 6.50\n",
      "Overall Ranking: 5\n",
      "Music-Show Ranking: 5\n"
     ]
    }
   ],
   "source": [
    "create_hist_and_stats(df, filter_col, filter_col_val, filter_col_val_display, 'Soundlab_Ratings')"
   ]
  },
  {
   "cell_type": "markdown",
   "id": "148eaf22-9003-4533-ab6d-e79c05f19934",
   "metadata": {},
   "source": [
    "### Swing Shift"
   ]
  },
  {
   "cell_type": "code",
   "execution_count": 36,
   "id": "fae235bd-80e8-47e0-9441-3da277c98381",
   "metadata": {
    "tags": [
     "remove-input"
    ]
   },
   "outputs": [
    {
     "data": {
      "image/png": "[encoded data removed]",
      "text/plain": [
       "<Figure size 432x288 with 1 Axes>"
      ]
     },
     "metadata": {
      "filenames": {
       "image/png": "/Users/sanfordbaran/Desktop/KGNU/KGNU-Survey-Project/kgnu-audience-survey-staging/docs/_build/jupyter_execute/show_ratings/ages_19_to_30_random_69_0.png"
      },
      "needs_background": "light"
     },
     "output_type": "display_data"
    },
    {
     "name": "stdout",
     "output_type": "stream",
     "text": [
      "Filter: Ages 19 - 30\n",
      "Total Respondents: 2\n",
      "Respondents Familiar with Show: 2\n",
      "Percent Familiar with Show: 100.0%\n",
      "Median: 6\n",
      "Mean: 6.00\n",
      "Overall Ranking: 6\n",
      "Music-Show Ranking: 6\n"
     ]
    }
   ],
   "source": [
    "create_hist_and_stats(df, filter_col, filter_col_val, filter_col_val_display, 'Swing_Shift_Ratings')"
   ]
  },
  {
   "cell_type": "markdown",
   "id": "7b9c9618-33a8-453b-817c-3e0eca5a99f2",
   "metadata": {},
   "source": [
    "### Terrasonic"
   ]
  },
  {
   "cell_type": "code",
   "execution_count": 37,
   "id": "08546f4b-2060-40b6-8fd4-a03e3ced6d42",
   "metadata": {
    "tags": [
     "remove-input"
    ]
   },
   "outputs": [
    {
     "data": {
      "image/png": "[encoded data removed]",
      "text/plain": [
       "<Figure size 432x288 with 1 Axes>"
      ]
     },
     "metadata": {
      "filenames": {
       "image/png": "/Users/sanfordbaran/Desktop/KGNU/KGNU-Survey-Project/kgnu-audience-survey-staging/docs/_build/jupyter_execute/show_ratings/ages_19_to_30_random_71_0.png"
      },
      "needs_background": "light"
     },
     "output_type": "display_data"
    },
    {
     "name": "stdout",
     "output_type": "stream",
     "text": [
      "Filter: Ages 19 - 30\n",
      "Total Respondents: 2\n",
      "Respondents Familiar with Show: 1\n",
      "Percent Familiar with Show: 50.0%\n",
      "Median: 7\n",
      "Mean: 7.00\n",
      "Overall Ranking: 11\n",
      "Music-Show Ranking: 10\n"
     ]
    }
   ],
   "source": [
    "create_hist_and_stats(df, filter_col, filter_col_val, filter_col_val_display, 'Terrasonic_Ratings')"
   ]
  },
  {
   "cell_type": "markdown",
   "id": "7a9f6dac-2960-4456-8db4-f9019cd9fb92",
   "metadata": {},
   "source": [
    "### The Heavy Set"
   ]
  },
  {
   "cell_type": "code",
   "execution_count": 38,
   "id": "0babd51d-7b40-4672-9ee0-9f1958d13b9a",
   "metadata": {
    "tags": [
     "remove-input"
    ]
   },
   "outputs": [
    {
     "data": {
      "image/png": "[encoded data removed]",
      "text/plain": [
       "<Figure size 432x288 with 1 Axes>"
      ]
     },
     "metadata": {
      "filenames": {
       "image/png": "/Users/sanfordbaran/Desktop/KGNU/KGNU-Survey-Project/kgnu-audience-survey-staging/docs/_build/jupyter_execute/show_ratings/ages_19_to_30_random_73_0.png"
      },
      "needs_background": "light"
     },
     "output_type": "display_data"
    },
    {
     "name": "stdout",
     "output_type": "stream",
     "text": [
      "Filter: Ages 19 - 30\n",
      "Total Respondents: 2\n",
      "Respondents Familiar with Show: 2\n",
      "Percent Familiar with Show: 100.0%\n",
      "Median: 7\n",
      "Mean: 7.50\n",
      "Overall Ranking: 3\n",
      "Music-Show Ranking: 3\n"
     ]
    }
   ],
   "source": [
    "create_hist_and_stats(df, filter_col, filter_col_val, filter_col_val_display, 'The_Heavy_Set_Ratings')"
   ]
  },
  {
   "cell_type": "markdown",
   "id": "aacf77f5-58c1-494b-b30c-e328b0e97363",
   "metadata": {},
   "source": [
    "### The Opera Box"
   ]
  },
  {
   "cell_type": "code",
   "execution_count": 39,
   "id": "1532abeb-7e0b-4405-9155-79fefd731603",
   "metadata": {
    "tags": [
     "remove-input"
    ]
   },
   "outputs": [
    {
     "data": {
      "image/png": "[encoded data removed]",
      "text/plain": [
       "<Figure size 432x288 with 1 Axes>"
      ]
     },
     "metadata": {
      "filenames": {
       "image/png": "/Users/sanfordbaran/Desktop/KGNU/KGNU-Survey-Project/kgnu-audience-survey-staging/docs/_build/jupyter_execute/show_ratings/ages_19_to_30_random_75_0.png"
      },
      "needs_background": "light"
     },
     "output_type": "display_data"
    },
    {
     "name": "stdout",
     "output_type": "stream",
     "text": [
      "Filter: Ages 19 - 30\n",
      "Total Respondents: 2\n",
      "Respondents Familiar with Show: 2\n",
      "Percent Familiar with Show: 100.0%\n",
      "Median: 5\n",
      "Mean: 5.50\n",
      "Overall Ranking: 7\n",
      "Music-Show Ranking: 7\n"
     ]
    }
   ],
   "source": [
    "create_hist_and_stats(df, filter_col, filter_col_val, filter_col_val_display, 'The_Opera_Box_Ratings')"
   ]
  },
  {
   "cell_type": "markdown",
   "id": "89a2f11c-dfb1-4bd1-88b5-0ed09215f0c5",
   "metadata": {},
   "source": [
    "### Under the Floorboards"
   ]
  },
  {
   "cell_type": "code",
   "execution_count": 40,
   "id": "2f6e0918-21d9-4818-92ea-05bb293fe7ec",
   "metadata": {
    "tags": [
     "remove-input"
    ]
   },
   "outputs": [
    {
     "data": {
      "image/png": "[encoded data removed]",
      "text/plain": [
       "<Figure size 432x288 with 1 Axes>"
      ]
     },
     "metadata": {
      "filenames": {
       "image/png": "/Users/sanfordbaran/Desktop/KGNU/KGNU-Survey-Project/kgnu-audience-survey-staging/docs/_build/jupyter_execute/show_ratings/ages_19_to_30_random_77_0.png"
      },
      "needs_background": "light"
     },
     "output_type": "display_data"
    },
    {
     "name": "stdout",
     "output_type": "stream",
     "text": [
      "Filter: Ages 19 - 30\n",
      "Total Respondents: 2\n",
      "Respondents Familiar with Show: 1\n",
      "Percent Familiar with Show: 50.0%\n",
      "Median: 5\n",
      "Mean: 5.00\n",
      "Overall Ranking: 13\n",
      "Music-Show Ranking: 12\n"
     ]
    }
   ],
   "source": [
    "create_hist_and_stats(df, filter_col, filter_col_val, filter_col_val_display, 'Under_the_Floorboards_Ratings')"
   ]
  },
  {
   "cell_type": "markdown",
   "id": "39a48ecc-7399-4da2-a6ff-c216ac85b11e",
   "metadata": {},
   "source": [
    "## News Shows"
   ]
  },
  {
   "cell_type": "markdown",
   "id": "4359c076-073c-44bb-9c87-4fec086cc799",
   "metadata": {},
   "source": [
    "### A Public Affairs"
   ]
  },
  {
   "cell_type": "code",
   "execution_count": 41,
   "id": "4245890d-887e-47cc-817a-a263c395bb9a",
   "metadata": {
    "tags": [
     "remove-input"
    ]
   },
   "outputs": [
    {
     "data": {
      "image/png": "[encoded data removed]",
      "text/plain": [
       "<Figure size 432x288 with 1 Axes>"
      ]
     },
     "metadata": {
      "filenames": {
       "image/png": "/Users/sanfordbaran/Desktop/KGNU/KGNU-Survey-Project/kgnu-audience-survey-staging/docs/_build/jupyter_execute/show_ratings/ages_19_to_30_random_80_0.png"
      },
      "needs_background": "light"
     },
     "output_type": "display_data"
    },
    {
     "name": "stdout",
     "output_type": "stream",
     "text": [
      "Filter: Ages 19 - 30\n",
      "Total Respondents: 2\n",
      "Respondents Familiar with Show: 1\n",
      "Percent Familiar with Show: 50.0%\n",
      "Median: 8\n",
      "Mean: 8.00\n",
      "Overall Ranking: 10\n",
      "News-Show Ranking: 7\n"
     ]
    }
   ],
   "source": [
    "create_hist_and_stats(df, filter_col, filter_col_val, filter_col_val_display, 'A_Public_Affair_Ratings')"
   ]
  },
  {
   "cell_type": "markdown",
   "id": "cefdc770-14ad-4e74-a8a5-b6ca404dd14f",
   "metadata": {},
   "source": [
    "### Alan Watts"
   ]
  },
  {
   "cell_type": "code",
   "execution_count": 42,
   "id": "13ccb7a3-1ea1-4a89-9493-9210dba33b35",
   "metadata": {
    "tags": [
     "remove-input"
    ]
   },
   "outputs": [
    {
     "data": {
      "image/png": "[encoded data removed]",
      "text/plain": [
       "<Figure size 432x288 with 1 Axes>"
      ]
     },
     "metadata": {
      "filenames": {
       "image/png": "/Users/sanfordbaran/Desktop/KGNU/KGNU-Survey-Project/kgnu-audience-survey-staging/docs/_build/jupyter_execute/show_ratings/ages_19_to_30_random_82_0.png"
      },
      "needs_background": "light"
     },
     "output_type": "display_data"
    },
    {
     "name": "stdout",
     "output_type": "stream",
     "text": [
      "Filter: Ages 19 - 30\n",
      "Total Respondents: 2\n",
      "Respondents Familiar with Show: 1\n",
      "Percent Familiar with Show: 50.0%\n",
      "Median: 7\n",
      "Mean: 7.00\n",
      "Overall Ranking: 11\n",
      "News-Show Ranking: 8\n"
     ]
    }
   ],
   "source": [
    "create_hist_and_stats(df, filter_col, filter_col_val, filter_col_val_display, 'Alan_Watts_Ratings')"
   ]
  },
  {
   "cell_type": "markdown",
   "id": "ff17cf5c-be29-4c28-830e-a995be6a782e",
   "metadata": {},
   "source": [
    "### Alternative Radio"
   ]
  },
  {
   "cell_type": "code",
   "execution_count": 43,
   "id": "781502b6-6f22-4eac-9365-21f6ebf42c8e",
   "metadata": {
    "tags": [
     "remove-input"
    ]
   },
   "outputs": [
    {
     "data": {
      "image/png": "[encoded data removed]",
      "text/plain": [
       "<Figure size 432x288 with 1 Axes>"
      ]
     },
     "metadata": {
      "filenames": {
       "image/png": "/Users/sanfordbaran/Desktop/KGNU/KGNU-Survey-Project/kgnu-audience-survey-staging/docs/_build/jupyter_execute/show_ratings/ages_19_to_30_random_84_0.png"
      },
      "needs_background": "light"
     },
     "output_type": "display_data"
    },
    {
     "name": "stdout",
     "output_type": "stream",
     "text": [
      "Filter: Ages 19 - 30\n",
      "Total Respondents: 2\n",
      "Respondents Familiar with Show: 2\n",
      "Percent Familiar with Show: 100.0%\n",
      "Median: 5\n",
      "Mean: 5.50\n",
      "Overall Ranking: 7\n",
      "News-Show Ranking: 4\n"
     ]
    }
   ],
   "source": [
    "create_hist_and_stats(df, filter_col, filter_col_val, filter_col_val_display, 'Alternative_Radio_Ratings')"
   ]
  },
  {
   "cell_type": "markdown",
   "id": "6cd19c2a-03ab-42f3-ad58-d65bdef2e9ad",
   "metadata": {},
   "source": [
    "### BBC News Hour"
   ]
  },
  {
   "cell_type": "code",
   "execution_count": 44,
   "id": "de42f1ec-d35f-42b0-b27d-ff36dacdfb71",
   "metadata": {
    "tags": [
     "remove-input"
    ]
   },
   "outputs": [
    {
     "data": {
      "image/png": "[encoded data removed]",
      "text/plain": [
       "<Figure size 432x288 with 1 Axes>"
      ]
     },
     "metadata": {
      "filenames": {
       "image/png": "/Users/sanfordbaran/Desktop/KGNU/KGNU-Survey-Project/kgnu-audience-survey-staging/docs/_build/jupyter_execute/show_ratings/ages_19_to_30_random_86_0.png"
      },
      "needs_background": "light"
     },
     "output_type": "display_data"
    },
    {
     "name": "stdout",
     "output_type": "stream",
     "text": [
      "Filter: Ages 19 - 30\n",
      "Total Respondents: 2\n",
      "Respondents Familiar with Show: 1\n",
      "Percent Familiar with Show: 50.0%\n",
      "Median: 7\n",
      "Mean: 7.00\n",
      "Overall Ranking: 11\n",
      "News-Show Ranking: 8\n"
     ]
    }
   ],
   "source": [
    "create_hist_and_stats(df, filter_col, filter_col_val, filter_col_val_display, 'BBC_News_Hour_Ratings')"
   ]
  },
  {
   "cell_type": "markdown",
   "id": "d2b024df-b035-4438-86c3-252f2765f939",
   "metadata": {},
   "source": [
    "### BBC The Newsroom"
   ]
  },
  {
   "cell_type": "code",
   "execution_count": 45,
   "id": "cc1ef761-54b0-4575-b30e-b1be48f66e48",
   "metadata": {
    "tags": [
     "remove-input"
    ]
   },
   "outputs": [
    {
     "data": {
      "image/png": "[encoded data removed]",
      "text/plain": [
       "<Figure size 432x288 with 1 Axes>"
      ]
     },
     "metadata": {
      "filenames": {
       "image/png": "/Users/sanfordbaran/Desktop/KGNU/KGNU-Survey-Project/kgnu-audience-survey-staging/docs/_build/jupyter_execute/show_ratings/ages_19_to_30_random_88_0.png"
      },
      "needs_background": "light"
     },
     "output_type": "display_data"
    },
    {
     "name": "stdout",
     "output_type": "stream",
     "text": [
      "Filter: Ages 19 - 30\n",
      "Total Respondents: 2\n",
      "Respondents Familiar with Show: 1\n",
      "Percent Familiar with Show: 50.0%\n",
      "Median: 7\n",
      "Mean: 7.00\n",
      "Overall Ranking: 11\n",
      "News-Show Ranking: 8\n"
     ]
    }
   ],
   "source": [
    "create_hist_and_stats(df, filter_col, filter_col_val, filter_col_val_display, 'BBC_The_Newsroom_Ratings')"
   ]
  },
  {
   "cell_type": "markdown",
   "id": "50fb2227-287b-4884-a53e-da3081ab7845",
   "metadata": {},
   "source": [
    "### Between the Lines"
   ]
  },
  {
   "cell_type": "code",
   "execution_count": 46,
   "id": "67ef1af7-b643-466e-a716-6c75593122fd",
   "metadata": {
    "tags": [
     "remove-input"
    ]
   },
   "outputs": [
    {
     "data": {
      "image/png": "[encoded data removed]",
      "text/plain": [
       "<Figure size 432x288 with 1 Axes>"
      ]
     },
     "metadata": {
      "filenames": {
       "image/png": "/Users/sanfordbaran/Desktop/KGNU/KGNU-Survey-Project/kgnu-audience-survey-staging/docs/_build/jupyter_execute/show_ratings/ages_19_to_30_random_90_0.png"
      },
      "needs_background": "light"
     },
     "output_type": "display_data"
    },
    {
     "name": "stdout",
     "output_type": "stream",
     "text": [
      "Filter: Ages 19 - 30\n",
      "Total Respondents: 2\n",
      "Respondents Familiar with Show: 1\n",
      "Percent Familiar with Show: 50.0%\n",
      "Median: 6\n",
      "Mean: 6.00\n",
      "Overall Ranking: 12\n",
      "News-Show Ranking: 9\n"
     ]
    }
   ],
   "source": [
    "create_hist_and_stats(df, filter_col, filter_col_val, filter_col_val_display, 'Between_the_Lines_Ratings')"
   ]
  },
  {
   "cell_type": "markdown",
   "id": "b34c5312-fff6-4a67-be63-b60c381f4966",
   "metadata": {},
   "source": [
    "### Bioneers"
   ]
  },
  {
   "cell_type": "code",
   "execution_count": 47,
   "id": "866002af-66f9-4a9d-aa7e-a84cfdf9ae00",
   "metadata": {
    "tags": [
     "remove-input"
    ]
   },
   "outputs": [
    {
     "data": {
      "image/png": "[encoded data removed]",
      "text/plain": [
       "<Figure size 432x288 with 1 Axes>"
      ]
     },
     "metadata": {
      "filenames": {
       "image/png": "/Users/sanfordbaran/Desktop/KGNU/KGNU-Survey-Project/kgnu-audience-survey-staging/docs/_build/jupyter_execute/show_ratings/ages_19_to_30_random_92_0.png"
      },
      "needs_background": "light"
     },
     "output_type": "display_data"
    },
    {
     "name": "stdout",
     "output_type": "stream",
     "text": [
      "Filter: Ages 19 - 30\n",
      "Total Respondents: 2\n",
      "Respondents Familiar with Show: 1\n",
      "Percent Familiar with Show: 50.0%\n",
      "Median: 6\n",
      "Mean: 6.00\n",
      "Overall Ranking: 12\n",
      "News-Show Ranking: 9\n"
     ]
    }
   ],
   "source": [
    "create_hist_and_stats(df, filter_col, filter_col_val, filter_col_val_display, 'Bioneers_Ratings')"
   ]
  },
  {
   "cell_type": "markdown",
   "id": "2d83ab0d-c655-4d80-83ea-31bbeffb4777",
   "metadata": {},
   "source": [
    "### Black Talk"
   ]
  },
  {
   "cell_type": "code",
   "execution_count": 48,
   "id": "659ace2b-8468-4910-8bc7-0f04bb504c69",
   "metadata": {
    "tags": [
     "remove-input"
    ]
   },
   "outputs": [
    {
     "data": {
      "image/png": "[encoded data removed]",
      "text/plain": [
       "<Figure size 432x288 with 1 Axes>"
      ]
     },
     "metadata": {
      "filenames": {
       "image/png": "/Users/sanfordbaran/Desktop/KGNU/KGNU-Survey-Project/kgnu-audience-survey-staging/docs/_build/jupyter_execute/show_ratings/ages_19_to_30_random_94_0.png"
      },
      "needs_background": "light"
     },
     "output_type": "display_data"
    },
    {
     "name": "stdout",
     "output_type": "stream",
     "text": [
      "Filter: Ages 19 - 30\n",
      "Total Respondents: 2\n",
      "Respondents Familiar with Show: 1\n",
      "Percent Familiar with Show: 50.0%\n",
      "Median: 9\n",
      "Mean: 9.00\n",
      "Overall Ranking: 9\n",
      "News-Show Ranking: 6\n"
     ]
    }
   ],
   "source": [
    "create_hist_and_stats(df, filter_col, filter_col_val, filter_col_val_display, 'Black_Talk_Ratings')"
   ]
  },
  {
   "cell_type": "markdown",
   "id": "19f5124b-08ed-4358-987a-ad6588f7904b",
   "metadata": {},
   "source": [
    "### Colorado Chinese Radio Network"
   ]
  },
  {
   "cell_type": "code",
   "execution_count": 49,
   "id": "c2db4f1e-797b-4cbf-9ff7-db4cdb304d3f",
   "metadata": {
    "tags": [
     "remove-input"
    ]
   },
   "outputs": [
    {
     "data": {
      "image/png": "[encoded data removed]",
      "text/plain": [
       "<Figure size 432x288 with 1 Axes>"
      ]
     },
     "metadata": {
      "filenames": {
       "image/png": "/Users/sanfordbaran/Desktop/KGNU/KGNU-Survey-Project/kgnu-audience-survey-staging/docs/_build/jupyter_execute/show_ratings/ages_19_to_30_random_96_0.png"
      },
      "needs_background": "light"
     },
     "output_type": "display_data"
    },
    {
     "name": "stdout",
     "output_type": "stream",
     "text": [
      "Filter: Ages 19 - 30\n",
      "Total Respondents: 2\n",
      "Respondents Familiar with Show: 2\n",
      "Percent Familiar with Show: 100.0%\n",
      "Median: 7\n",
      "Mean: 7.50\n",
      "Overall Ranking: 3\n",
      "News-Show Ranking: 2\n"
     ]
    }
   ],
   "source": [
    "create_hist_and_stats(df, filter_col, filter_col_val, filter_col_val_display, 'Col_Chinese_Radio_Network_Ratings')"
   ]
  },
  {
   "cell_type": "markdown",
   "id": "596862d4-1737-4bb7-9155-4b2ee011a326",
   "metadata": {},
   "source": [
    "### Connections"
   ]
  },
  {
   "cell_type": "code",
   "execution_count": 50,
   "id": "2da4a67e-f09e-460e-8fbd-3e5be95dd640",
   "metadata": {
    "tags": [
     "remove-input"
    ]
   },
   "outputs": [
    {
     "data": {
      "image/png": "[encoded data removed]",
      "text/plain": [
       "<Figure size 432x288 with 1 Axes>"
      ]
     },
     "metadata": {
      "filenames": {
       "image/png": "/Users/sanfordbaran/Desktop/KGNU/KGNU-Survey-Project/kgnu-audience-survey-staging/docs/_build/jupyter_execute/show_ratings/ages_19_to_30_random_98_0.png"
      },
      "needs_background": "light"
     },
     "output_type": "display_data"
    },
    {
     "name": "stdout",
     "output_type": "stream",
     "text": [
      "Filter: Ages 19 - 30\n",
      "Total Respondents: 2\n",
      "Respondents Familiar with Show: 1\n",
      "Percent Familiar with Show: 50.0%\n",
      "Median: 7\n",
      "Mean: 7.00\n",
      "Overall Ranking: 11\n",
      "News-Show Ranking: 8\n"
     ]
    }
   ],
   "source": [
    "create_hist_and_stats(df, filter_col, filter_col_val, filter_col_val_display, 'Connections_Ratings')"
   ]
  },
  {
   "cell_type": "markdown",
   "id": "3482fb5d-cc9a-40d9-92b6-b7c2607e81a9",
   "metadata": {},
   "source": [
    "### Counterspin"
   ]
  },
  {
   "cell_type": "code",
   "execution_count": 51,
   "id": "136c90be-de1e-406e-8a43-8fbf59eeacfb",
   "metadata": {
    "tags": [
     "remove-input"
    ]
   },
   "outputs": [
    {
     "data": {
      "image/png": "[encoded data removed]",
      "text/plain": [
       "<Figure size 432x288 with 1 Axes>"
      ]
     },
     "metadata": {
      "filenames": {
       "image/png": "/Users/sanfordbaran/Desktop/KGNU/KGNU-Survey-Project/kgnu-audience-survey-staging/docs/_build/jupyter_execute/show_ratings/ages_19_to_30_random_100_0.png"
      },
      "needs_background": "light"
     },
     "output_type": "display_data"
    },
    {
     "name": "stdout",
     "output_type": "stream",
     "text": [
      "Filter: Ages 19 - 30\n",
      "Total Respondents: 2\n",
      "Respondents Familiar with Show: 1\n",
      "Percent Familiar with Show: 50.0%\n",
      "Median: 6\n",
      "Mean: 6.00\n",
      "Overall Ranking: 12\n",
      "News-Show Ranking: 9\n"
     ]
    }
   ],
   "source": [
    "create_hist_and_stats(df, filter_col, filter_col_val, filter_col_val_display, 'Counterspin_Ratings')"
   ]
  },
  {
   "cell_type": "markdown",
   "id": "6bf9e8c3-f66b-4e02-9063-59d46882e15d",
   "metadata": {},
   "source": [
    "### Democracy Now"
   ]
  },
  {
   "cell_type": "code",
   "execution_count": 52,
   "id": "0dbe450b-f4d6-4108-8ac6-d886abfa079b",
   "metadata": {
    "tags": [
     "remove-input"
    ]
   },
   "outputs": [
    {
     "data": {
      "image/png": "[encoded data removed]",
      "text/plain": [
       "<Figure size 432x288 with 1 Axes>"
      ]
     },
     "metadata": {
      "filenames": {
       "image/png": "/Users/sanfordbaran/Desktop/KGNU/KGNU-Survey-Project/kgnu-audience-survey-staging/docs/_build/jupyter_execute/show_ratings/ages_19_to_30_random_102_0.png"
      },
      "needs_background": "light"
     },
     "output_type": "display_data"
    },
    {
     "name": "stdout",
     "output_type": "stream",
     "text": [
      "Filter: Ages 19 - 30\n",
      "Total Respondents: 2\n",
      "Respondents Familiar with Show: 1\n",
      "Percent Familiar with Show: 50.0%\n",
      "Median: 8\n",
      "Mean: 8.00\n",
      "Overall Ranking: 10\n",
      "News-Show Ranking: 7\n"
     ]
    }
   ],
   "source": [
    "create_hist_and_stats(df, filter_col, filter_col_val, filter_col_val_display, 'Democracy_Now_Ratings')"
   ]
  },
  {
   "cell_type": "markdown",
   "id": "c223061d-2c0c-45f6-adbd-b0cc14606dcb",
   "metadata": {},
   "source": [
    "### Economic Update"
   ]
  },
  {
   "cell_type": "code",
   "execution_count": 53,
   "id": "c6a22f3b-dc8a-4f42-8ca8-4970034539f3",
   "metadata": {
    "tags": [
     "remove-input"
    ]
   },
   "outputs": [
    {
     "data": {
      "image/png": "[encoded data removed]",
      "text/plain": [
       "<Figure size 432x288 with 1 Axes>"
      ]
     },
     "metadata": {
      "filenames": {
       "image/png": "/Users/sanfordbaran/Desktop/KGNU/KGNU-Survey-Project/kgnu-audience-survey-staging/docs/_build/jupyter_execute/show_ratings/ages_19_to_30_random_104_0.png"
      },
      "needs_background": "light"
     },
     "output_type": "display_data"
    },
    {
     "name": "stdout",
     "output_type": "stream",
     "text": [
      "Filter: Ages 19 - 30\n",
      "Total Respondents: 2\n",
      "Respondents Familiar with Show: 1\n",
      "Percent Familiar with Show: 50.0%\n",
      "Median: 5\n",
      "Mean: 5.00\n",
      "Overall Ranking: 13\n",
      "News-Show Ranking: 10\n"
     ]
    }
   ],
   "source": [
    "create_hist_and_stats(df, filter_col, filter_col_val, filter_col_val_display, 'Economic_Update_Ratings')"
   ]
  },
  {
   "cell_type": "markdown",
   "id": "a8208d95-b81b-42a1-b867-0f5a945258ae",
   "metadata": {},
   "source": [
    "### Hemispheres"
   ]
  },
  {
   "cell_type": "code",
   "execution_count": 54,
   "id": "e35c3548-df7c-49db-a4b1-ac37347f0a5a",
   "metadata": {
    "tags": [
     "remove-input"
    ]
   },
   "outputs": [
    {
     "data": {
      "image/png": "[encoded data removed]",
      "text/plain": [
       "<Figure size 432x288 with 1 Axes>"
      ]
     },
     "metadata": {
      "filenames": {
       "image/png": "/Users/sanfordbaran/Desktop/KGNU/KGNU-Survey-Project/kgnu-audience-survey-staging/docs/_build/jupyter_execute/show_ratings/ages_19_to_30_random_106_0.png"
      },
      "needs_background": "light"
     },
     "output_type": "display_data"
    },
    {
     "name": "stdout",
     "output_type": "stream",
     "text": [
      "Filter: Ages 19 - 30\n",
      "Total Respondents: 2\n",
      "Respondents Familiar with Show: 1\n",
      "Percent Familiar with Show: 50.0%\n",
      "Median: 5\n",
      "Mean: 5.00\n",
      "Overall Ranking: 13\n",
      "News-Show Ranking: 10\n"
     ]
    }
   ],
   "source": [
    "create_hist_and_stats(df, filter_col, filter_col_val, filter_col_val_display, 'Hemispheres_Ratings')"
   ]
  },
  {
   "cell_type": "markdown",
   "id": "5d33fb83-9504-458b-85b1-46b1d5d93b2d",
   "metadata": {},
   "source": [
    "### How on Earth"
   ]
  },
  {
   "cell_type": "code",
   "execution_count": 55,
   "id": "0f8377e2-dbf0-4b92-937f-974037efb9e4",
   "metadata": {
    "tags": [
     "remove-input"
    ]
   },
   "outputs": [
    {
     "data": {
      "image/png": "[encoded data removed]",
      "text/plain": [
       "<Figure size 432x288 with 1 Axes>"
      ]
     },
     "metadata": {
      "filenames": {
       "image/png": "/Users/sanfordbaran/Desktop/KGNU/KGNU-Survey-Project/kgnu-audience-survey-staging/docs/_build/jupyter_execute/show_ratings/ages_19_to_30_random_108_0.png"
      },
      "needs_background": "light"
     },
     "output_type": "display_data"
    },
    {
     "name": "stdout",
     "output_type": "stream",
     "text": [
      "Filter: Ages 19 - 30\n",
      "Total Respondents: 2\n",
      "Respondents Familiar with Show: 1\n",
      "Percent Familiar with Show: 50.0%\n",
      "Median: 6\n",
      "Mean: 6.00\n",
      "Overall Ranking: 12\n",
      "News-Show Ranking: 9\n"
     ]
    }
   ],
   "source": [
    "create_hist_and_stats(df, filter_col, filter_col_val, filter_col_val_display, 'How_on_Earth_Ratings')"
   ]
  },
  {
   "cell_type": "markdown",
   "id": "f1f06f99-ce26-4d61-bc38-bf005ee7294c",
   "metadata": {},
   "source": [
    "### Indian Voices"
   ]
  },
  {
   "cell_type": "code",
   "execution_count": 56,
   "id": "ba590748-7caf-44a5-b261-1c16ead59a74",
   "metadata": {
    "tags": [
     "remove-input"
    ]
   },
   "outputs": [
    {
     "data": {
      "image/png": "[encoded data removed]",
      "text/plain": [
       "<Figure size 432x288 with 1 Axes>"
      ]
     },
     "metadata": {
      "filenames": {
       "image/png": "/Users/sanfordbaran/Desktop/KGNU/KGNU-Survey-Project/kgnu-audience-survey-staging/docs/_build/jupyter_execute/show_ratings/ages_19_to_30_random_110_0.png"
      },
      "needs_background": "light"
     },
     "output_type": "display_data"
    },
    {
     "name": "stdout",
     "output_type": "stream",
     "text": [
      "Filter: Ages 19 - 30\n",
      "Total Respondents: 2\n",
      "Respondents Familiar with Show: 2\n",
      "Percent Familiar with Show: 100.0%\n",
      "Median: 8\n",
      "Mean: 8.00\n",
      "Overall Ranking: 2\n",
      "News-Show Ranking: 1\n"
     ]
    }
   ],
   "source": [
    "create_hist_and_stats(df, filter_col, filter_col_val, filter_col_val_display, 'Indian_Voices_Ratings')"
   ]
  },
  {
   "cell_type": "markdown",
   "id": "2dbbe5da-3d36-4989-8da8-fe955d4b6581",
   "metadata": {},
   "source": [
    "### It's the Economy"
   ]
  },
  {
   "cell_type": "code",
   "execution_count": 57,
   "id": "c194fa00-5c9b-4d8a-9e05-121e271b81ab",
   "metadata": {
    "tags": [
     "remove-input"
    ]
   },
   "outputs": [
    {
     "data": {
      "image/png": "[encoded data removed]",
      "text/plain": [
       "<Figure size 432x288 with 1 Axes>"
      ]
     },
     "metadata": {
      "filenames": {
       "image/png": "/Users/sanfordbaran/Desktop/KGNU/KGNU-Survey-Project/kgnu-audience-survey-staging/docs/_build/jupyter_execute/show_ratings/ages_19_to_30_random_112_0.png"
      },
      "needs_background": "light"
     },
     "output_type": "display_data"
    },
    {
     "name": "stdout",
     "output_type": "stream",
     "text": [
      "Filter: Ages 19 - 30\n",
      "Total Respondents: 2\n",
      "Respondents Familiar with Show: 2\n",
      "Percent Familiar with Show: 100.0%\n",
      "Median: 4\n",
      "Mean: 4.50\n",
      "Overall Ranking: 9\n",
      "News-Show Ranking: 6\n"
     ]
    }
   ],
   "source": [
    "create_hist_and_stats(df, filter_col, filter_col_val, filter_col_val_display, 'Its_The_Economy_Ratings')"
   ]
  },
  {
   "cell_type": "markdown",
   "id": "60ab6f0e-62d7-4fce-bb2c-eaf8a0dba45d",
   "metadata": {},
   "source": [
    "### Jim Hightower"
   ]
  },
  {
   "cell_type": "code",
   "execution_count": 58,
   "id": "a703e61b-059f-4473-aa82-79681b5c076d",
   "metadata": {
    "tags": [
     "remove-input"
    ]
   },
   "outputs": [
    {
     "data": {
      "image/png": "[encoded data removed]",
      "text/plain": [
       "<Figure size 432x288 with 1 Axes>"
      ]
     },
     "metadata": {
      "filenames": {
       "image/png": "/Users/sanfordbaran/Desktop/KGNU/KGNU-Survey-Project/kgnu-audience-survey-staging/docs/_build/jupyter_execute/show_ratings/ages_19_to_30_random_114_0.png"
      },
      "needs_background": "light"
     },
     "output_type": "display_data"
    },
    {
     "name": "stdout",
     "output_type": "stream",
     "text": [
      "Filter: Ages 19 - 30\n",
      "Total Respondents: 2\n",
      "Respondents Familiar with Show: 1\n",
      "Percent Familiar with Show: 50.0%\n",
      "Median: 5\n",
      "Mean: 5.00\n",
      "Overall Ranking: 13\n",
      "News-Show Ranking: 10\n"
     ]
    }
   ],
   "source": [
    "create_hist_and_stats(df, filter_col, filter_col_val, filter_col_val_display, 'Jim_Hightower_Ratings')"
   ]
  },
  {
   "cell_type": "markdown",
   "id": "132cff9d-08ff-46e4-8ee1-80bca0f38b40",
   "metadata": {},
   "source": [
    "### La Lucha Sigue"
   ]
  },
  {
   "cell_type": "code",
   "execution_count": 59,
   "id": "1d51689e-c302-4f57-957e-203abb8ba7fe",
   "metadata": {
    "tags": [
     "remove-input"
    ]
   },
   "outputs": [
    {
     "data": {
      "image/png": "[encoded data removed]",
      "text/plain": [
       "<Figure size 432x288 with 1 Axes>"
      ]
     },
     "metadata": {
      "filenames": {
       "image/png": "/Users/sanfordbaran/Desktop/KGNU/KGNU-Survey-Project/kgnu-audience-survey-staging/docs/_build/jupyter_execute/show_ratings/ages_19_to_30_random_116_0.png"
      },
      "needs_background": "light"
     },
     "output_type": "display_data"
    },
    {
     "name": "stdout",
     "output_type": "stream",
     "text": [
      "Filter: Ages 19 - 30\n",
      "Total Respondents: 2\n",
      "Respondents Familiar with Show: 1\n",
      "Percent Familiar with Show: 50.0%\n",
      "Median: 7\n",
      "Mean: 7.00\n",
      "Overall Ranking: 11\n",
      "News-Show Ranking: 8\n"
     ]
    }
   ],
   "source": [
    "create_hist_and_stats(df, filter_col, filter_col_val, filter_col_val_display, 'La_Lucha_Sigue_Ratings')"
   ]
  },
  {
   "cell_type": "markdown",
   "id": "fe242b92-2da8-425f-9dc8-74782c1c871b",
   "metadata": {},
   "source": [
    "### Labor Exchange"
   ]
  },
  {
   "cell_type": "code",
   "execution_count": 60,
   "id": "0bb60766-be9b-44a9-9a58-22dab2c0e794",
   "metadata": {
    "tags": [
     "remove-input"
    ]
   },
   "outputs": [
    {
     "data": {
      "image/png": "[encoded data removed]",
      "text/plain": [
       "<Figure size 432x288 with 1 Axes>"
      ]
     },
     "metadata": {
      "filenames": {
       "image/png": "/Users/sanfordbaran/Desktop/KGNU/KGNU-Survey-Project/kgnu-audience-survey-staging/docs/_build/jupyter_execute/show_ratings/ages_19_to_30_random_118_0.png"
      },
      "needs_background": "light"
     },
     "output_type": "display_data"
    },
    {
     "name": "stdout",
     "output_type": "stream",
     "text": [
      "Filter: Ages 19 - 30\n",
      "Total Respondents: 2\n",
      "Respondents Familiar with Show: 1\n",
      "Percent Familiar with Show: 50.0%\n",
      "Median: 6\n",
      "Mean: 6.00\n",
      "Overall Ranking: 12\n",
      "News-Show Ranking: 9\n"
     ]
    }
   ],
   "source": [
    "create_hist_and_stats(df, filter_col, filter_col_val, filter_col_val_display, 'Labor_Exchange_Ratings')"
   ]
  },
  {
   "cell_type": "markdown",
   "id": "e67985ff-4525-4054-9f12-b1dcc4c7e573",
   "metadata": {},
   "source": [
    "### Linea Abierta"
   ]
  },
  {
   "cell_type": "code",
   "execution_count": 61,
   "id": "4068d4e7-c3f0-4123-8aba-17a96bec012b",
   "metadata": {
    "tags": [
     "remove-input"
    ]
   },
   "outputs": [
    {
     "data": {
      "image/png": "[encoded data removed]",
      "text/plain": [
       "<Figure size 432x288 with 1 Axes>"
      ]
     },
     "metadata": {
      "filenames": {
       "image/png": "/Users/sanfordbaran/Desktop/KGNU/KGNU-Survey-Project/kgnu-audience-survey-staging/docs/_build/jupyter_execute/show_ratings/ages_19_to_30_random_120_0.png"
      },
      "needs_background": "light"
     },
     "output_type": "display_data"
    },
    {
     "name": "stdout",
     "output_type": "stream",
     "text": [
      "Filter: Ages 19 - 30\n",
      "Total Respondents: 2\n",
      "Respondents Familiar with Show: 1\n",
      "Percent Familiar with Show: 50.0%\n",
      "Median: 6\n",
      "Mean: 6.00\n",
      "Overall Ranking: 12\n",
      "News-Show Ranking: 9\n"
     ]
    }
   ],
   "source": [
    "create_hist_and_stats(df, filter_col, filter_col_val, filter_col_val_display, 'Linea_Abierta_Ratings')"
   ]
  },
  {
   "cell_type": "markdown",
   "id": "dd8af60e-1a3e-48f5-bfdd-054642c8007d",
   "metadata": {},
   "source": [
    "### Living Dialogues"
   ]
  },
  {
   "cell_type": "code",
   "execution_count": 62,
   "id": "0a57ba98-5fab-4b89-93dd-463859ff9991",
   "metadata": {
    "tags": [
     "remove-input"
    ]
   },
   "outputs": [
    {
     "data": {
      "image/png": "[encoded data removed]",
      "text/plain": [
       "<Figure size 432x288 with 1 Axes>"
      ]
     },
     "metadata": {
      "filenames": {
       "image/png": "/Users/sanfordbaran/Desktop/KGNU/KGNU-Survey-Project/kgnu-audience-survey-staging/docs/_build/jupyter_execute/show_ratings/ages_19_to_30_random_122_0.png"
      },
      "needs_background": "light"
     },
     "output_type": "display_data"
    },
    {
     "name": "stdout",
     "output_type": "stream",
     "text": [
      "Filter: Ages 19 - 30\n",
      "Total Respondents: 2\n",
      "Respondents Familiar with Show: 1\n",
      "Percent Familiar with Show: 50.0%\n",
      "Median: 7\n",
      "Mean: 7.00\n",
      "Overall Ranking: 11\n",
      "News-Show Ranking: 8\n"
     ]
    }
   ],
   "source": [
    "create_hist_and_stats(df, filter_col, filter_col_val, filter_col_val_display, 'Living_Dialogues_Ratings')"
   ]
  },
  {
   "cell_type": "markdown",
   "id": "637e60ce-2471-4437-9745-659d5f13b17c",
   "metadata": {},
   "source": [
    "### Local PM Headlines Spanish"
   ]
  },
  {
   "cell_type": "code",
   "execution_count": 63,
   "id": "8a66de37-b9ab-4b0a-abbc-d7f49838c2b3",
   "metadata": {
    "tags": [
     "remove-input"
    ]
   },
   "outputs": [
    {
     "data": {
      "image/png": "[encoded data removed]",
      "text/plain": [
       "<Figure size 432x288 with 1 Axes>"
      ]
     },
     "metadata": {
      "filenames": {
       "image/png": "/Users/sanfordbaran/Desktop/KGNU/KGNU-Survey-Project/kgnu-audience-survey-staging/docs/_build/jupyter_execute/show_ratings/ages_19_to_30_random_124_0.png"
      },
      "needs_background": "light"
     },
     "output_type": "display_data"
    },
    {
     "name": "stdout",
     "output_type": "stream",
     "text": [
      "Filter: Ages 19 - 30\n",
      "Total Respondents: 2\n",
      "Respondents Familiar with Show: 1\n",
      "Percent Familiar with Show: 50.0%\n",
      "Median: 8\n",
      "Mean: 8.00\n",
      "Overall Ranking: 10\n",
      "News-Show Ranking: 7\n"
     ]
    }
   ],
   "source": [
    "create_hist_and_stats(df, filter_col, filter_col_val, filter_col_val_display, 'Local_PM_Headlines_Spanish_Ratings')"
   ]
  },
  {
   "cell_type": "markdown",
   "id": "f3be38c7-b350-45b9-b959-79c4a772b5c0",
   "metadata": {},
   "source": [
    "### Making Contact"
   ]
  },
  {
   "cell_type": "code",
   "execution_count": 64,
   "id": "9b26101c-45ca-4391-9e3a-0ff3fce630cb",
   "metadata": {
    "tags": [
     "remove-input"
    ]
   },
   "outputs": [
    {
     "data": {
      "image/png": "[encoded data removed]",
      "text/plain": [
       "<Figure size 432x288 with 1 Axes>"
      ]
     },
     "metadata": {
      "filenames": {
       "image/png": "/Users/sanfordbaran/Desktop/KGNU/KGNU-Survey-Project/kgnu-audience-survey-staging/docs/_build/jupyter_execute/show_ratings/ages_19_to_30_random_126_0.png"
      },
      "needs_background": "light"
     },
     "output_type": "display_data"
    },
    {
     "name": "stdout",
     "output_type": "stream",
     "text": [
      "Filter: Ages 19 - 30\n",
      "Total Respondents: 2\n",
      "Respondents Familiar with Show: 1\n",
      "Percent Familiar with Show: 50.0%\n",
      "Median: 6\n",
      "Mean: 6.00\n",
      "Overall Ranking: 12\n",
      "News-Show Ranking: 9\n"
     ]
    }
   ],
   "source": [
    "create_hist_and_stats(df, filter_col, filter_col_val, filter_col_val_display, 'Making_Contact_Ratings')"
   ]
  },
  {
   "cell_type": "markdown",
   "id": "acd7364c-49ce-4b26-9e7d-fc664b526935",
   "metadata": {},
   "source": [
    "### Metro"
   ]
  },
  {
   "cell_type": "code",
   "execution_count": 65,
   "id": "1d58963f-a218-411d-a3dc-92989baff0a9",
   "metadata": {
    "tags": [
     "remove-input"
    ]
   },
   "outputs": [
    {
     "data": {
      "image/png": "[encoded data removed]",
      "text/plain": [
       "<Figure size 432x288 with 1 Axes>"
      ]
     },
     "metadata": {
      "filenames": {
       "image/png": "/Users/sanfordbaran/Desktop/KGNU/KGNU-Survey-Project/kgnu-audience-survey-staging/docs/_build/jupyter_execute/show_ratings/ages_19_to_30_random_128_0.png"
      },
      "needs_background": "light"
     },
     "output_type": "display_data"
    },
    {
     "name": "stdout",
     "output_type": "stream",
     "text": [
      "Filter: Ages 19 - 30\n",
      "Total Respondents: 2\n",
      "Respondents Familiar with Show: 1\n",
      "Percent Familiar with Show: 50.0%\n",
      "Median: 5\n",
      "Mean: 5.00\n",
      "Overall Ranking: 13\n",
      "News-Show Ranking: 10\n"
     ]
    }
   ],
   "source": [
    "create_hist_and_stats(df, filter_col, filter_col_val, filter_col_val_display, 'Metro_Ratings')"
   ]
  },
  {
   "cell_type": "markdown",
   "id": "856b9bfa-225d-4c35-91d9-e8b608eedd08",
   "metadata": {},
   "source": [
    "### Metro Arts"
   ]
  },
  {
   "cell_type": "code",
   "execution_count": 66,
   "id": "b0736705-17cd-4fa3-9a49-fa17b69b2cdf",
   "metadata": {
    "tags": [
     "remove-input"
    ]
   },
   "outputs": [
    {
     "data": {
      "image/png": "[encoded data removed]",
      "text/plain": [
       "<Figure size 432x288 with 1 Axes>"
      ]
     },
     "metadata": {
      "filenames": {
       "image/png": "/Users/sanfordbaran/Desktop/KGNU/KGNU-Survey-Project/kgnu-audience-survey-staging/docs/_build/jupyter_execute/show_ratings/ages_19_to_30_random_130_0.png"
      },
      "needs_background": "light"
     },
     "output_type": "display_data"
    },
    {
     "name": "stdout",
     "output_type": "stream",
     "text": [
      "Filter: Ages 19 - 30\n",
      "Total Respondents: 2\n",
      "Respondents Familiar with Show: 1\n",
      "Percent Familiar with Show: 50.0%\n",
      "Median: 4\n",
      "Mean: 4.00\n",
      "Overall Ranking: 14\n",
      "News-Show Ranking: 11\n"
     ]
    }
   ],
   "source": [
    "create_hist_and_stats(df, filter_col, filter_col_val, filter_col_val_display, 'Metro_Arts_Ratings')"
   ]
  },
  {
   "cell_type": "markdown",
   "id": "ed0634fe-9778-484e-a5d2-01837b859ff2",
   "metadata": {},
   "source": [
    "### Morning Magazine"
   ]
  },
  {
   "cell_type": "code",
   "execution_count": 67,
   "id": "863593f0-7a5c-4428-8885-7c9044e78a1f",
   "metadata": {
    "tags": [
     "remove-input"
    ]
   },
   "outputs": [
    {
     "data": {
      "image/png": "[encoded data removed]",
      "text/plain": [
       "<Figure size 432x288 with 1 Axes>"
      ]
     },
     "metadata": {
      "filenames": {
       "image/png": "/Users/sanfordbaran/Desktop/KGNU/KGNU-Survey-Project/kgnu-audience-survey-staging/docs/_build/jupyter_execute/show_ratings/ages_19_to_30_random_132_0.png"
      },
      "needs_background": "light"
     },
     "output_type": "display_data"
    },
    {
     "name": "stdout",
     "output_type": "stream",
     "text": [
      "Filter: Ages 19 - 30\n",
      "Total Respondents: 2\n",
      "Respondents Familiar with Show: 0\n",
      "Percent Familiar with Show: 0.0%\n"
     ]
    }
   ],
   "source": [
    "create_hist_and_stats(df, filter_col, filter_col_val, filter_col_val_display, 'Morning_Magazine_Ratings')"
   ]
  },
  {
   "cell_type": "markdown",
   "id": "5f688cfe-951e-4f01-b165-9aad12594359",
   "metadata": {},
   "source": [
    "### Naturally"
   ]
  },
  {
   "cell_type": "code",
   "execution_count": 68,
   "id": "b6c0bc10-bef9-4c70-abe1-b9f95c6d9178",
   "metadata": {
    "tags": [
     "remove-input"
    ]
   },
   "outputs": [
    {
     "data": {
      "image/png": "[encoded data removed]",
      "text/plain": [
       "<Figure size 432x288 with 1 Axes>"
      ]
     },
     "metadata": {
      "filenames": {
       "image/png": "/Users/sanfordbaran/Desktop/KGNU/KGNU-Survey-Project/kgnu-audience-survey-staging/docs/_build/jupyter_execute/show_ratings/ages_19_to_30_random_134_0.png"
      },
      "needs_background": "light"
     },
     "output_type": "display_data"
    },
    {
     "name": "stdout",
     "output_type": "stream",
     "text": [
      "Filter: Ages 19 - 30\n",
      "Total Respondents: 2\n",
      "Respondents Familiar with Show: 1\n",
      "Percent Familiar with Show: 50.0%\n",
      "Median: 8\n",
      "Mean: 8.00\n",
      "Overall Ranking: 10\n",
      "News-Show Ranking: 7\n"
     ]
    }
   ],
   "source": [
    "create_hist_and_stats(df, filter_col, filter_col_val, filter_col_val_display, 'Naturally_Ratings')"
   ]
  },
  {
   "cell_type": "markdown",
   "id": "63adc954-55fa-4352-be08-d656745f6141",
   "metadata": {},
   "source": [
    "### New Dimensions"
   ]
  },
  {
   "cell_type": "code",
   "execution_count": 69,
   "id": "0288e5c5-b74d-475c-948a-05814f6b7797",
   "metadata": {
    "tags": [
     "remove-input"
    ]
   },
   "outputs": [
    {
     "data": {
      "image/png": "[encoded data removed]",
      "text/plain": [
       "<Figure size 432x288 with 1 Axes>"
      ]
     },
     "metadata": {
      "filenames": {
       "image/png": "/Users/sanfordbaran/Desktop/KGNU/KGNU-Survey-Project/kgnu-audience-survey-staging/docs/_build/jupyter_execute/show_ratings/ages_19_to_30_random_136_0.png"
      },
      "needs_background": "light"
     },
     "output_type": "display_data"
    },
    {
     "name": "stdout",
     "output_type": "stream",
     "text": [
      "Filter: Ages 19 - 30\n",
      "Total Respondents: 2\n",
      "Respondents Familiar with Show: 2\n",
      "Percent Familiar with Show: 100.0%\n",
      "Median: 5\n",
      "Mean: 5.00\n",
      "Overall Ranking: 8\n",
      "News-Show Ranking: 5\n"
     ]
    }
   ],
   "source": [
    "create_hist_and_stats(df, filter_col, filter_col_val, filter_col_val_display, 'New_Dimensions_Ratings')"
   ]
  },
  {
   "cell_type": "markdown",
   "id": "e87e7315-ab74-4c4d-ae3b-fb5a4f6614e6",
   "metadata": {},
   "source": [
    "### Outsources"
   ]
  },
  {
   "cell_type": "code",
   "execution_count": 70,
   "id": "cbe43cb9-0fef-452c-b851-9f15e015e776",
   "metadata": {
    "tags": [
     "remove-input"
    ]
   },
   "outputs": [
    {
     "data": {
      "image/png": "[encoded data removed]",
      "text/plain": [
       "<Figure size 432x288 with 1 Axes>"
      ]
     },
     "metadata": {
      "filenames": {
       "image/png": "/Users/sanfordbaran/Desktop/KGNU/KGNU-Survey-Project/kgnu-audience-survey-staging/docs/_build/jupyter_execute/show_ratings/ages_19_to_30_random_138_0.png"
      },
      "needs_background": "light"
     },
     "output_type": "display_data"
    },
    {
     "name": "stdout",
     "output_type": "stream",
     "text": [
      "Filter: Ages 19 - 30\n",
      "Total Respondents: 2\n",
      "Respondents Familiar with Show: 1\n",
      "Percent Familiar with Show: 50.0%\n",
      "Median: 6\n",
      "Mean: 6.00\n",
      "Overall Ranking: 12\n",
      "News-Show Ranking: 9\n"
     ]
    }
   ],
   "source": [
    "create_hist_and_stats(df, filter_col, filter_col_val, filter_col_val_display, 'Outsources_Ratings')"
   ]
  },
  {
   "cell_type": "markdown",
   "id": "fccacad7-dc0a-46c9-b465-a9636a168434",
   "metadata": {},
   "source": [
    "### Pasa La Voz"
   ]
  },
  {
   "cell_type": "code",
   "execution_count": 71,
   "id": "66ed97fc-d039-4d3c-a032-7c457b1773ea",
   "metadata": {
    "tags": [
     "remove-input"
    ]
   },
   "outputs": [
    {
     "data": {
      "image/png": "[encoded data removed]",
      "text/plain": [
       "<Figure size 432x288 with 1 Axes>"
      ]
     },
     "metadata": {
      "filenames": {
       "image/png": "/Users/sanfordbaran/Desktop/KGNU/KGNU-Survey-Project/kgnu-audience-survey-staging/docs/_build/jupyter_execute/show_ratings/ages_19_to_30_random_140_0.png"
      },
      "needs_background": "light"
     },
     "output_type": "display_data"
    },
    {
     "name": "stdout",
     "output_type": "stream",
     "text": [
      "Filter: Ages 19 - 30\n",
      "Total Respondents: 2\n",
      "Respondents Familiar with Show: 1\n",
      "Percent Familiar with Show: 50.0%\n",
      "Median: 8\n",
      "Mean: 8.00\n",
      "Overall Ranking: 10\n",
      "News-Show Ranking: 7\n"
     ]
    }
   ],
   "source": [
    "create_hist_and_stats(df, filter_col, filter_col_val, filter_col_val_display, 'Pasa_La_Voz_Ratings')"
   ]
  },
  {
   "cell_type": "markdown",
   "id": "85477ef1-473c-4943-949a-2185c143362c",
   "metadata": {},
   "source": [
    "### Peace Talks"
   ]
  },
  {
   "cell_type": "code",
   "execution_count": 72,
   "id": "82486dfe-3a36-4016-9421-957ff9c68b68",
   "metadata": {
    "tags": [
     "remove-input"
    ]
   },
   "outputs": [
    {
     "data": {
      "image/png": "[encoded data removed]",
      "text/plain": [
       "<Figure size 432x288 with 1 Axes>"
      ]
     },
     "metadata": {
      "filenames": {
       "image/png": "/Users/sanfordbaran/Desktop/KGNU/KGNU-Survey-Project/kgnu-audience-survey-staging/docs/_build/jupyter_execute/show_ratings/ages_19_to_30_random_142_0.png"
      },
      "needs_background": "light"
     },
     "output_type": "display_data"
    },
    {
     "name": "stdout",
     "output_type": "stream",
     "text": [
      "Filter: Ages 19 - 30\n",
      "Total Respondents: 2\n",
      "Respondents Familiar with Show: 1\n",
      "Percent Familiar with Show: 50.0%\n",
      "Median: 7\n",
      "Mean: 7.00\n",
      "Overall Ranking: 11\n",
      "News-Show Ranking: 8\n"
     ]
    }
   ],
   "source": [
    "create_hist_and_stats(df, filter_col, filter_col_val, filter_col_val_display, 'Peace_Talks_Ratings')"
   ]
  },
  {
   "cell_type": "markdown",
   "id": "aa7fa87e-fa18-4caf-8457-554aab3e2951",
   "metadata": {},
   "source": [
    "### Project Censored"
   ]
  },
  {
   "cell_type": "code",
   "execution_count": 73,
   "id": "e8c9e998-a091-4a03-a357-51a9320629c9",
   "metadata": {
    "tags": [
     "remove-input"
    ]
   },
   "outputs": [
    {
     "data": {
      "image/png": "[encoded data removed]",
      "text/plain": [
       "<Figure size 432x288 with 1 Axes>"
      ]
     },
     "metadata": {
      "filenames": {
       "image/png": "/Users/sanfordbaran/Desktop/KGNU/KGNU-Survey-Project/kgnu-audience-survey-staging/docs/_build/jupyter_execute/show_ratings/ages_19_to_30_random_144_0.png"
      },
      "needs_background": "light"
     },
     "output_type": "display_data"
    },
    {
     "name": "stdout",
     "output_type": "stream",
     "text": [
      "Filter: Ages 19 - 30\n",
      "Total Respondents: 2\n",
      "Respondents Familiar with Show: 1\n",
      "Percent Familiar with Show: 50.0%\n",
      "Median: 7\n",
      "Mean: 7.00\n",
      "Overall Ranking: 11\n",
      "News-Show Ranking: 8\n"
     ]
    }
   ],
   "source": [
    "create_hist_and_stats(df, filter_col, filter_col_val, filter_col_val_display, 'Project_Censored_Ratings')"
   ]
  },
  {
   "cell_type": "markdown",
   "id": "de85fed3-5891-40df-8865-13ffa6702a34",
   "metadata": {},
   "source": [
    "### Rising Up with Sonali"
   ]
  },
  {
   "cell_type": "code",
   "execution_count": 74,
   "id": "9376dbfa-c221-4966-9439-97be3055e73d",
   "metadata": {
    "tags": [
     "remove-input"
    ]
   },
   "outputs": [
    {
     "data": {
      "image/png": "[encoded data removed]",
      "text/plain": [
       "<Figure size 432x288 with 1 Axes>"
      ]
     },
     "metadata": {
      "filenames": {
       "image/png": "/Users/sanfordbaran/Desktop/KGNU/KGNU-Survey-Project/kgnu-audience-survey-staging/docs/_build/jupyter_execute/show_ratings/ages_19_to_30_random_146_0.png"
      },
      "needs_background": "light"
     },
     "output_type": "display_data"
    },
    {
     "name": "stdout",
     "output_type": "stream",
     "text": [
      "Filter: Ages 19 - 30\n",
      "Total Respondents: 2\n",
      "Respondents Familiar with Show: 1\n",
      "Percent Familiar with Show: 50.0%\n",
      "Median: 7\n",
      "Mean: 7.00\n",
      "Overall Ranking: 11\n",
      "News-Show Ranking: 8\n"
     ]
    }
   ],
   "source": [
    "create_hist_and_stats(df, filter_col, filter_col_val, filter_col_val_display, 'Rising_Up_with_Sonali_Ratings')"
   ]
  },
  {
   "cell_type": "markdown",
   "id": "6b5e3145-4de0-4e3f-aa7d-757bb6faf102",
   "metadata": {},
   "source": [
    "### Sprouts"
   ]
  },
  {
   "cell_type": "code",
   "execution_count": 75,
   "id": "f06fbce9-5f1c-4071-9824-e7d5f388c168",
   "metadata": {
    "tags": [
     "remove-input"
    ]
   },
   "outputs": [
    {
     "data": {
      "image/png": "[encoded data removed]",
      "text/plain": [
       "<Figure size 432x288 with 1 Axes>"
      ]
     },
     "metadata": {
      "filenames": {
       "image/png": "/Users/sanfordbaran/Desktop/KGNU/KGNU-Survey-Project/kgnu-audience-survey-staging/docs/_build/jupyter_execute/show_ratings/ages_19_to_30_random_148_0.png"
      },
      "needs_background": "light"
     },
     "output_type": "display_data"
    },
    {
     "name": "stdout",
     "output_type": "stream",
     "text": [
      "Filter: Ages 19 - 30\n",
      "Total Respondents: 2\n",
      "Respondents Familiar with Show: 1\n",
      "Percent Familiar with Show: 50.0%\n",
      "Median: 6\n",
      "Mean: 6.00\n",
      "Overall Ranking: 12\n",
      "News-Show Ranking: 9\n"
     ]
    }
   ],
   "source": [
    "create_hist_and_stats(df, filter_col, filter_col_val, filter_col_val_display, 'Sprouts_Ratings')"
   ]
  },
  {
   "cell_type": "markdown",
   "id": "865a7cf9-347a-4f37-9fce-18d9b78962b1",
   "metadata": {},
   "source": [
    "### StoryTellers of Color"
   ]
  },
  {
   "cell_type": "code",
   "execution_count": 76,
   "id": "b4be20b1-0866-49f6-8f34-6ec365ea611a",
   "metadata": {
    "tags": [
     "remove-input"
    ]
   },
   "outputs": [
    {
     "data": {
      "image/png": "[encoded data removed]",
      "text/plain": [
       "<Figure size 432x288 with 1 Axes>"
      ]
     },
     "metadata": {
      "filenames": {
       "image/png": "/Users/sanfordbaran/Desktop/KGNU/KGNU-Survey-Project/kgnu-audience-survey-staging/docs/_build/jupyter_execute/show_ratings/ages_19_to_30_random_150_0.png"
      },
      "needs_background": "light"
     },
     "output_type": "display_data"
    },
    {
     "name": "stdout",
     "output_type": "stream",
     "text": [
      "Filter: Ages 19 - 30\n",
      "Total Respondents: 2\n",
      "Respondents Familiar with Show: 1\n",
      "Percent Familiar with Show: 50.0%\n",
      "Median: 9\n",
      "Mean: 9.00\n",
      "Overall Ranking: 9\n",
      "News-Show Ranking: 6\n"
     ]
    }
   ],
   "source": [
    "create_hist_and_stats(df, filter_col, filter_col_val, filter_col_val_display, 'StoryTellers_of_Color_Ratings')"
   ]
  },
  {
   "cell_type": "markdown",
   "id": "529ed75b-295e-4f03-8a2c-9ed16c57043c",
   "metadata": {},
   "source": [
    "### Laura Flanders"
   ]
  },
  {
   "cell_type": "code",
   "execution_count": 77,
   "id": "b04a8f74-6083-4205-bcd2-2b14b92c4f78",
   "metadata": {
    "tags": [
     "remove-input"
    ]
   },
   "outputs": [
    {
     "data": {
      "image/png": "[encoded data removed]",
      "text/plain": [
       "<Figure size 432x288 with 1 Axes>"
      ]
     },
     "metadata": {
      "filenames": {
       "image/png": "/Users/sanfordbaran/Desktop/KGNU/KGNU-Survey-Project/kgnu-audience-survey-staging/docs/_build/jupyter_execute/show_ratings/ages_19_to_30_random_152_0.png"
      },
      "needs_background": "light"
     },
     "output_type": "display_data"
    },
    {
     "name": "stdout",
     "output_type": "stream",
     "text": [
      "Filter: Ages 19 - 30\n",
      "Total Respondents: 2\n",
      "Respondents Familiar with Show: 1\n",
      "Percent Familiar with Show: 50.0%\n",
      "Median: 8\n",
      "Mean: 8.00\n",
      "Overall Ranking: 10\n",
      "News-Show Ranking: 7\n"
     ]
    }
   ],
   "source": [
    "create_hist_and_stats(df, filter_col, filter_col_val, filter_col_val_display, 'Laura_Flanders_Ratings')"
   ]
  },
  {
   "cell_type": "markdown",
   "id": "6db0c4b6-7661-457d-b309-36af8ada2741",
   "metadata": {},
   "source": [
    "### Ralph Nader"
   ]
  },
  {
   "cell_type": "code",
   "execution_count": 78,
   "id": "1c0f78bb-b148-4b1f-b8da-30061e9c3773",
   "metadata": {
    "tags": [
     "remove-input"
    ]
   },
   "outputs": [
    {
     "data": {
      "image/png": "[encoded data removed]",
      "text/plain": [
       "<Figure size 432x288 with 1 Axes>"
      ]
     },
     "metadata": {
      "filenames": {
       "image/png": "/Users/sanfordbaran/Desktop/KGNU/KGNU-Survey-Project/kgnu-audience-survey-staging/docs/_build/jupyter_execute/show_ratings/ages_19_to_30_random_154_0.png"
      },
      "needs_background": "light"
     },
     "output_type": "display_data"
    },
    {
     "name": "stdout",
     "output_type": "stream",
     "text": [
      "Filter: Ages 19 - 30\n",
      "Total Respondents: 2\n",
      "Respondents Familiar with Show: 2\n",
      "Percent Familiar with Show: 100.0%\n",
      "Median: 6\n",
      "Mean: 6.00\n",
      "Overall Ranking: 6\n",
      "News-Show Ranking: 3\n"
     ]
    }
   ],
   "source": [
    "create_hist_and_stats(df, filter_col, filter_col_val, filter_col_val_display, 'Ralph_Nader_Ratings')"
   ]
  },
  {
   "cell_type": "markdown",
   "id": "2db9c6a0-3edb-4843-be14-75df9a9db874",
   "metadata": {},
   "source": [
    "### Shortwave Report"
   ]
  },
  {
   "cell_type": "code",
   "execution_count": 79,
   "id": "bbc74d8c-09c4-4035-b24b-7c225f8fd2fd",
   "metadata": {
    "tags": [
     "remove-input"
    ]
   },
   "outputs": [
    {
     "data": {
      "image/png": "[encoded data removed]",
      "text/plain": [
       "<Figure size 432x288 with 1 Axes>"
      ]
     },
     "metadata": {
      "filenames": {
       "image/png": "/Users/sanfordbaran/Desktop/KGNU/KGNU-Survey-Project/kgnu-audience-survey-staging/docs/_build/jupyter_execute/show_ratings/ages_19_to_30_random_156_0.png"
      },
      "needs_background": "light"
     },
     "output_type": "display_data"
    },
    {
     "name": "stdout",
     "output_type": "stream",
     "text": [
      "Filter: Ages 19 - 30\n",
      "Total Respondents: 2\n",
      "Respondents Familiar with Show: 1\n",
      "Percent Familiar with Show: 50.0%\n",
      "Median: 7\n",
      "Mean: 7.00\n",
      "Overall Ranking: 11\n",
      "News-Show Ranking: 8\n"
     ]
    }
   ],
   "source": [
    "create_hist_and_stats(df, filter_col, filter_col_val, filter_col_val_display, 'Shortwave_Report_Ratings')"
   ]
  },
  {
   "cell_type": "markdown",
   "id": "c71de556-daf3-4f10-8f79-3523975ece1b",
   "metadata": {},
   "source": [
    "### The World"
   ]
  },
  {
   "cell_type": "code",
   "execution_count": 80,
   "id": "faa3a1ae-f317-436b-8ce5-d3073b0e800e",
   "metadata": {
    "tags": [
     "remove-input"
    ]
   },
   "outputs": [
    {
     "data": {
      "image/png": "[encoded data removed]",
      "text/plain": [
       "<Figure size 432x288 with 1 Axes>"
      ]
     },
     "metadata": {
      "filenames": {
       "image/png": "/Users/sanfordbaran/Desktop/KGNU/KGNU-Survey-Project/kgnu-audience-survey-staging/docs/_build/jupyter_execute/show_ratings/ages_19_to_30_random_158_0.png"
      },
      "needs_background": "light"
     },
     "output_type": "display_data"
    },
    {
     "name": "stdout",
     "output_type": "stream",
     "text": [
      "Filter: Ages 19 - 30\n",
      "Total Respondents: 2\n",
      "Respondents Familiar with Show: 1\n",
      "Percent Familiar with Show: 50.0%\n",
      "Median: 8\n",
      "Mean: 8.00\n",
      "Overall Ranking: 10\n",
      "News-Show Ranking: 7\n"
     ]
    }
   ],
   "source": [
    "create_hist_and_stats(df, filter_col, filter_col_val, filter_col_val_display, 'The_World_Ratings')"
   ]
  },
  {
   "cell_type": "markdown",
   "id": "b5e72a72-13bc-42c0-a2f4-808fceeacc91",
   "metadata": {},
   "source": [
    "### TRENDS"
   ]
  },
  {
   "cell_type": "code",
   "execution_count": 81,
   "id": "8f04d9be-1717-4743-b259-6ef4ff38973a",
   "metadata": {
    "tags": [
     "remove-input"
    ]
   },
   "outputs": [
    {
     "data": {
      "image/png": "[encoded data removed]",
      "text/plain": [
       "<Figure size 432x288 with 1 Axes>"
      ]
     },
     "metadata": {
      "filenames": {
       "image/png": "/Users/sanfordbaran/Desktop/KGNU/KGNU-Survey-Project/kgnu-audience-survey-staging/docs/_build/jupyter_execute/show_ratings/ages_19_to_30_random_160_0.png"
      },
      "needs_background": "light"
     },
     "output_type": "display_data"
    },
    {
     "name": "stdout",
     "output_type": "stream",
     "text": [
      "Filter: Ages 19 - 30\n",
      "Total Respondents: 2\n",
      "Respondents Familiar with Show: 1\n",
      "Percent Familiar with Show: 50.0%\n",
      "Median: 9\n",
      "Mean: 9.00\n",
      "Overall Ranking: 9\n",
      "News-Show Ranking: 6\n"
     ]
    }
   ],
   "source": [
    "create_hist_and_stats(df, filter_col, filter_col_val, filter_col_val_display, 'TRENDS_Ratings')"
   ]
  },
  {
   "cell_type": "markdown",
   "id": "85734610-7231-4c02-8c50-bbcc47b9a2ce",
   "metadata": {},
   "source": [
    "### Tributaries"
   ]
  },
  {
   "cell_type": "code",
   "execution_count": 82,
   "id": "8b0d38b4-9809-41d0-81be-e3c9de68edc5",
   "metadata": {
    "tags": [
     "remove-input"
    ]
   },
   "outputs": [
    {
     "data": {
      "image/png": "[encoded data removed]",
      "text/plain": [
       "<Figure size 432x288 with 1 Axes>"
      ]
     },
     "metadata": {
      "filenames": {
       "image/png": "/Users/sanfordbaran/Desktop/KGNU/KGNU-Survey-Project/kgnu-audience-survey-staging/docs/_build/jupyter_execute/show_ratings/ages_19_to_30_random_162_0.png"
      },
      "needs_background": "light"
     },
     "output_type": "display_data"
    },
    {
     "name": "stdout",
     "output_type": "stream",
     "text": [
      "Filter: Ages 19 - 30\n",
      "Total Respondents: 2\n",
      "Respondents Familiar with Show: 1\n",
      "Percent Familiar with Show: 50.0%\n",
      "Median: 8\n",
      "Mean: 8.00\n",
      "Overall Ranking: 10\n",
      "News-Show Ranking: 7\n"
     ]
    }
   ],
   "source": [
    "create_hist_and_stats(df, filter_col, filter_col_val, filter_col_val_display, 'Tributaries_Ratings')"
   ]
  },
  {
   "cell_type": "markdown",
   "id": "13dd3437-9261-4c05-8b62-44592a4252c2",
   "metadata": {},
   "source": [
    "### TUC Radio"
   ]
  },
  {
   "cell_type": "code",
   "execution_count": 83,
   "id": "06acd59d-043a-406a-82c4-63793029b3fa",
   "metadata": {
    "tags": [
     "remove-input"
    ]
   },
   "outputs": [
    {
     "data": {
      "image/png": "[encoded data removed]",
      "text/plain": [
       "<Figure size 432x288 with 1 Axes>"
      ]
     },
     "metadata": {
      "filenames": {
       "image/png": "/Users/sanfordbaran/Desktop/KGNU/KGNU-Survey-Project/kgnu-audience-survey-staging/docs/_build/jupyter_execute/show_ratings/ages_19_to_30_random_164_0.png"
      },
      "needs_background": "light"
     },
     "output_type": "display_data"
    },
    {
     "name": "stdout",
     "output_type": "stream",
     "text": [
      "Filter: Ages 19 - 30\n",
      "Total Respondents: 2\n",
      "Respondents Familiar with Show: 1\n",
      "Percent Familiar with Show: 50.0%\n",
      "Median: 7\n",
      "Mean: 7.00\n",
      "Overall Ranking: 11\n",
      "News-Show Ranking: 8\n"
     ]
    }
   ],
   "source": [
    "create_hist_and_stats(df, filter_col, filter_col_val, filter_col_val_display, 'TUC_Radio_Ratings')"
   ]
  },
  {
   "cell_type": "markdown",
   "id": "b1f77abb-41a0-4c25-a62a-86c08041f5bf",
   "metadata": {},
   "source": [
    "### WINGS"
   ]
  },
  {
   "cell_type": "code",
   "execution_count": 84,
   "id": "c0bd605f-d406-4bef-b1a1-304b970a40ea",
   "metadata": {
    "tags": [
     "remove-input"
    ]
   },
   "outputs": [
    {
     "data": {
      "image/png": "[encoded data removed]",
      "text/plain": [
       "<Figure size 432x288 with 1 Axes>"
      ]
     },
     "metadata": {
      "filenames": {
       "image/png": "/Users/sanfordbaran/Desktop/KGNU/KGNU-Survey-Project/kgnu-audience-survey-staging/docs/_build/jupyter_execute/show_ratings/ages_19_to_30_random_166_0.png"
      },
      "needs_background": "light"
     },
     "output_type": "display_data"
    },
    {
     "name": "stdout",
     "output_type": "stream",
     "text": [
      "Filter: Ages 19 - 30\n",
      "Total Respondents: 2\n",
      "Respondents Familiar with Show: 1\n",
      "Percent Familiar with Show: 50.0%\n",
      "Median: 6\n",
      "Mean: 6.00\n",
      "Overall Ranking: 12\n",
      "News-Show Ranking: 9\n"
     ]
    }
   ],
   "source": [
    "create_hist_and_stats(df, filter_col, filter_col_val, filter_col_val_display, 'WINGS_Ratings')"
   ]
  },
  {
   "cell_type": "markdown",
   "id": "8e82e6a8-123a-49c7-945e-7d5d4bf1d6ff",
   "metadata": {},
   "source": [
    "### Weed Between"
   ]
  },
  {
   "cell_type": "code",
   "execution_count": 85,
   "id": "88a77769-f9bc-4b08-b1d5-0ef586347aba",
   "metadata": {
    "tags": [
     "remove-input"
    ]
   },
   "outputs": [
    {
     "data": {
      "image/png": "[encoded data removed]",
      "text/plain": [
       "<Figure size 432x288 with 1 Axes>"
      ]
     },
     "metadata": {
      "filenames": {
       "image/png": "/Users/sanfordbaran/Desktop/KGNU/KGNU-Survey-Project/kgnu-audience-survey-staging/docs/_build/jupyter_execute/show_ratings/ages_19_to_30_random_168_0.png"
      },
      "needs_background": "light"
     },
     "output_type": "display_data"
    },
    {
     "name": "stdout",
     "output_type": "stream",
     "text": [
      "Filter: Ages 19 - 30\n",
      "Total Respondents: 2\n",
      "Respondents Familiar with Show: 1\n",
      "Percent Familiar with Show: 50.0%\n",
      "Median: 9\n",
      "Mean: 9.00\n",
      "Overall Ranking: 9\n",
      "News-Show Ranking: 6\n"
     ]
    }
   ],
   "source": [
    "create_hist_and_stats(df, filter_col, filter_col_val, filter_col_val_display, 'Weed_between_Ratings')"
   ]
  }
 ],
 "metadata": {
  "kernelspec": {
   "display_name": "Python 3 (ipykernel)",
   "language": "python",
   "name": "python3"
  },
  "language_info": {
   "codemirror_mode": {
    "name": "ipython",
    "version": 3
   },
   "file_extension": ".py",
   "mimetype": "text/x-python",
   "name": "python",
   "nbconvert_exporter": "python",
   "pygments_lexer": "ipython3",
   "version": "3.9.12"
  },
  "toc-autonumbering": false,
  "toc-showcode": true,
  "toc-showmarkdowntxt": true,
  "toc-showtags": false
 },
 "nbformat": 4,
 "nbformat_minor": 5
}