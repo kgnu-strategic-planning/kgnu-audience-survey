{
 "cells": [
  {
   "cell_type": "markdown",
   "id": "465111f4-5818-4744-b6a1-492b545094b1",
   "metadata": {
    "tags": []
   },
   "source": [
    "# Programming Preferences Rankings - Random\n",
    "\n",
    "In this section programming preferences are ranked in order of importance rating"
   ]
  },
  {
   "cell_type": "code",
   "execution_count": 1,
   "id": "0507b3e5-b554-482f-9449-8600212bf9d3",
   "metadata": {
    "tags": [
     "remove-input"
    ]
   },
   "outputs": [],
   "source": [
    "import pandas as pd\n",
    "import numpy as npb\n",
    "import matplotlib.pyplot as plt\n",
    "from pylab import MaxNLocator\n",
    "from IPython.display import display, Markdown\n",
    "from functions import *"
   ]
  },
  {
   "cell_type": "code",
   "execution_count": 2,
   "id": "b1d5ec47-4ce8-4faf-bfbc-558befec5e2f",
   "metadata": {
    "tags": [
     "remove-input"
    ]
   },
   "outputs": [],
   "source": [
    "df = pd.read_excel('Client Data English-07.15.22.xlsx', sheet_name='English') "
   ]
  },
  {
   "cell_type": "markdown",
   "id": "9883ce13-3e10-4181-b7c1-b472e0bb2687",
   "metadata": {},
   "source": [
    "## All Respondents"
   ]
  },
  {
   "cell_type": "code",
   "execution_count": 3,
   "id": "fc0bcd65-8ab9-416a-b82b-610a74cb239d",
   "metadata": {
    "tags": [
     "remove-input"
    ]
   },
   "outputs": [
    {
     "name": "stdout",
     "output_type": "stream",
     "text": [
      "\n",
      "Ranking       Programming              Num      Median/   Score\n",
      "               Preference            Ratings     Mean          \n",
      "---------------------------------------------------------------\n",
      "   1       Music Programming            151    10 / 8.5    1281\n",
      "   2       Local Government Coverage    151     9 / 8.3    1255\n",
      "   3       Local News                   151     9 / 8.1    1223\n",
      "   4       Breaking news bulletins      151     9 / 7.9    1186\n",
      "   5       Local Public Affairs         151     9 / 7.8    1173\n",
      "   6       Community Events             151     8 / 7.7    1163\n",
      "   7       International news           151     8 / 7.5    1136\n",
      "   8       National news                150     8 / 7.5    1128\n",
      "   9       Weather                      151     8 / 7.0    1054\n",
      "  10       Political Analysis           151     7 / 6.6    1003\n",
      "  11       Traffic Reports              151     3 / 3.7     565\n"
     ]
    }
   ],
   "source": [
    "create_ranked_table_of_importances(df, 'all_respondents', '', 'Filter: None')"
   ]
  },
  {
   "cell_type": "markdown",
   "id": "540832e6-1513-4860-930c-024f5d963375",
   "metadata": {},
   "source": [
    "## By Age"
   ]
  },
  {
   "cell_type": "markdown",
   "id": "3b632be5-5a22-4221-995a-130f81109717",
   "metadata": {
    "tags": []
   },
   "source": [
    "### Ages 0 - 18"
   ]
  },
  {
   "cell_type": "code",
   "execution_count": 4,
   "id": "22b42e35-48fe-4062-8915-618175989c1d",
   "metadata": {
    "tags": [
     "remove-input"
    ]
   },
   "outputs": [
    {
     "name": "stdout",
     "output_type": "stream",
     "text": [
      "\n",
      "Ranking       Programming              Num      Median/   Score\n",
      "               Preference            Ratings     Mean          \n",
      "---------------------------------------------------------------\n",
      "   1       Local News                   1      10 /10.0      10\n",
      "   2       National news                1       8 / 8.0       8\n",
      "   3       Local Public Affairs         1       7 / 7.0       7\n",
      "   4       Political Analysis           1       6 / 6.0       6\n",
      "   5       Breaking news bulletins      1       5 / 5.0       5\n",
      "   6       Weather                      1       4 / 4.0       4\n"
     ]
    }
   ],
   "source": [
    "create_ranked_table_of_importances(df, 'Age', 1, 'Filter: Ages 0 - 18')"
   ]
  },
  {
   "cell_type": "markdown",
   "id": "65c73779-eec0-49a7-a8a5-38a23b4785c2",
   "metadata": {
    "tags": []
   },
   "source": [
    "### Ages 19 - 30"
   ]
  },
  {
   "cell_type": "code",
   "execution_count": 5,
   "id": "c722c0a6-2f5e-4c13-86aa-626ffd17a4e7",
   "metadata": {
    "tags": [
     "remove-input"
    ]
   },
   "outputs": [
    {
     "name": "stdout",
     "output_type": "stream",
     "text": [
      "\n",
      "Ranking       Programming              Num      Median/   Score\n",
      "               Preference            Ratings     Mean          \n",
      "---------------------------------------------------------------\n",
      "   1       Breaking news bulletins      4       9 / 8.5      34\n",
      "   2       Music Programming            4       8 / 7.8      31\n",
      "   3       International news           4       7 / 7.5      30\n",
      "   4       National news                4       7 / 7.2      29\n",
      "   5       Local Public Affairs         4       6 / 6.0      24\n",
      "   6       Weather                      4       5 / 5.8      23\n",
      "   7       Local News                   4       5 / 4.8      19\n"
     ]
    }
   ],
   "source": [
    "create_ranked_table_of_importances(df, 'Age', 2, 'Filter: Ages 19 - 30')"
   ]
  },
  {
   "cell_type": "markdown",
   "id": "e930ff99-259b-403f-aa92-e277d7b49ae5",
   "metadata": {
    "tags": []
   },
   "source": [
    "### Ages 31 - 45"
   ]
  },
  {
   "cell_type": "code",
   "execution_count": 6,
   "id": "7723d119-532c-4933-9bb6-9d99b4325179",
   "metadata": {
    "tags": [
     "remove-input"
    ]
   },
   "outputs": [
    {
     "name": "stdout",
     "output_type": "stream",
     "text": [
      "\n",
      "Ranking       Programming              Num      Median/   Score\n",
      "               Preference            Ratings     Mean          \n",
      "---------------------------------------------------------------\n",
      "   1       Music Programming            14      9 / 8.9     124\n",
      "   2       Local News                   14      8 / 8.1     114\n",
      "   3       Local Government Coverage    14      8 / 8.0     112\n",
      "   4       Community Events             14      8 / 7.6     107\n",
      "   5       National news                14      8 / 7.1      99\n",
      "   6       International news           14      7 / 6.9      97\n",
      "   7       Breaking news bulletins      14      6 / 6.1      85\n",
      "   8       Political Analysis           14      6 / 5.8      81\n",
      "   9       Weather                      14      6 / 5.6      78\n",
      "  10       Traffic Reports              14      1 / 2.6      37\n"
     ]
    }
   ],
   "source": [
    "create_ranked_table_of_importances(df, 'Age', 3, 'Filter: Ages 31 - 45')"
   ]
  },
  {
   "cell_type": "markdown",
   "id": "b62fad1c-1a7c-4319-a3e8-d963a57ba734",
   "metadata": {
    "tags": []
   },
   "source": [
    "### Ages 46 - 65"
   ]
  },
  {
   "cell_type": "code",
   "execution_count": 7,
   "id": "ba131d4e-3a98-4ebe-a41a-5343ff9cc431",
   "metadata": {
    "tags": [
     "remove-input"
    ]
   },
   "outputs": [
    {
     "name": "stdout",
     "output_type": "stream",
     "text": [
      "\n",
      "Ranking       Programming              Num      Median/   Score\n",
      "               Preference            Ratings     Mean          \n",
      "---------------------------------------------------------------\n",
      "   1       Music Programming            62     10 / 9.1     563\n",
      "   2       Breaking news bulletins      62      9 / 8.2     510\n",
      "   3       Local News                   62      8 / 8.1     504\n",
      "   4       Local Government Coverage    62      9 / 8.1     501\n",
      "   5       Community Events             62      8 / 7.8     481\n",
      "   6       Local Public Affairs         62      8 / 7.6     474\n",
      "   7       International news           62      8 / 7.6     470\n",
      "   8       National news                62      8 / 7.5     464\n",
      "   9       Weather                      62      8 / 7.1     441\n",
      "  10       Political Analysis           62      7 / 6.5     400\n",
      "  11       Traffic Reports              62      2 / 3.7     232\n"
     ]
    }
   ],
   "source": [
    "create_ranked_table_of_importances(df, 'Age', 4, 'Filter: Ages 46 - 65')"
   ]
  },
  {
   "cell_type": "markdown",
   "id": "5c517030-8577-4524-9cff-82548d4bcf8e",
   "metadata": {
    "tags": []
   },
   "source": [
    "### Ages 66+"
   ]
  },
  {
   "cell_type": "code",
   "execution_count": 8,
   "id": "cc5907ea-d0cc-4a05-a41a-5a207aeca277",
   "metadata": {
    "tags": [
     "remove-input"
    ]
   },
   "outputs": [
    {
     "name": "stdout",
     "output_type": "stream",
     "text": [
      "\n",
      "Ranking       Programming              Num      Median/   Score\n",
      "               Preference            Ratings     Mean          \n",
      "---------------------------------------------------------------\n",
      "   1       Local News                   0       0 / 0.0       0\n"
     ]
    }
   ],
   "source": [
    "create_ranked_table_of_importances(df, 'Age', 5, 'Filter: Ages 65+')"
   ]
  },
  {
   "cell_type": "markdown",
   "id": "382c2009-1e4e-486b-91ce-dfb48a9b7e3e",
   "metadata": {
    "tags": []
   },
   "source": [
    "## By County"
   ]
  },
  {
   "cell_type": "markdown",
   "id": "9f56a511-51b3-49e5-9998-89ffe7f6d273",
   "metadata": {
    "tags": []
   },
   "source": [
    "### Boulder County"
   ]
  },
  {
   "cell_type": "code",
   "execution_count": 9,
   "id": "4dca8d45-71dd-4fa2-8b13-fd661587b646",
   "metadata": {
    "tags": [
     "remove-input"
    ]
   },
   "outputs": [
    {
     "name": "stdout",
     "output_type": "stream",
     "text": [
      "\n",
      "Ranking       Programming              Num      Median/   Score\n",
      "               Preference            Ratings     Mean          \n",
      "---------------------------------------------------------------\n",
      "   1       Local Government Coverage    58     10 / 8.6     499\n",
      "   2       Music Programming            58      9 / 8.4     488\n",
      "   3       Local Public Affairs         58      9 / 8.4     485\n",
      "   4       Breaking news bulletins      58      9 / 8.3     484\n",
      "   5       Community Events             58      9 / 8.3     482\n",
      "   6       Local News                   58      9 / 8.3     480\n",
      "   7       International news           58      8 / 7.8     454\n",
      "   8       National news                58      8 / 7.6     439\n",
      "   9       Political Analysis           58      8 / 7.2     418\n",
      "  10       Weather                      58      6 / 6.4     370\n",
      "  11       Traffic Reports              58      2 / 3.3     194\n"
     ]
    }
   ],
   "source": [
    "create_ranked_table_of_importances(df, 'County', 'Boulder', 'Filter: Boulder County')"
   ]
  },
  {
   "cell_type": "markdown",
   "id": "857a9142-259b-47d2-a898-98c3477a6ec2",
   "metadata": {
    "tags": []
   },
   "source": [
    "### Denver County"
   ]
  },
  {
   "cell_type": "code",
   "execution_count": 10,
   "id": "1d4c5e7a-223d-44b4-a23e-f81b2ed063e2",
   "metadata": {
    "tags": [
     "remove-input"
    ]
   },
   "outputs": [
    {
     "name": "stdout",
     "output_type": "stream",
     "text": [
      "\n",
      "Ranking       Programming              Num      Median/   Score\n",
      "               Preference            Ratings     Mean          \n",
      "---------------------------------------------------------------\n",
      "   1       Music Programming            21     10 / 8.7     182\n",
      "   2       Local Government Coverage    21      9 / 8.2     173\n",
      "   3       Local News                   21      9 / 8.0     169\n",
      "   4       Weather                      21      9 / 7.7     161\n",
      "   5       Community Events             21      9 / 7.6     160\n",
      "   6       Local Public Affairs         21      7 / 7.5     157\n",
      "   7       National news                20      8 / 7.2     143\n",
      "   8       International news           21      7 / 6.6     138\n",
      "   9       Political Analysis           21      6 / 6.2     130\n",
      "  10       Traffic Reports              21      4 / 3.6      76\n"
     ]
    }
   ],
   "source": [
    "create_ranked_table_of_importances(df, 'County', 'Denver', 'Filter: Denver County')"
   ]
  },
  {
   "cell_type": "markdown",
   "id": "626d3940-6396-41e7-97da-3aa975f55a76",
   "metadata": {
    "tags": []
   },
   "source": [
    "### Jefferson County"
   ]
  },
  {
   "cell_type": "code",
   "execution_count": 11,
   "id": "d5fe2e95-33c2-4e08-a236-dc29a114ba62",
   "metadata": {
    "tags": [
     "remove-input"
    ]
   },
   "outputs": [
    {
     "name": "stdout",
     "output_type": "stream",
     "text": [
      "\n",
      "Ranking       Programming              Num      Median/   Score\n",
      "               Preference            Ratings     Mean          \n",
      "---------------------------------------------------------------\n",
      "   1       Local Government Coverage    18      9 / 8.6     154\n",
      "   2       Music Programming            18     10 / 8.5     153\n",
      "   3       Local News                   18      7 / 8.0     144\n",
      "   4       National news                18      9 / 7.9     143\n",
      "   5       Local Public Affairs         18      8 / 7.9     142\n",
      "   6       Breaking news bulletins      18      9 / 7.8     141\n",
      "   7       Weather                      18      9 / 7.5     135\n",
      "   8       International news           18      7 / 7.2     130\n",
      "   9       Community Events             18      7 / 6.8     123\n",
      "  10       Political Analysis           18      7 / 6.1     110\n",
      "  11       Traffic Reports              18      2 / 3.7      67\n"
     ]
    }
   ],
   "source": [
    "create_ranked_table_of_importances(df, 'County', 'Jefferson', 'Filter: Jefferson County')"
   ]
  },
  {
   "cell_type": "markdown",
   "id": "093800d4-0b36-49c3-a17e-7d4ce6660959",
   "metadata": {
    "tags": []
   },
   "source": [
    "### Arapahoe County"
   ]
  },
  {
   "cell_type": "code",
   "execution_count": 12,
   "id": "46f71cbb-d5f5-4fd3-87d5-929fecc7a6ed",
   "metadata": {
    "tags": [
     "remove-input"
    ]
   },
   "outputs": [
    {
     "name": "stdout",
     "output_type": "stream",
     "text": [
      "\n",
      "Ranking       Programming              Num      Median/   Score\n",
      "               Preference            Ratings     Mean          \n",
      "---------------------------------------------------------------\n",
      "   1       Breaking news bulletins      8      10 / 9.5      76\n",
      "   2       Local Government Coverage    8      10 / 9.2      74\n",
      "   3       International news           8       9 / 8.9      71\n",
      "   4       National news                8      10 / 8.6      69\n",
      "   5       Local News                   8      10 / 8.5      68\n",
      "   6       Community Events             8       9 / 8.4      67\n",
      "   7       Local Public Affairs         8       9 / 8.1      65\n",
      "   8       Weather                      8       8 / 7.5      60\n",
      "   9       Music Programming            8       8 / 7.4      59\n",
      "  10       Political Analysis           8       8 / 6.1      49\n",
      "  11       Traffic Reports              8       6 / 4.8      38\n"
     ]
    }
   ],
   "source": [
    "create_ranked_table_of_importances(df, 'County', 'Arapahoe', 'Filter: Arapahoe County')"
   ]
  },
  {
   "cell_type": "markdown",
   "id": "879e64cb-a3da-4e58-a8dc-7f92ca51b0a5",
   "metadata": {
    "tags": []
   },
   "source": [
    "### Adams County"
   ]
  },
  {
   "cell_type": "code",
   "execution_count": 13,
   "id": "0832da6f-a9cf-44db-8caf-ec46f62bb5eb",
   "metadata": {
    "tags": [
     "remove-input"
    ]
   },
   "outputs": [
    {
     "name": "stdout",
     "output_type": "stream",
     "text": [
      "\n",
      "Ranking       Programming              Num      Median/   Score\n",
      "               Preference            Ratings     Mean          \n",
      "---------------------------------------------------------------\n",
      "   1       Weather                      1      10 /10.0      10\n",
      "   2       Local News                   1       9 / 9.0       9\n",
      "   3       Traffic Reports              1       8 / 8.0       8\n"
     ]
    }
   ],
   "source": [
    "create_ranked_table_of_importances(df, 'County', 'Adams', 'Filter: Adams County')"
   ]
  },
  {
   "cell_type": "markdown",
   "id": "0854ac11-107d-4713-a05d-aa2fb9f9faf9",
   "metadata": {
    "tags": []
   },
   "source": [
    "### Larimer County"
   ]
  },
  {
   "cell_type": "code",
   "execution_count": 14,
   "id": "48f8486a-12ff-4fa6-b428-f8e21a8f423d",
   "metadata": {
    "tags": [
     "remove-input"
    ]
   },
   "outputs": [
    {
     "name": "stdout",
     "output_type": "stream",
     "text": [
      "\n",
      "Ranking       Programming              Num      Median/   Score\n",
      "               Preference            Ratings     Mean          \n",
      "---------------------------------------------------------------\n",
      "   1       Breaking news bulletins      4       9 / 9.5      38\n",
      "   2       Local News                   4       9 / 8.5      34\n",
      "   3       Local Government Coverage    4       9 / 8.2      33\n",
      "   4       Weather                      4       8 / 7.5      30\n",
      "   5       Community Events             4       7 / 7.0      28\n",
      "   6       Local Public Affairs         4       7 / 6.5      26\n",
      "   7       International news           4       6 / 6.2      25\n",
      "   8       Traffic Reports              4       1 / 3.5      14\n",
      "   9       Political Analysis           4       2 / 2.5      10\n"
     ]
    }
   ],
   "source": [
    "create_ranked_table_of_importances(df, 'County', 'Larimer', 'Filter: Larimer County')"
   ]
  },
  {
   "cell_type": "markdown",
   "id": "9ce0e586-8ba5-41ce-b2b0-b0b546f6ae31",
   "metadata": {
    "tags": []
   },
   "source": [
    "### Weld County"
   ]
  },
  {
   "cell_type": "code",
   "execution_count": 15,
   "id": "77c3d1bd-3ed5-47fb-abfc-a122625d5b47",
   "metadata": {
    "tags": [
     "remove-input"
    ]
   },
   "outputs": [
    {
     "name": "stdout",
     "output_type": "stream",
     "text": [
      "\n",
      "Ranking       Programming              Num      Median/   Score\n",
      "               Preference            Ratings     Mean          \n",
      "---------------------------------------------------------------\n",
      "   1       Breaking news bulletins      2      10 /10.0      20\n",
      "   2       Local News                   2       9 / 9.0      18\n",
      "   3       Music Programming            2       8 / 8.0      16\n",
      "   4       Local Public Affairs         2       7 / 7.5      15\n",
      "   5       Traffic Reports              2       7 / 7.0      14\n",
      "   6       Community Events             2       6 / 6.0      12\n"
     ]
    }
   ],
   "source": [
    "create_ranked_table_of_importances(df, 'County', 'Weld', 'Filter: Weld County')"
   ]
  },
  {
   "cell_type": "markdown",
   "id": "4befb4d0-89e4-4d3b-8236-f2dea98a9000",
   "metadata": {
    "tags": []
   },
   "source": [
    "### Douglas County"
   ]
  },
  {
   "cell_type": "code",
   "execution_count": 16,
   "id": "f91c2c84-8308-4ccb-ad5c-71b065435480",
   "metadata": {
    "tags": [
     "remove-input"
    ]
   },
   "outputs": [
    {
     "name": "stdout",
     "output_type": "stream",
     "text": [
      "\n",
      "Ranking       Programming              Num      Median/   Score\n",
      "               Preference            Ratings     Mean          \n",
      "---------------------------------------------------------------\n",
      "   1       Music Programming            2       9 / 9.5      19\n",
      "   2       Local News                   2       7 / 7.5      15\n",
      "   3       Breaking news bulletins      2       7 / 7.0      14\n",
      "   4       Traffic Reports              2       5 / 5.5      11\n",
      "   5       International news           2       5 / 5.0      10\n",
      "   6       Political Analysis           2       4 / 4.0       8\n",
      "   7       Community Events             2       3 / 3.0       6\n"
     ]
    }
   ],
   "source": [
    "create_ranked_table_of_importances(df, 'County', 'Douglas', 'Filter: Douglas County')"
   ]
  },
  {
   "cell_type": "markdown",
   "id": "cbe6aa38-963f-490e-96fb-d9553c77f1ed",
   "metadata": {
    "tags": []
   },
   "source": [
    "### Broomfield County"
   ]
  },
  {
   "cell_type": "code",
   "execution_count": 17,
   "id": "4ee33bde-5e37-4ddd-93a4-9e10120e1a46",
   "metadata": {
    "tags": [
     "remove-input"
    ]
   },
   "outputs": [
    {
     "name": "stdout",
     "output_type": "stream",
     "text": [
      "\n",
      "Ranking       Programming              Num      Median/   Score\n",
      "               Preference            Ratings     Mean          \n",
      "---------------------------------------------------------------\n",
      "   1       Music Programming            2      10 /10.0      20\n",
      "   2       Community Events             2       7 / 7.0      14\n",
      "   3       Local News                   2       6 / 6.0      12\n",
      "   4       Weather                      2       4 / 4.5       9\n",
      "   5       Breaking news bulletins      2       4 / 4.0       8\n",
      "   6       Traffic Reports              2       3 / 3.0       6\n"
     ]
    }
   ],
   "source": [
    "create_ranked_table_of_importances(df, 'County', 'Broomfield', 'Filter: Broomfield County')"
   ]
  },
  {
   "cell_type": "markdown",
   "id": "edc45429-11f7-4faa-acc4-c60d0b7e6ff4",
   "metadata": {
    "tags": []
   },
   "source": [
    "### All Other Counties"
   ]
  },
  {
   "cell_type": "code",
   "execution_count": 18,
   "id": "bdd58c64-936e-496f-88b1-c6cc6821737e",
   "metadata": {
    "tags": [
     "remove-input"
    ]
   },
   "outputs": [
    {
     "name": "stdout",
     "output_type": "stream",
     "text": [
      "\n",
      "Ranking       Programming              Num      Median/   Score\n",
      "               Preference            Ratings     Mean          \n",
      "---------------------------------------------------------------\n",
      "   1       Music Programming            35     10 / 8.7     304\n",
      "   2       Local News                   35      8 / 7.8     274\n",
      "   3       International news           35      8 / 7.8     272\n",
      "   4       Local Government Coverage    35      8 / 7.6     265\n",
      "   5       Community Events             35      8 / 7.5     262\n",
      "   6       Breaking news bulletins      35      8 / 7.4     258\n",
      "   7       National news                35      7 / 7.3     257\n",
      "   8       Local Public Affairs         35      8 / 7.3     254\n",
      "   9       Weather                      35      8 / 7.0     246\n",
      "  10       Political Analysis           35      7 / 7.0     244\n",
      "  11       Traffic Reports              35      3 / 3.9     137\n"
     ]
    }
   ],
   "source": [
    "create_ranked_table_of_importances(df, 'other_counties', '', 'Filter: All Other Counties')"
   ]
  },
  {
   "cell_type": "markdown",
   "id": "6ea9226d-d21e-441d-b6a1-1d3876486706",
   "metadata": {},
   "source": [
    "## By Race"
   ]
  },
  {
   "cell_type": "markdown",
   "id": "7bf27cb4-cdc4-4b4f-b757-80ab925d16c6",
   "metadata": {
    "tags": []
   },
   "source": [
    "### Black or African American"
   ]
  },
  {
   "cell_type": "code",
   "execution_count": 19,
   "id": "7b04b2a5-c276-473e-a851-9ba9b02916a8",
   "metadata": {
    "tags": [
     "remove-input"
    ]
   },
   "outputs": [
    {
     "name": "stdout",
     "output_type": "stream",
     "text": [
      "\n",
      "Ranking       Programming              Num      Median/   Score\n",
      "               Preference            Ratings     Mean          \n",
      "---------------------------------------------------------------\n",
      "   1       Local News                   1      10 /10.0      10\n",
      "   2       Traffic Reports              1       9 / 9.0       9\n"
     ]
    }
   ],
   "source": [
    "create_ranked_table_of_importances(df, 'You_Are', 'Black or African American', 'Filter: Black or African American')"
   ]
  },
  {
   "cell_type": "markdown",
   "id": "538ad1b1-edb6-4385-bbb6-6b5cfc6ca1c4",
   "metadata": {
    "tags": []
   },
   "source": [
    "### Hispanic, Latino, Chicano"
   ]
  },
  {
   "cell_type": "code",
   "execution_count": 20,
   "id": "1c435729-028f-4b1a-9661-41c635bf4af0",
   "metadata": {
    "tags": [
     "remove-input"
    ]
   },
   "outputs": [
    {
     "name": "stdout",
     "output_type": "stream",
     "text": [
      "\n",
      "Ranking       Programming              Num      Median/   Score\n",
      "               Preference            Ratings     Mean          \n",
      "---------------------------------------------------------------\n",
      "   1       Music Programming            2      10 /10.0      20\n",
      "   2       Weather                      2       8 / 8.5      17\n",
      "   3       Local News                   2       7 / 7.5      15\n",
      "   4       National news                2       6 / 6.5      13\n",
      "   5       International news           2       5 / 5.5      11\n",
      "   6       Traffic Reports              2       5 / 5.0      10\n"
     ]
    }
   ],
   "source": [
    "create_ranked_table_of_importances(df, 'You_Are', 'Hispanic, Latino/a/x, Chicano/a/x', 'Filter: Hispanic, Latino, Chicano')"
   ]
  },
  {
   "cell_type": "markdown",
   "id": "aed31b38-ec7f-426c-bc7b-4e05f95fe718",
   "metadata": {
    "tags": []
   },
   "source": [
    "### Middle Eastern or Arab"
   ]
  },
  {
   "cell_type": "code",
   "execution_count": 21,
   "id": "8812d41f-83de-4018-9c9e-550d676f869b",
   "metadata": {
    "tags": [
     "remove-input"
    ]
   },
   "outputs": [
    {
     "name": "stdout",
     "output_type": "stream",
     "text": [
      "\n",
      "Ranking       Programming              Num      Median/   Score\n",
      "               Preference            Ratings     Mean          \n",
      "---------------------------------------------------------------\n",
      "   1       Local News                   1      10 /10.0      10\n",
      "   2       Local Public Affairs         1       9 / 9.0       9\n"
     ]
    }
   ],
   "source": [
    "create_ranked_table_of_importances(df, 'You_Are', 'Middle Eastern or Arab', 'Filter: Middle Eastern or Arab')"
   ]
  },
  {
   "cell_type": "markdown",
   "id": "6aff8abb-0d82-4048-852c-242d558937a3",
   "metadata": {
    "tags": []
   },
   "source": [
    "### Native American or Native Alaskan"
   ]
  },
  {
   "cell_type": "code",
   "execution_count": 22,
   "id": "a32ad7e7-0d76-4336-b993-f5f359ee56db",
   "metadata": {
    "tags": [
     "remove-input"
    ]
   },
   "outputs": [
    {
     "name": "stdout",
     "output_type": "stream",
     "text": [
      "\n",
      "Ranking       Programming              Num      Median/   Score\n",
      "               Preference            Ratings     Mean          \n",
      "---------------------------------------------------------------\n",
      "   1       Local News                   3       8 / 8.3      25\n",
      "   2       Weather                      3       9 / 8.0      24\n",
      "   3       Local Government Coverage    3       5 / 6.3      19\n",
      "   4       National news                3       6 / 6.0      18\n",
      "   5       International news           3       5 / 5.0      15\n",
      "   6       Traffic Reports              3       3 / 2.7       8\n",
      "   7       Political Analysis           3       1 / 1.3       4\n"
     ]
    }
   ],
   "source": [
    "create_ranked_table_of_importances(df, 'You_Are', 'Native American or Native Alaskan', 'Filter: Native American or Native Alaskan')"
   ]
  },
  {
   "cell_type": "markdown",
   "id": "c63d37af-885e-4871-833d-55b945b1f1b3",
   "metadata": {
    "tags": []
   },
   "source": [
    "### Native Hawaiian or Pacific Islander"
   ]
  },
  {
   "cell_type": "code",
   "execution_count": 23,
   "id": "7d5b81c6-729b-47a7-b447-3df261a4f181",
   "metadata": {
    "tags": [
     "remove-input"
    ]
   },
   "outputs": [
    {
     "name": "stdout",
     "output_type": "stream",
     "text": [
      "\n",
      "Ranking       Programming              Num      Median/   Score\n",
      "               Preference            Ratings     Mean          \n",
      "---------------------------------------------------------------\n",
      "   1       Local News                   0       0 / 0.0       0\n"
     ]
    }
   ],
   "source": [
    "create_ranked_table_of_importances(df, 'You_Are', 'Native Hawaiian or Pacific Islander', 'Filter: Native Hawaiian or Pacific Islander')"
   ]
  },
  {
   "cell_type": "markdown",
   "id": "a23094d2-d057-46e8-bcfb-b3a362dcae6a",
   "metadata": {
    "tags": []
   },
   "source": [
    "### Prefer not to say"
   ]
  },
  {
   "cell_type": "code",
   "execution_count": 24,
   "id": "7d677cb5-812c-4c03-95c6-6fdc8727a789",
   "metadata": {
    "tags": [
     "remove-input"
    ]
   },
   "outputs": [
    {
     "name": "stdout",
     "output_type": "stream",
     "text": [
      "\n",
      "Ranking       Programming              Num      Median/   Score\n",
      "               Preference            Ratings     Mean          \n",
      "---------------------------------------------------------------\n",
      "   1       Music Programming            7      10 / 9.3      65\n",
      "   2       International news           7       9 / 8.7      61\n",
      "   3       National news                7       9 / 8.4      59\n",
      "   4       Local News                   7      10 / 8.3      58\n",
      "   5       Community Events             7      10 / 8.1      57\n",
      "   6       Local Government Coverage    7       9 / 7.4      52\n",
      "   7       Local Public Affairs         7       7 / 6.9      48\n",
      "   8       Breaking news bulletins      7       6 / 6.4      45\n",
      "   9       Weather                      7       7 / 6.3      44\n",
      "  10       Traffic Reports              7       4 / 4.3      30\n"
     ]
    }
   ],
   "source": [
    "create_ranked_table_of_importances(df, 'You_Are', 'Prefer not to say', 'Filter: Prefer not to say')"
   ]
  },
  {
   "cell_type": "markdown",
   "id": "3306244e-4dc8-4b30-9d99-d6295e32f549",
   "metadata": {
    "tags": []
   },
   "source": [
    "### Prefer to self identify"
   ]
  },
  {
   "cell_type": "code",
   "execution_count": 25,
   "id": "1e33e3e3-3374-4cda-85b7-dae48d05db84",
   "metadata": {
    "tags": [
     "remove-input"
    ]
   },
   "outputs": [
    {
     "name": "stdout",
     "output_type": "stream",
     "text": [
      "\n",
      "Ranking       Programming              Num      Median/   Score\n",
      "               Preference            Ratings     Mean          \n",
      "---------------------------------------------------------------\n",
      "   1       Political Analysis           8       9 / 8.6      69\n",
      "   2       Music Programming            8      10 / 8.5      68\n",
      "   3       International news           8       9 / 8.4      67\n",
      "   4       Local Public Affairs         8       8 / 8.2      66\n",
      "   5       Local News                   8       9 / 8.0      64\n",
      "   6       National news                8       9 / 7.8      62\n",
      "   7       Weather                      8       9 / 7.1      57\n",
      "   8       Traffic Reports              8       1 / 2.9      23\n"
     ]
    }
   ],
   "source": [
    "create_ranked_table_of_importances(df, 'You_Are', 'Prefer to self identify:', 'Filter: Prefer to self identify')"
   ]
  },
  {
   "cell_type": "markdown",
   "id": "90ad8fef-9dc5-4c1e-bab5-5797cd4cce0f",
   "metadata": {
    "tags": []
   },
   "source": [
    "### White"
   ]
  },
  {
   "cell_type": "code",
   "execution_count": 26,
   "id": "8834a875-6098-4db3-bbd9-d2b76af3bd75",
   "metadata": {
    "tags": [
     "remove-input"
    ]
   },
   "outputs": [
    {
     "name": "stdout",
     "output_type": "stream",
     "text": [
      "\n",
      "Ranking       Programming              Num      Median/   Score\n",
      "               Preference            Ratings     Mean          \n",
      "---------------------------------------------------------------\n",
      "   1       Local Government Coverage    97     10 / 8.6     838\n",
      "   2       Music Programming            97      9 / 8.6     833\n",
      "   3       Local News                   97      9 / 8.3     801\n",
      "   4       Local Public Affairs         97      9 / 8.2     796\n",
      "   5       Community Events             97      9 / 8.1     790\n",
      "   6       Breaking news bulletins      97      9 / 8.1     786\n",
      "   7       International news           97      8 / 7.8     759\n",
      "   8       National news                96      8 / 7.5     721\n",
      "   9       Political Analysis           97      8 / 7.2     695\n",
      "  10       Weather                      97      8 / 6.9     669\n",
      "  11       Traffic Reports              97      2 / 3.4     331\n"
     ]
    }
   ],
   "source": [
    "create_ranked_table_of_importances(df, 'You_Are', 'White', 'Filter: White')"
   ]
  },
  {
   "cell_type": "code",
   "execution_count": null,
   "id": "f50ee0d3-8f0a-44da-a5ce-619461efdb8d",
   "metadata": {},
   "outputs": [],
   "source": []
  }
 ],
 "metadata": {
  "kernelspec": {
   "display_name": "Python 3 (ipykernel)",
   "language": "python",
   "name": "python3"
  },
  "language_info": {
   "codemirror_mode": {
    "name": "ipython",
    "version": 3
   },
   "file_extension": ".py",
   "mimetype": "text/x-python",
   "name": "python",
   "nbconvert_exporter": "python",
   "pygments_lexer": "ipython3",
   "version": "3.9.12"
  }
 },
 "nbformat": 4,
 "nbformat_minor": 5
}