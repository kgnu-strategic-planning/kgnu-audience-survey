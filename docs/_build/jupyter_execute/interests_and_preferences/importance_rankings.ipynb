{
 "cells": [
  {
   "cell_type": "markdown",
   "id": "465111f4-5818-4744-b6a1-492b545094b1",
   "metadata": {
    "tags": []
   },
   "source": [
    "# Programming Preferences Rankings\n",
    "\n",
    "In this section programming preferences are ranked in order of how important they were rated"
   ]
  },
  {
   "cell_type": "code",
   "execution_count": 1,
   "id": "0507b3e5-b554-482f-9449-8600212bf9d3",
   "metadata": {
    "tags": [
     "remove-input"
    ]
   },
   "outputs": [],
   "source": [
    "import pandas as pd\n",
    "import numpy as npb\n",
    "import matplotlib.pyplot as plt\n",
    "from pylab import MaxNLocator\n",
    "from IPython.display import display, Markdown\n",
    "from functions import *"
   ]
  },
  {
   "cell_type": "code",
   "execution_count": 2,
   "id": "b1d5ec47-4ce8-4faf-bfbc-558befec5e2f",
   "metadata": {
    "tags": [
     "remove-input"
    ]
   },
   "outputs": [],
   "source": [
    "df = pd.read_excel('KGNU-Member-Data-07.15.22.xlsx', sheet_name='English') "
   ]
  },
  {
   "cell_type": "markdown",
   "id": "9883ce13-3e10-4181-b7c1-b472e0bb2687",
   "metadata": {},
   "source": [
    "## All Respondents"
   ]
  },
  {
   "cell_type": "code",
   "execution_count": 3,
   "id": "fc0bcd65-8ab9-416a-b82b-610a74cb239d",
   "metadata": {
    "tags": [
     "remove-input"
    ]
   },
   "outputs": [
    {
     "name": "stdout",
     "output_type": "stream",
     "text": [
      "\n",
      "Ranking       Programming              Num      Median/   Score\n",
      "               Preference            Ratings     Mean          \n",
      "---------------------------------------------------------------\n",
      "   1       Music Programming            438    10 / 8.3    3651\n",
      "   2       Local Government Coverage    438     9 / 8.2    3570\n",
      "   3       Local News                   438     9 / 8.1    3567\n",
      "   4       Breaking news bulletins      438     9 / 7.9    3460\n",
      "   5       Community Events             438     8 / 7.7    3393\n",
      "   6       Local Public Affairs         438     8 / 7.7    3388\n",
      "   7       International news           438     8 / 7.4    3257\n",
      "   8       National news                437     8 / 7.4    3250\n",
      "   9       Weather                      438     7 / 6.8    2976\n",
      "  10       Political Analysis           438     7 / 6.7    2913\n",
      "  11       Traffic Reports              438     3 / 3.8    1685\n"
     ]
    }
   ],
   "source": [
    "create_ranked_table_of_importances(df, 'all_respondents', '', 'Filter: None')"
   ]
  },
  {
   "cell_type": "markdown",
   "id": "540832e6-1513-4860-930c-024f5d963375",
   "metadata": {},
   "source": [
    "## By Age"
   ]
  },
  {
   "cell_type": "markdown",
   "id": "3b632be5-5a22-4221-995a-130f81109717",
   "metadata": {
    "tags": []
   },
   "source": [
    "### Ages 0 - 18"
   ]
  },
  {
   "cell_type": "code",
   "execution_count": 4,
   "id": "22b42e35-48fe-4062-8915-618175989c1d",
   "metadata": {
    "tags": [
     "remove-input"
    ]
   },
   "outputs": [
    {
     "name": "stdout",
     "output_type": "stream",
     "text": [
      "\n",
      "Ranking       Programming              Num      Median/   Score\n",
      "               Preference            Ratings     Mean          \n",
      "---------------------------------------------------------------\n",
      "   1       Local Government Coverage    10      7 / 6.7      67\n",
      "   2       Music Programming            10      5 / 5.9      59\n",
      "   3       Weather                      10      6 / 5.8      58\n",
      "   4       National news                10      5 / 5.7      57\n",
      "   5       Local Public Affairs         10      5 / 5.6      56\n",
      "   6       Local News                   10      5 / 5.5      55\n",
      "   7       Community Events             10      5 / 5.4      54\n",
      "   8       Breaking news bulletins      10      5 / 5.2      52\n",
      "   9       Traffic Reports              10      4 / 5.0      50\n",
      "  10       Political Analysis           10      6 / 4.8      48\n"
     ]
    }
   ],
   "source": [
    "create_ranked_table_of_importances(df, 'Age', 1, 'Filter: Ages 0 - 18')"
   ]
  },
  {
   "cell_type": "markdown",
   "id": "65c73779-eec0-49a7-a8a5-38a23b4785c2",
   "metadata": {
    "tags": []
   },
   "source": [
    "### Ages 19 - 30"
   ]
  },
  {
   "cell_type": "code",
   "execution_count": 5,
   "id": "c722c0a6-2f5e-4c13-86aa-626ffd17a4e7",
   "metadata": {
    "tags": [
     "remove-input"
    ]
   },
   "outputs": [
    {
     "name": "stdout",
     "output_type": "stream",
     "text": [
      "\n",
      "Ranking       Programming              Num      Median/   Score\n",
      "               Preference            Ratings     Mean          \n",
      "---------------------------------------------------------------\n",
      "   1       Music Programming            14     10 / 8.6     121\n",
      "   2       Breaking news bulletins      14      8 / 7.6     107\n",
      "   3       Community Events             14      8 / 7.6     106\n",
      "   4       Local Government Coverage    14      8 / 7.4     104\n",
      "   5       Local Public Affairs         14      8 / 7.2     101\n",
      "   6       International news           14      8 / 7.0      98\n",
      "   7       National news                14      6 / 6.9      97\n",
      "   8       Local News                   14      7 / 6.8      95\n",
      "   9       Political Analysis           14      6 / 5.9      83\n",
      "  10       Weather                      14      5 / 5.7      80\n",
      "  11       Traffic Reports              14      2 / 3.4      47\n"
     ]
    }
   ],
   "source": [
    "create_ranked_table_of_importances(df, 'Age', 2, 'Filter: Ages 19 - 30')"
   ]
  },
  {
   "cell_type": "markdown",
   "id": "e930ff99-259b-403f-aa92-e277d7b49ae5",
   "metadata": {
    "tags": []
   },
   "source": [
    "### Ages 31 - 45"
   ]
  },
  {
   "cell_type": "code",
   "execution_count": 6,
   "id": "7723d119-532c-4933-9bb6-9d99b4325179",
   "metadata": {
    "tags": [
     "remove-input"
    ]
   },
   "outputs": [
    {
     "name": "stdout",
     "output_type": "stream",
     "text": [
      "\n",
      "Ranking       Programming              Num      Median/   Score\n",
      "               Preference            Ratings     Mean          \n",
      "---------------------------------------------------------------\n",
      "   1       Music Programming            50     10 / 8.7     434\n",
      "   2       Community Events             50      9 / 8.3     413\n",
      "   3       Local News                   50      8 / 8.2     409\n",
      "   4       Local Government Coverage    50      9 / 8.1     407\n",
      "   5       Local Public Affairs         50      8 / 7.8     389\n",
      "   6       Breaking news bulletins      50      7 / 7.3     365\n",
      "   7       International news           50      8 / 7.1     353\n",
      "   8       National news                50      7 / 7.0     348\n",
      "   9       Political Analysis           50      6 / 6.2     308\n",
      "  10       Weather                      50      6 / 5.7     284\n",
      "  11       Traffic Reports              50      2 / 3.2     162\n"
     ]
    }
   ],
   "source": [
    "create_ranked_table_of_importances(df, 'Age', 3, 'Filter: Ages 31 - 45')"
   ]
  },
  {
   "cell_type": "markdown",
   "id": "b62fad1c-1a7c-4319-a3e8-d963a57ba734",
   "metadata": {
    "tags": []
   },
   "source": [
    "### Ages 46 - 65"
   ]
  },
  {
   "cell_type": "code",
   "execution_count": 7,
   "id": "ba131d4e-3a98-4ebe-a41a-5343ff9cc431",
   "metadata": {
    "tags": [
     "remove-input"
    ]
   },
   "outputs": [
    {
     "name": "stdout",
     "output_type": "stream",
     "text": [
      "\n",
      "Ranking       Programming              Num      Median/   Score\n",
      "               Preference            Ratings     Mean          \n",
      "---------------------------------------------------------------\n",
      "   1       Music Programming            169    10 / 8.8    1483\n",
      "   2       Local News                   169     9 / 8.3    1395\n",
      "   3       Local Government Coverage    169     9 / 8.2    1379\n",
      "   4       Breaking news bulletins      169     9 / 8.1    1372\n",
      "   5       Community Events             169     9 / 8.1    1363\n",
      "   6       Local Public Affairs         169     9 / 7.9    1329\n",
      "   7       National news                169     8 / 7.4    1258\n",
      "   8       International news           169     8 / 7.4    1256\n",
      "   9       Weather                      169     8 / 6.9    1163\n",
      "  10       Political Analysis           169     7 / 6.6    1113\n",
      "  11       Traffic Reports              169     3 / 3.9     667\n"
     ]
    }
   ],
   "source": [
    "create_ranked_table_of_importances(df, 'Age', 4, 'Filter: Ages 46 - 65')"
   ]
  },
  {
   "cell_type": "markdown",
   "id": "5c517030-8577-4524-9cff-82548d4bcf8e",
   "metadata": {
    "tags": []
   },
   "source": [
    "### Ages 66+"
   ]
  },
  {
   "cell_type": "code",
   "execution_count": 8,
   "id": "cc5907ea-d0cc-4a05-a41a-5a207aeca277",
   "metadata": {
    "tags": [
     "remove-input"
    ]
   },
   "outputs": [
    {
     "name": "stdout",
     "output_type": "stream",
     "text": [
      "\n",
      "Ranking       Programming              Num      Median/   Score\n",
      "               Preference            Ratings     Mean          \n",
      "---------------------------------------------------------------\n",
      "   1       Local News                   193     9 / 8.3    1596\n",
      "   2       Local Government Coverage    193     9 / 8.3    1594\n",
      "   3       Breaking news bulletins      193     9 / 8.0    1552\n",
      "   4       Music Programming            193     9 / 8.0    1535\n",
      "   5       Local Public Affairs         193     9 / 7.7    1495\n",
      "   6       International news           193     8 / 7.7    1479\n",
      "   7       National news                192     8 / 7.7    1477\n",
      "   8       Community Events             193     8 / 7.5    1444\n",
      "   9       Weather                      193     8 / 7.2    1382\n",
      "  10       Political Analysis           193     8 / 7.0    1345\n",
      "  11       Traffic Reports              193     3 / 3.9     753\n"
     ]
    }
   ],
   "source": [
    "create_ranked_table_of_importances(df, 'Age', 5, 'Filter: Ages 65+')"
   ]
  },
  {
   "cell_type": "markdown",
   "id": "382c2009-1e4e-486b-91ce-dfb48a9b7e3e",
   "metadata": {
    "tags": []
   },
   "source": [
    "## By County"
   ]
  },
  {
   "cell_type": "markdown",
   "id": "9f56a511-51b3-49e5-9998-89ffe7f6d273",
   "metadata": {
    "tags": []
   },
   "source": [
    "### Boulder County"
   ]
  },
  {
   "cell_type": "code",
   "execution_count": 9,
   "id": "4dca8d45-71dd-4fa2-8b13-fd661587b646",
   "metadata": {
    "tags": [
     "remove-input"
    ]
   },
   "outputs": [
    {
     "name": "stdout",
     "output_type": "stream",
     "text": [
      "\n",
      "Ranking       Programming              Num      Median/   Score\n",
      "               Preference            Ratings     Mean          \n",
      "---------------------------------------------------------------\n",
      "   1       Music Programming            184    10 / 8.6    1575\n",
      "   2       Local Government Coverage    184     9 / 8.5    1567\n",
      "   3       Local News                   184     9 / 8.4    1552\n",
      "   4       Local Public Affairs         184     9 / 8.2    1516\n",
      "   5       Breaking news bulletins      184     9 / 8.2    1514\n",
      "   6       Community Events             184     9 / 8.1    1495\n",
      "   7       International news           184     8 / 7.6    1397\n",
      "   8       National news                184     8 / 7.4    1370\n",
      "   9       Political Analysis           184     8 / 7.0    1297\n",
      "  10       Weather                      184     7 / 6.5    1199\n",
      "  11       Traffic Reports              184     3 / 3.5     641\n"
     ]
    }
   ],
   "source": [
    "create_ranked_table_of_importances(df, 'County', 'Boulder', 'Filter: Boulder County')"
   ]
  },
  {
   "cell_type": "markdown",
   "id": "857a9142-259b-47d2-a898-98c3477a6ec2",
   "metadata": {
    "tags": []
   },
   "source": [
    "### Denver County"
   ]
  },
  {
   "cell_type": "code",
   "execution_count": 10,
   "id": "1d4c5e7a-223d-44b4-a23e-f81b2ed063e2",
   "metadata": {
    "tags": [
     "remove-input"
    ]
   },
   "outputs": [
    {
     "name": "stdout",
     "output_type": "stream",
     "text": [
      "\n",
      "Ranking       Programming              Num      Median/   Score\n",
      "               Preference            Ratings     Mean          \n",
      "---------------------------------------------------------------\n",
      "   1       Music Programming            71     10 / 8.5     600\n",
      "   2       Local Government Coverage    71      9 / 8.4     595\n",
      "   3       Local News                   71      9 / 8.1     578\n",
      "   4       Community Events             71      9 / 8.0     565\n",
      "   5       Local Public Affairs         71      8 / 7.9     561\n",
      "   6       National news                70      8 / 7.6     534\n",
      "   7       Breaking news bulletins      71      8 / 7.5     531\n",
      "   8       International news           71      8 / 7.4     528\n",
      "   9       Weather                      71      7 / 6.9     488\n",
      "  10       Political Analysis           71      7 / 6.8     485\n",
      "  11       Traffic Reports              71      4 / 4.1     292\n"
     ]
    }
   ],
   "source": [
    "create_ranked_table_of_importances(df, 'County', 'Denver', 'Filter: Denver County')"
   ]
  },
  {
   "cell_type": "markdown",
   "id": "626d3940-6396-41e7-97da-3aa975f55a76",
   "metadata": {
    "tags": []
   },
   "source": [
    "### Jefferson County"
   ]
  },
  {
   "cell_type": "code",
   "execution_count": 11,
   "id": "d5fe2e95-33c2-4e08-a236-dc29a114ba62",
   "metadata": {
    "tags": [
     "remove-input"
    ]
   },
   "outputs": [
    {
     "name": "stdout",
     "output_type": "stream",
     "text": [
      "\n",
      "Ranking       Programming              Num      Median/   Score\n",
      "               Preference            Ratings     Mean          \n",
      "---------------------------------------------------------------\n",
      "   1       Music Programming            45     10 / 8.4     379\n",
      "   2       Local News                   45      8 / 8.0     362\n",
      "   3       Breaking news bulletins      45      9 / 7.9     355\n",
      "   4       Local Government Coverage    45      9 / 7.8     350\n",
      "   5       Weather                      45      9 / 7.4     334\n",
      "   6       National news                45      8 / 7.2     326\n",
      "   7       Local Public Affairs         45      8 / 7.2     323\n",
      "   8       Community Events             45      7 / 7.1     321\n",
      "   9       International news           45      7 / 6.6     298\n",
      "  10       Political Analysis           45      6 / 5.6     253\n",
      "  11       Traffic Reports              45      3 / 3.7     167\n"
     ]
    }
   ],
   "source": [
    "create_ranked_table_of_importances(df, 'County', 'Jefferson', 'Filter: Jefferson County')"
   ]
  },
  {
   "cell_type": "markdown",
   "id": "093800d4-0b36-49c3-a17e-7d4ce6660959",
   "metadata": {
    "tags": []
   },
   "source": [
    "### Arapahoe County"
   ]
  },
  {
   "cell_type": "code",
   "execution_count": 12,
   "id": "46f71cbb-d5f5-4fd3-87d5-929fecc7a6ed",
   "metadata": {
    "tags": [
     "remove-input"
    ]
   },
   "outputs": [
    {
     "name": "stdout",
     "output_type": "stream",
     "text": [
      "\n",
      "Ranking       Programming              Num      Median/   Score\n",
      "               Preference            Ratings     Mean          \n",
      "---------------------------------------------------------------\n",
      "   1       Local Government Coverage    25      8 / 8.2     205\n",
      "   2       Breaking news bulletins      25      9 / 8.2     204\n",
      "   3       Music Programming            25     10 / 8.1     203\n",
      "   4       Local News                   25      9 / 8.1     202\n",
      "   5       Community Events             25      8 / 8.0     201\n",
      "   6       National news                25      8 / 7.8     195\n",
      "   7       Local Public Affairs         25      8 / 7.3     182\n",
      "   8       Weather                      25      7 / 6.9     172\n",
      "   9       Political Analysis           25      7 / 6.3     158\n",
      "  10       Traffic Reports              25      3 / 3.9      97\n"
     ]
    }
   ],
   "source": [
    "create_ranked_table_of_importances(df, 'County', 'Arapahoe', 'Filter: Arapahoe County')"
   ]
  },
  {
   "cell_type": "markdown",
   "id": "879e64cb-a3da-4e58-a8dc-7f92ca51b0a5",
   "metadata": {
    "tags": []
   },
   "source": [
    "### Adams County"
   ]
  },
  {
   "cell_type": "code",
   "execution_count": 13,
   "id": "0832da6f-a9cf-44db-8caf-ec46f62bb5eb",
   "metadata": {
    "tags": [
     "remove-input"
    ]
   },
   "outputs": [
    {
     "name": "stdout",
     "output_type": "stream",
     "text": [
      "\n",
      "Ranking       Programming              Num      Median/   Score\n",
      "               Preference            Ratings     Mean          \n",
      "---------------------------------------------------------------\n",
      "   1       Music Programming            19     10 / 8.4     159\n",
      "   2       International news           19      9 / 7.8     149\n",
      "   3       Local News                   19      8 / 7.8     148\n",
      "   4       Breaking news bulletins      19      9 / 7.5     143\n",
      "   5       Community Events             19      8 / 7.4     141\n",
      "   6       Weather                      19      9 / 7.3     139\n",
      "   7       Political Analysis           19      8 / 6.9     132\n",
      "   8       Traffic Reports              19      5 / 4.8      91\n"
     ]
    }
   ],
   "source": [
    "create_ranked_table_of_importances(df, 'County', 'Adams', 'Filter: Adams County')"
   ]
  },
  {
   "cell_type": "markdown",
   "id": "0854ac11-107d-4713-a05d-aa2fb9f9faf9",
   "metadata": {
    "tags": []
   },
   "source": [
    "### Larimer County"
   ]
  },
  {
   "cell_type": "code",
   "execution_count": 14,
   "id": "48f8486a-12ff-4fa6-b428-f8e21a8f423d",
   "metadata": {
    "tags": [
     "remove-input"
    ]
   },
   "outputs": [
    {
     "name": "stdout",
     "output_type": "stream",
     "text": [
      "\n",
      "Ranking       Programming              Num      Median/   Score\n",
      "               Preference            Ratings     Mean          \n",
      "---------------------------------------------------------------\n",
      "   1       Local News                   12      9 / 8.2      99\n",
      "   2       Breaking news bulletins      12      9 / 8.2      98\n",
      "   3       Weather                      12      8 / 7.7      92\n",
      "   4       Music Programming            12      8 / 7.4      89\n",
      "   5       Local Public Affairs         12      7 / 7.0      84\n",
      "   6       National news                12      8 / 6.9      83\n",
      "   7       International news           12      7 / 6.3      76\n",
      "   8       Traffic Reports              12      5 / 5.2      63\n",
      "   9       Political Analysis           12      3 / 4.5      54\n"
     ]
    }
   ],
   "source": [
    "create_ranked_table_of_importances(df, 'County', 'Larimer', 'Filter: Larimer County')"
   ]
  },
  {
   "cell_type": "markdown",
   "id": "9ce0e586-8ba5-41ce-b2b0-b0b546f6ae31",
   "metadata": {
    "tags": []
   },
   "source": [
    "### Weld County"
   ]
  },
  {
   "cell_type": "code",
   "execution_count": 15,
   "id": "77c3d1bd-3ed5-47fb-abfc-a122625d5b47",
   "metadata": {
    "tags": [
     "remove-input"
    ]
   },
   "outputs": [
    {
     "name": "stdout",
     "output_type": "stream",
     "text": [
      "\n",
      "Ranking       Programming              Num      Median/   Score\n",
      "               Preference            Ratings     Mean          \n",
      "---------------------------------------------------------------\n",
      "   1       Local Government Coverage    11     10 / 8.5      93\n",
      "   2       Weather                      11     10 / 8.4      92\n",
      "   3       Local News                   11     10 / 8.0      88\n",
      "   4       National news                11      8 / 7.3      80\n",
      "   5       Local Public Affairs         11      8 / 7.2      79\n",
      "   6       International news           11      8 / 6.8      75\n",
      "   7       Community Events             11      6 / 5.7      63\n",
      "   8       Political Analysis           11      6 / 5.5      61\n",
      "   9       Traffic Reports              11      5 / 5.5      60\n"
     ]
    }
   ],
   "source": [
    "create_ranked_table_of_importances(df, 'County', 'Weld', 'Filter: Weld County')"
   ]
  },
  {
   "cell_type": "markdown",
   "id": "4befb4d0-89e4-4d3b-8236-f2dea98a9000",
   "metadata": {
    "tags": []
   },
   "source": [
    "### Douglas County"
   ]
  },
  {
   "cell_type": "code",
   "execution_count": 16,
   "id": "f91c2c84-8308-4ccb-ad5c-71b065435480",
   "metadata": {
    "tags": [
     "remove-input"
    ]
   },
   "outputs": [
    {
     "name": "stdout",
     "output_type": "stream",
     "text": [
      "\n",
      "Ranking       Programming              Num      Median/   Score\n",
      "               Preference            Ratings     Mean          \n",
      "---------------------------------------------------------------\n",
      "   1       Music Programming            6      10 / 9.5      57\n",
      "   2       Local Government Coverage    6      10 / 9.0      54\n",
      "   3       Local News                   6       9 / 8.7      52\n",
      "   4       Weather                      6       9 / 8.3      50\n",
      "   5       National news                6      10 / 7.8      47\n",
      "   6       International news           6       9 / 7.7      46\n",
      "   7       Local Public Affairs         6       8 / 7.5      45\n",
      "   8       Community Events             6       9 / 7.3      44\n",
      "   9       Traffic Reports              6       5 / 5.2      31\n"
     ]
    }
   ],
   "source": [
    "create_ranked_table_of_importances(df, 'County', 'Douglas', 'Filter: Douglas County')"
   ]
  },
  {
   "cell_type": "markdown",
   "id": "cbe6aa38-963f-490e-96fb-d9553c77f1ed",
   "metadata": {
    "tags": []
   },
   "source": [
    "### Broomfield County"
   ]
  },
  {
   "cell_type": "code",
   "execution_count": 17,
   "id": "4ee33bde-5e37-4ddd-93a4-9e10120e1a46",
   "metadata": {
    "tags": [
     "remove-input"
    ]
   },
   "outputs": [
    {
     "name": "stdout",
     "output_type": "stream",
     "text": [
      "\n",
      "Ranking       Programming              Num      Median/   Score\n",
      "               Preference            Ratings     Mean          \n",
      "---------------------------------------------------------------\n",
      "   1       Music Programming            5      10 / 8.0      40\n",
      "   2       Local Government Coverage    5       8 / 7.6      38\n",
      "   3       Local Public Affairs         5       8 / 7.4      37\n",
      "   4       Local News                   5       7 / 6.8      34\n",
      "   5       National news                5       8 / 6.2      31\n",
      "   6       International news           5       7 / 6.0      30\n",
      "   7       Weather                      5       8 / 5.6      28\n",
      "   8       Political Analysis           5       6 / 5.4      27\n",
      "   9       Traffic Reports              5       4 / 3.6      18\n"
     ]
    }
   ],
   "source": [
    "create_ranked_table_of_importances(df, 'County', 'Broomfield', 'Filter: Broomfield County')"
   ]
  },
  {
   "cell_type": "markdown",
   "id": "edc45429-11f7-4faa-acc4-c60d0b7e6ff4",
   "metadata": {
    "tags": []
   },
   "source": [
    "### All Other Counties"
   ]
  },
  {
   "cell_type": "code",
   "execution_count": 18,
   "id": "bdd58c64-936e-496f-88b1-c6cc6821737e",
   "metadata": {
    "tags": [
     "remove-input"
    ]
   },
   "outputs": [
    {
     "name": "stdout",
     "output_type": "stream",
     "text": [
      "\n",
      "Ranking       Programming              Num      Median/   Score\n",
      "               Preference            Ratings     Mean          \n",
      "---------------------------------------------------------------\n",
      "   1       Music Programming            60      9 / 8.2     489\n",
      "   2       International news           60      8 / 7.6     456\n",
      "   3       Local News                   60      8 / 7.5     452\n",
      "   4       National news                60      8 / 7.4     445\n",
      "   5       Breaking news bulletins      60      8 / 7.3     441\n",
      "   6       Local Government Coverage    60      8 / 7.3     438\n",
      "   7       Community Events             60      8 / 7.3     437\n",
      "   8       Local Public Affairs         60      8 / 7.0     422\n",
      "   9       Political Analysis           60      7 / 6.7     402\n",
      "  10       Weather                      60      7 / 6.4     382\n",
      "  11       Traffic Reports              60      3 / 3.8     225\n"
     ]
    }
   ],
   "source": [
    "create_ranked_table_of_importances(df, 'other_counties', '', 'Filter: All Other Counties')"
   ]
  },
  {
   "cell_type": "markdown",
   "id": "6ea9226d-d21e-441d-b6a1-1d3876486706",
   "metadata": {},
   "source": [
    "## By Race"
   ]
  },
  {
   "cell_type": "markdown",
   "id": "7bf27cb4-cdc4-4b4f-b757-80ab925d16c6",
   "metadata": {
    "tags": []
   },
   "source": [
    "### Black or African American"
   ]
  },
  {
   "cell_type": "code",
   "execution_count": 19,
   "id": "7b04b2a5-c276-473e-a851-9ba9b02916a8",
   "metadata": {
    "tags": [
     "remove-input"
    ]
   },
   "outputs": [
    {
     "name": "stdout",
     "output_type": "stream",
     "text": [
      "\n",
      "Ranking       Programming              Num      Median/   Score\n",
      "               Preference            Ratings     Mean          \n",
      "---------------------------------------------------------------\n",
      "   1       International news           2      10 /10.0      20\n",
      "   2       Traffic Reports              2       9 / 9.5      19\n",
      "   3       Local News                   2       8 / 8.0      16\n",
      "   4       National news                2       7 / 7.0      14\n",
      "   5       Community Events             2       6 / 6.5      13\n",
      "   6       Music Programming            2       5 / 5.0      10\n"
     ]
    }
   ],
   "source": [
    "create_ranked_table_of_importances(df, 'You_Are', 'Black or African American', 'Filter: Black or African American')"
   ]
  },
  {
   "cell_type": "markdown",
   "id": "538ad1b1-edb6-4385-bbb6-6b5cfc6ca1c4",
   "metadata": {
    "tags": []
   },
   "source": [
    "### Hispanic, Latino, Chicano"
   ]
  },
  {
   "cell_type": "code",
   "execution_count": 20,
   "id": "1c435729-028f-4b1a-9661-41c635bf4af0",
   "metadata": {
    "tags": [
     "remove-input"
    ]
   },
   "outputs": [
    {
     "name": "stdout",
     "output_type": "stream",
     "text": [
      "\n",
      "Ranking       Programming              Num      Median/   Score\n",
      "               Preference            Ratings     Mean          \n",
      "---------------------------------------------------------------\n",
      "   1       Community Events             11      9 / 8.4      92\n",
      "   2       Music Programming            11      9 / 7.8      86\n",
      "   3       Local News                   11      8 / 7.7      85\n",
      "   4       National news                11      8 / 7.5      83\n",
      "   5       Local Public Affairs         11      7 / 7.4      81\n",
      "   6       Weather                      11      7 / 7.1      78\n",
      "   7       International news           11      8 / 6.9      76\n",
      "   8       Political Analysis           11      7 / 6.5      72\n",
      "   9       Traffic Reports              11      5 / 4.5      49\n"
     ]
    }
   ],
   "source": [
    "create_ranked_table_of_importances(df, 'You_Are', 'Hispanic, Latino/a/x, Chicano/a/x', 'Filter: Hispanic, Latino, Chicano')"
   ]
  },
  {
   "cell_type": "markdown",
   "id": "aed31b38-ec7f-426c-bc7b-4e05f95fe718",
   "metadata": {
    "tags": []
   },
   "source": [
    "### Middle Eastern or Arab"
   ]
  },
  {
   "cell_type": "code",
   "execution_count": 21,
   "id": "8812d41f-83de-4018-9c9e-550d676f869b",
   "metadata": {
    "tags": [
     "remove-input"
    ]
   },
   "outputs": [
    {
     "name": "stdout",
     "output_type": "stream",
     "text": [
      "\n",
      "Ranking       Programming              Num      Median/   Score\n",
      "               Preference            Ratings     Mean          \n",
      "---------------------------------------------------------------\n",
      "   1       Breaking news bulletins      3      10 / 9.7      29\n",
      "   2       Music Programming            3      10 / 8.7      26\n",
      "   3       Weather                      3      10 / 8.3      25\n",
      "   4       Local News                   3       9 / 8.0      24\n",
      "   5       Local Public Affairs         3       9 / 7.7      23\n",
      "   6       International news           3       9 / 6.7      20\n",
      "   7       Political Analysis           3       7 / 6.0      18\n",
      "   8       National news                3       4 / 5.0      15\n",
      "   9       Traffic Reports              3       2 / 4.3      13\n"
     ]
    }
   ],
   "source": [
    "create_ranked_table_of_importances(df, 'You_Are', 'Middle Eastern or Arab', 'Filter: Middle Eastern or Arab')"
   ]
  },
  {
   "cell_type": "markdown",
   "id": "6aff8abb-0d82-4048-852c-242d558937a3",
   "metadata": {
    "tags": []
   },
   "source": [
    "### Native American or Native Alaskan"
   ]
  },
  {
   "cell_type": "code",
   "execution_count": 22,
   "id": "a32ad7e7-0d76-4336-b993-f5f359ee56db",
   "metadata": {
    "tags": [
     "remove-input"
    ]
   },
   "outputs": [
    {
     "name": "stdout",
     "output_type": "stream",
     "text": [
      "\n",
      "Ranking       Programming              Num      Median/   Score\n",
      "               Preference            Ratings     Mean          \n",
      "---------------------------------------------------------------\n",
      "   1       Breaking news bulletins      4       9 / 8.8      35\n",
      "   2       Weather                      4       9 / 8.5      34\n",
      "   3       Local News                   4       8 / 8.2      33\n",
      "   4       Local Government Coverage    4       6 / 6.5      26\n",
      "   5       National news                4       5 / 5.8      23\n",
      "   6       Traffic Reports              4       3 / 3.8      15\n",
      "   7       Political Analysis           4       1 / 2.5      10\n"
     ]
    }
   ],
   "source": [
    "create_ranked_table_of_importances(df, 'You_Are', 'Native American or Native Alaskan', 'Filter: Native American or Native Alaskan')"
   ]
  },
  {
   "cell_type": "markdown",
   "id": "c63d37af-885e-4871-833d-55b945b1f1b3",
   "metadata": {
    "tags": []
   },
   "source": [
    "### Native Hawaiian or Pacific Islander"
   ]
  },
  {
   "cell_type": "code",
   "execution_count": 23,
   "id": "7d5b81c6-729b-47a7-b447-3df261a4f181",
   "metadata": {
    "tags": [
     "remove-input"
    ]
   },
   "outputs": [
    {
     "name": "stdout",
     "output_type": "stream",
     "text": [
      "\n",
      "Ranking       Programming              Num      Median/   Score\n",
      "               Preference            Ratings     Mean          \n",
      "---------------------------------------------------------------\n",
      "   1       Weather                      1      10 /10.0      10\n",
      "   2       Music Programming            1       9 / 9.0       9\n",
      "   3       National news                1       8 / 8.0       8\n",
      "   4       Local News                   1       7 / 7.0       7\n",
      "   5       Community Events             1       3 / 3.0       3\n"
     ]
    }
   ],
   "source": [
    "create_ranked_table_of_importances(df, 'You_Are', 'Native Hawaiian or Pacific Islander', 'Filter: Native Hawaiian or Pacific Islander')"
   ]
  },
  {
   "cell_type": "markdown",
   "id": "a23094d2-d057-46e8-bcfb-b3a362dcae6a",
   "metadata": {
    "tags": []
   },
   "source": [
    "### Prefer not to say"
   ]
  },
  {
   "cell_type": "code",
   "execution_count": 24,
   "id": "7d677cb5-812c-4c03-95c6-6fdc8727a789",
   "metadata": {
    "tags": [
     "remove-input"
    ]
   },
   "outputs": [
    {
     "name": "stdout",
     "output_type": "stream",
     "text": [
      "\n",
      "Ranking       Programming              Num      Median/   Score\n",
      "               Preference            Ratings     Mean          \n",
      "---------------------------------------------------------------\n",
      "   1       Music Programming            25     10 / 9.0     225\n",
      "   2       National news                25      9 / 8.3     207\n",
      "   3       International news           25      9 / 8.2     206\n",
      "   4       Community Events             25      9 / 7.9     198\n",
      "   5       Local News                   25      9 / 7.7     193\n",
      "   6       Local Government Coverage    25      8 / 7.4     186\n",
      "   7       Breaking news bulletins      25      8 / 7.4     185\n",
      "   8       Local Public Affairs         25      7 / 7.1     177\n",
      "   9       Political Analysis           25      7 / 6.6     165\n",
      "  10       Weather                      25      7 / 6.4     159\n",
      "  11       Traffic Reports              25      3 / 3.3      82\n"
     ]
    }
   ],
   "source": [
    "create_ranked_table_of_importances(df, 'You_Are', 'Prefer not to say', 'Filter: Prefer not to say')"
   ]
  },
  {
   "cell_type": "markdown",
   "id": "3306244e-4dc8-4b30-9d99-d6295e32f549",
   "metadata": {
    "tags": []
   },
   "source": [
    "### Prefer to self identify"
   ]
  },
  {
   "cell_type": "code",
   "execution_count": 25,
   "id": "1e33e3e3-3374-4cda-85b7-dae48d05db84",
   "metadata": {
    "tags": [
     "remove-input"
    ]
   },
   "outputs": [
    {
     "name": "stdout",
     "output_type": "stream",
     "text": [
      "\n",
      "Ranking       Programming              Num      Median/   Score\n",
      "               Preference            Ratings     Mean          \n",
      "---------------------------------------------------------------\n",
      "   1       Local News                   29     10 / 8.4     245\n",
      "   2       Local Government Coverage    29      9 / 8.2     239\n",
      "   3       Music Programming            29     10 / 8.1     235\n",
      "   4       International news           29      9 / 8.0     233\n",
      "   5       Community Events             29      8 / 7.9     230\n",
      "   6       National news                29      9 / 7.8     227\n",
      "   7       Breaking news bulletins      29      9 / 7.8     225\n",
      "   8       Weather                      29      8 / 6.6     190\n",
      "   9       Traffic Reports              29      2 / 3.3      97\n"
     ]
    }
   ],
   "source": [
    "create_ranked_table_of_importances(df, 'You_Are', 'Prefer to self identify:', 'Filter: Prefer to self identify')"
   ]
  },
  {
   "cell_type": "markdown",
   "id": "90ad8fef-9dc5-4c1e-bab5-5797cd4cce0f",
   "metadata": {
    "tags": []
   },
   "source": [
    "### White"
   ]
  },
  {
   "cell_type": "code",
   "execution_count": 26,
   "id": "8834a875-6098-4db3-bbd9-d2b76af3bd75",
   "metadata": {
    "tags": [
     "remove-input"
    ]
   },
   "outputs": [
    {
     "name": "stdout",
     "output_type": "stream",
     "text": [
      "\n",
      "Ranking       Programming              Num      Median/   Score\n",
      "               Preference            Ratings     Mean          \n",
      "---------------------------------------------------------------\n",
      "   1       Music Programming            268    10 / 8.8    2350\n",
      "   2       Local Government Coverage    268     9 / 8.5    2265\n",
      "   3       Local News                   268     9 / 8.3    2222\n",
      "   4       Community Events             268     9 / 8.1    2163\n",
      "   5       Breaking news bulletins      268     9 / 8.0    2155\n",
      "   6       Local Public Affairs         268     9 / 8.0    2152\n",
      "   7       International news           268     8 / 7.7    2054\n",
      "   8       National news                267     8 / 7.5    2004\n",
      "   9       Political Analysis           268     7 / 7.0    1873\n",
      "  10       Weather                      268     7 / 6.6    1775\n",
      "  11       Traffic Reports              268     3 / 3.6     952\n"
     ]
    }
   ],
   "source": [
    "create_ranked_table_of_importances(df, 'You_Are', 'White', 'Filter: White')"
   ]
  },
  {
   "cell_type": "code",
   "execution_count": null,
   "id": "f50ee0d3-8f0a-44da-a5ce-619461efdb8d",
   "metadata": {},
   "outputs": [],
   "source": []
  }
 ],
 "metadata": {
  "kernelspec": {
   "display_name": "Python 3 (ipykernel)",
   "language": "python",
   "name": "python3"
  },
  "language_info": {
   "codemirror_mode": {
    "name": "ipython",
    "version": 3
   },
   "file_extension": ".py",
   "mimetype": "text/x-python",
   "name": "python",
   "nbconvert_exporter": "python",
   "pygments_lexer": "ipython3",
   "version": "3.9.12"
  }
 },
 "nbformat": 4,
 "nbformat_minor": 5
}